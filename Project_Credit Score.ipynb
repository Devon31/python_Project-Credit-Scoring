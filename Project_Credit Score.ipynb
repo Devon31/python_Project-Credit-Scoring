{
 "cells": [
  {
   "cell_type": "markdown",
   "metadata": {},
   "source": [
    "# Menganalisis Risiko Gagal Bayar Peminjam\n",
    "\n",
    "Tugas Anda adalah menyiapkan laporan untuk divisi kredit suatu bank. Anda akan mencari tahu pengaruh status perkawinan seorang nasabah dan jumlah anak yang dimilikinya terhadap probabilitas gagal bayar dalam pelunasan pinjaman. Pihak bank sudah memiliki beberapa data mengenai kelayakan kredit nasabah.\n",
    "\n",
    "Laporan Anda akan dipertimbangkan pada saat membuat **penilaian kredit** untuk calon nasabah. **Penilaian kredit** digunakan untuk mengevaluasi kemampuan calon peminjam untuk melunasi pinjaman mereka."
   ]
  },
  {
   "cell_type": "markdown",
   "metadata": {},
   "source": [
    "# Daftar Isi\n",
    "\n",
    "* [Tujuan Proyek](#tujuan)\n",
    "* [Import Library dan Membaca Dataset](#import)\n",
    "* [Eksplorasi Data](#explore)\n",
    "    * [Kesimpulan Eksplorasi Data](#summary_data)\n",
    "* [Transformasi Data](#transformation_data)\n",
    "    * [Memperbaiki Kolom `education`](#education_column)\n",
    "    * [Kolom : `children`](#children_column)\n",
    "    * [Kolom : `days_employed`](#days_employed_column)\n",
    "    * [Kolom : `dob_years`](#dob_years_column)\n",
    "    * [Kolom : `family_status`](#family_status_column)\n",
    "    * [Kolom : `gender`](#gender_column)\n",
    "    * [Kolom : `income_type`](#income_type__column)\n",
    "* [Bekerja dengan Nilai yang Hilang](#null_data)\n",
    "    * [Kolom : `total_income`](#null_total_income)\n",
    "    * [Kolom : `days_employed`](#null_days_employed)\n",
    "* [Pengkategorian Data](#category_data)\n",
    "    * [Kolom : `children`](#category_children)\n",
    "    * [Kolom : `education`](#category_education)\n",
    "    * [Kolom : `family_status`](#category_family_status)\n",
    "    * [Kolom : `purpose`](#category_purpose)\n",
    "    * [Kolom : `total_income`](#category_total_income)\n",
    "    * [Kolom : `age`](#category_age)\n",
    "    * [Kolom : `debt`](#category_debt)\n",
    "* [Memeriksa Hipotesis](#check_hypothesis)\n",
    "    * [Jumlah Anak](#children_number)\n",
    "    * [Status Keluarga](#family_status)\n",
    "    * [Tingkat Pendapatan](#total_income)\n",
    "    * [Tujuan](#purpose)\n",
    "* [Kesimpulan Umum](#general_conclusion)    "
   ]
  },
  {
   "cell_type": "markdown",
   "metadata": {},
   "source": [
    "# Tujuan Proyek <a id='tujuan'></a>\n",
    "**Tujuan dari proyek ini adalah:**\n",
    "1. Mengidentifikasi nilai-nilai yang hilang\n",
    "2. Mengganti tipe data menjadi tipe data yang dibutuhkan\n",
    "3. Menghapus data duplikat\n",
    "4. Mengkategorikan data\n",
    "\n",
    "**Analisis data untuk menjawab apakah ada hubungan antara gagal bayar dengan:**\n",
    "1. Jumlah anak\n",
    "2. Status perkawinan\n",
    "3. Tingkat pendapatan\n",
    "4. Tujuan peminjaman"
   ]
  },
  {
   "cell_type": "markdown",
   "metadata": {},
   "source": [
    "# Buka *file* data dan baca informasi umumnya. <a id='import'></a>"
   ]
  },
  {
   "cell_type": "code",
   "execution_count": 386,
   "metadata": {},
   "outputs": [],
   "source": [
    "# Muat semua *library*\n",
    "import pandas as pd\n",
    "import numpy as np\n",
    "import seaborn as sns\n",
    "import matplotlib.pyplot as plt\n",
    "from nltk.stem import SnowballStemmer \n",
    "from IPython.core.pylabtools import figsize"
   ]
  },
  {
   "cell_type": "code",
   "execution_count": 387,
   "metadata": {},
   "outputs": [],
   "source": [
    "# Memuat Data\n",
    "cs_data = pd.read_csv('/datasets/credit_scoring_eng.csv')"
   ]
  },
  {
   "cell_type": "markdown",
   "metadata": {},
   "source": [
    "# Eksplorasi data <a id='explore'></a>\n",
    "\n",
    "**Deskripsi Data**\n",
    "- `children` - jumlah anak dalam keluarga\n",
    "- `days_employed` - pengalaman kerja nasabah dalam hari\n",
    "- `dob_years` - usia nasabah dalam tahun\n",
    "- `education` - tingkat pendidikan nasabah\n",
    "- `education_id` - pengidentifikasi untuk tingkat pendidikan nasabah\n",
    "- `family_status` - pengidentifikasi untuk status perkawinan nasabah\n",
    "- `family_status_id` - tanda pengenal status perkawinan\n",
    "- `gender` - jenis kelamin nasabah\n",
    "- `income_type` - jenis pekerjaan\n",
    "- `debt` - apakah nasabah pernah melakukan gagal bayar pinjaman\n",
    "- `total_income` - pendapatan bulanan\n",
    "- `purpose` - tujuan mendapatkan pinjaman"
   ]
  },
  {
   "cell_type": "code",
   "execution_count": 388,
   "metadata": {},
   "outputs": [
    {
     "data": {
      "text/plain": [
       "(21525, 12)"
      ]
     },
     "execution_count": 388,
     "metadata": {},
     "output_type": "execute_result"
    }
   ],
   "source": [
    "# Mari kita lihat berapa banyak baris dan kolom yang dimiliki oleh dataset kita\n",
    "cs_data.shape"
   ]
  },
  {
   "cell_type": "code",
   "execution_count": 389,
   "metadata": {
    "scrolled": false
   },
   "outputs": [
    {
     "data": {
      "text/html": [
       "<div>\n",
       "<style scoped>\n",
       "    .dataframe tbody tr th:only-of-type {\n",
       "        vertical-align: middle;\n",
       "    }\n",
       "\n",
       "    .dataframe tbody tr th {\n",
       "        vertical-align: top;\n",
       "    }\n",
       "\n",
       "    .dataframe thead th {\n",
       "        text-align: right;\n",
       "    }\n",
       "</style>\n",
       "<table border=\"1\" class=\"dataframe\">\n",
       "  <thead>\n",
       "    <tr style=\"text-align: right;\">\n",
       "      <th></th>\n",
       "      <th>children</th>\n",
       "      <th>days_employed</th>\n",
       "      <th>dob_years</th>\n",
       "      <th>education</th>\n",
       "      <th>education_id</th>\n",
       "      <th>family_status</th>\n",
       "      <th>family_status_id</th>\n",
       "      <th>gender</th>\n",
       "      <th>income_type</th>\n",
       "      <th>debt</th>\n",
       "      <th>total_income</th>\n",
       "      <th>purpose</th>\n",
       "    </tr>\n",
       "  </thead>\n",
       "  <tbody>\n",
       "    <tr>\n",
       "      <th>0</th>\n",
       "      <td>1</td>\n",
       "      <td>-8437.673028</td>\n",
       "      <td>42</td>\n",
       "      <td>bachelor's degree</td>\n",
       "      <td>0</td>\n",
       "      <td>married</td>\n",
       "      <td>0</td>\n",
       "      <td>F</td>\n",
       "      <td>employee</td>\n",
       "      <td>0</td>\n",
       "      <td>40620.102</td>\n",
       "      <td>purchase of the house</td>\n",
       "    </tr>\n",
       "    <tr>\n",
       "      <th>1</th>\n",
       "      <td>1</td>\n",
       "      <td>-4024.803754</td>\n",
       "      <td>36</td>\n",
       "      <td>secondary education</td>\n",
       "      <td>1</td>\n",
       "      <td>married</td>\n",
       "      <td>0</td>\n",
       "      <td>F</td>\n",
       "      <td>employee</td>\n",
       "      <td>0</td>\n",
       "      <td>17932.802</td>\n",
       "      <td>car purchase</td>\n",
       "    </tr>\n",
       "    <tr>\n",
       "      <th>2</th>\n",
       "      <td>0</td>\n",
       "      <td>-5623.422610</td>\n",
       "      <td>33</td>\n",
       "      <td>Secondary Education</td>\n",
       "      <td>1</td>\n",
       "      <td>married</td>\n",
       "      <td>0</td>\n",
       "      <td>M</td>\n",
       "      <td>employee</td>\n",
       "      <td>0</td>\n",
       "      <td>23341.752</td>\n",
       "      <td>purchase of the house</td>\n",
       "    </tr>\n",
       "    <tr>\n",
       "      <th>3</th>\n",
       "      <td>3</td>\n",
       "      <td>-4124.747207</td>\n",
       "      <td>32</td>\n",
       "      <td>secondary education</td>\n",
       "      <td>1</td>\n",
       "      <td>married</td>\n",
       "      <td>0</td>\n",
       "      <td>M</td>\n",
       "      <td>employee</td>\n",
       "      <td>0</td>\n",
       "      <td>42820.568</td>\n",
       "      <td>supplementary education</td>\n",
       "    </tr>\n",
       "    <tr>\n",
       "      <th>4</th>\n",
       "      <td>0</td>\n",
       "      <td>340266.072047</td>\n",
       "      <td>53</td>\n",
       "      <td>secondary education</td>\n",
       "      <td>1</td>\n",
       "      <td>civil partnership</td>\n",
       "      <td>1</td>\n",
       "      <td>F</td>\n",
       "      <td>retiree</td>\n",
       "      <td>0</td>\n",
       "      <td>25378.572</td>\n",
       "      <td>to have a wedding</td>\n",
       "    </tr>\n",
       "  </tbody>\n",
       "</table>\n",
       "</div>"
      ],
      "text/plain": [
       "   children  days_employed  dob_years            education  education_id  \\\n",
       "0         1   -8437.673028         42    bachelor's degree             0   \n",
       "1         1   -4024.803754         36  secondary education             1   \n",
       "2         0   -5623.422610         33  Secondary Education             1   \n",
       "3         3   -4124.747207         32  secondary education             1   \n",
       "4         0  340266.072047         53  secondary education             1   \n",
       "\n",
       "       family_status  family_status_id gender income_type  debt  total_income  \\\n",
       "0            married                 0      F    employee     0     40620.102   \n",
       "1            married                 0      F    employee     0     17932.802   \n",
       "2            married                 0      M    employee     0     23341.752   \n",
       "3            married                 0      M    employee     0     42820.568   \n",
       "4  civil partnership                 1      F     retiree     0     25378.572   \n",
       "\n",
       "                   purpose  \n",
       "0    purchase of the house  \n",
       "1             car purchase  \n",
       "2    purchase of the house  \n",
       "3  supplementary education  \n",
       "4        to have a wedding  "
      ]
     },
     "execution_count": 389,
     "metadata": {},
     "output_type": "execute_result"
    }
   ],
   "source": [
    "# Mari tampilkan N baris pertama\n",
    "cs_data.head()"
   ]
  },
  {
   "cell_type": "code",
   "execution_count": 390,
   "metadata": {
    "scrolled": true
   },
   "outputs": [
    {
     "data": {
      "text/html": [
       "<div>\n",
       "<style scoped>\n",
       "    .dataframe tbody tr th:only-of-type {\n",
       "        vertical-align: middle;\n",
       "    }\n",
       "\n",
       "    .dataframe tbody tr th {\n",
       "        vertical-align: top;\n",
       "    }\n",
       "\n",
       "    .dataframe thead th {\n",
       "        text-align: right;\n",
       "    }\n",
       "</style>\n",
       "<table border=\"1\" class=\"dataframe\">\n",
       "  <thead>\n",
       "    <tr style=\"text-align: right;\">\n",
       "      <th></th>\n",
       "      <th>children</th>\n",
       "      <th>days_employed</th>\n",
       "      <th>dob_years</th>\n",
       "      <th>education</th>\n",
       "      <th>education_id</th>\n",
       "      <th>family_status</th>\n",
       "      <th>family_status_id</th>\n",
       "      <th>gender</th>\n",
       "      <th>income_type</th>\n",
       "      <th>debt</th>\n",
       "      <th>total_income</th>\n",
       "      <th>purpose</th>\n",
       "    </tr>\n",
       "  </thead>\n",
       "  <tbody>\n",
       "    <tr>\n",
       "      <th>21520</th>\n",
       "      <td>1</td>\n",
       "      <td>-4529.316663</td>\n",
       "      <td>43</td>\n",
       "      <td>secondary education</td>\n",
       "      <td>1</td>\n",
       "      <td>civil partnership</td>\n",
       "      <td>1</td>\n",
       "      <td>F</td>\n",
       "      <td>business</td>\n",
       "      <td>0</td>\n",
       "      <td>35966.698</td>\n",
       "      <td>housing transactions</td>\n",
       "    </tr>\n",
       "    <tr>\n",
       "      <th>21521</th>\n",
       "      <td>0</td>\n",
       "      <td>343937.404131</td>\n",
       "      <td>67</td>\n",
       "      <td>secondary education</td>\n",
       "      <td>1</td>\n",
       "      <td>married</td>\n",
       "      <td>0</td>\n",
       "      <td>F</td>\n",
       "      <td>retiree</td>\n",
       "      <td>0</td>\n",
       "      <td>24959.969</td>\n",
       "      <td>purchase of a car</td>\n",
       "    </tr>\n",
       "    <tr>\n",
       "      <th>21522</th>\n",
       "      <td>1</td>\n",
       "      <td>-2113.346888</td>\n",
       "      <td>38</td>\n",
       "      <td>secondary education</td>\n",
       "      <td>1</td>\n",
       "      <td>civil partnership</td>\n",
       "      <td>1</td>\n",
       "      <td>M</td>\n",
       "      <td>employee</td>\n",
       "      <td>1</td>\n",
       "      <td>14347.610</td>\n",
       "      <td>property</td>\n",
       "    </tr>\n",
       "    <tr>\n",
       "      <th>21523</th>\n",
       "      <td>3</td>\n",
       "      <td>-3112.481705</td>\n",
       "      <td>38</td>\n",
       "      <td>secondary education</td>\n",
       "      <td>1</td>\n",
       "      <td>married</td>\n",
       "      <td>0</td>\n",
       "      <td>M</td>\n",
       "      <td>employee</td>\n",
       "      <td>1</td>\n",
       "      <td>39054.888</td>\n",
       "      <td>buying my own car</td>\n",
       "    </tr>\n",
       "    <tr>\n",
       "      <th>21524</th>\n",
       "      <td>2</td>\n",
       "      <td>-1984.507589</td>\n",
       "      <td>40</td>\n",
       "      <td>secondary education</td>\n",
       "      <td>1</td>\n",
       "      <td>married</td>\n",
       "      <td>0</td>\n",
       "      <td>F</td>\n",
       "      <td>employee</td>\n",
       "      <td>0</td>\n",
       "      <td>13127.587</td>\n",
       "      <td>to buy a car</td>\n",
       "    </tr>\n",
       "  </tbody>\n",
       "</table>\n",
       "</div>"
      ],
      "text/plain": [
       "       children  days_employed  dob_years            education  education_id  \\\n",
       "21520         1   -4529.316663         43  secondary education             1   \n",
       "21521         0  343937.404131         67  secondary education             1   \n",
       "21522         1   -2113.346888         38  secondary education             1   \n",
       "21523         3   -3112.481705         38  secondary education             1   \n",
       "21524         2   -1984.507589         40  secondary education             1   \n",
       "\n",
       "           family_status  family_status_id gender income_type  debt  \\\n",
       "21520  civil partnership                 1      F    business     0   \n",
       "21521            married                 0      F     retiree     0   \n",
       "21522  civil partnership                 1      M    employee     1   \n",
       "21523            married                 0      M    employee     1   \n",
       "21524            married                 0      F    employee     0   \n",
       "\n",
       "       total_income               purpose  \n",
       "21520     35966.698  housing transactions  \n",
       "21521     24959.969     purchase of a car  \n",
       "21522     14347.610              property  \n",
       "21523     39054.888     buying my own car  \n",
       "21524     13127.587          to buy a car  "
      ]
     },
     "execution_count": 390,
     "metadata": {},
     "output_type": "execute_result"
    }
   ],
   "source": [
    "cs_data.tail()"
   ]
  },
  {
   "cell_type": "code",
   "execution_count": 391,
   "metadata": {},
   "outputs": [
    {
     "data": {
      "text/html": [
       "<div>\n",
       "<style scoped>\n",
       "    .dataframe tbody tr th:only-of-type {\n",
       "        vertical-align: middle;\n",
       "    }\n",
       "\n",
       "    .dataframe tbody tr th {\n",
       "        vertical-align: top;\n",
       "    }\n",
       "\n",
       "    .dataframe thead th {\n",
       "        text-align: right;\n",
       "    }\n",
       "</style>\n",
       "<table border=\"1\" class=\"dataframe\">\n",
       "  <thead>\n",
       "    <tr style=\"text-align: right;\">\n",
       "      <th></th>\n",
       "      <th>children</th>\n",
       "      <th>days_employed</th>\n",
       "      <th>dob_years</th>\n",
       "      <th>education</th>\n",
       "      <th>education_id</th>\n",
       "      <th>family_status</th>\n",
       "      <th>family_status_id</th>\n",
       "      <th>gender</th>\n",
       "      <th>income_type</th>\n",
       "      <th>debt</th>\n",
       "      <th>total_income</th>\n",
       "      <th>purpose</th>\n",
       "    </tr>\n",
       "  </thead>\n",
       "  <tbody>\n",
       "    <tr>\n",
       "      <th>16708</th>\n",
       "      <td>1</td>\n",
       "      <td>-1213.419276</td>\n",
       "      <td>48</td>\n",
       "      <td>bachelor's degree</td>\n",
       "      <td>0</td>\n",
       "      <td>married</td>\n",
       "      <td>0</td>\n",
       "      <td>M</td>\n",
       "      <td>employee</td>\n",
       "      <td>0</td>\n",
       "      <td>51621.924</td>\n",
       "      <td>cars</td>\n",
       "    </tr>\n",
       "    <tr>\n",
       "      <th>10842</th>\n",
       "      <td>0</td>\n",
       "      <td>-2705.749355</td>\n",
       "      <td>48</td>\n",
       "      <td>secondary education</td>\n",
       "      <td>1</td>\n",
       "      <td>married</td>\n",
       "      <td>0</td>\n",
       "      <td>F</td>\n",
       "      <td>employee</td>\n",
       "      <td>0</td>\n",
       "      <td>16648.693</td>\n",
       "      <td>buy real estate</td>\n",
       "    </tr>\n",
       "    <tr>\n",
       "      <th>2109</th>\n",
       "      <td>0</td>\n",
       "      <td>-456.476062</td>\n",
       "      <td>28</td>\n",
       "      <td>SECONDARY EDUCATION</td>\n",
       "      <td>1</td>\n",
       "      <td>unmarried</td>\n",
       "      <td>4</td>\n",
       "      <td>M</td>\n",
       "      <td>employee</td>\n",
       "      <td>0</td>\n",
       "      <td>19592.626</td>\n",
       "      <td>to get a supplementary education</td>\n",
       "    </tr>\n",
       "    <tr>\n",
       "      <th>9916</th>\n",
       "      <td>0</td>\n",
       "      <td>373994.339305</td>\n",
       "      <td>57</td>\n",
       "      <td>bachelor's degree</td>\n",
       "      <td>0</td>\n",
       "      <td>divorced</td>\n",
       "      <td>3</td>\n",
       "      <td>F</td>\n",
       "      <td>retiree</td>\n",
       "      <td>0</td>\n",
       "      <td>17811.661</td>\n",
       "      <td>car</td>\n",
       "    </tr>\n",
       "    <tr>\n",
       "      <th>10228</th>\n",
       "      <td>1</td>\n",
       "      <td>-116.488779</td>\n",
       "      <td>38</td>\n",
       "      <td>secondary education</td>\n",
       "      <td>1</td>\n",
       "      <td>unmarried</td>\n",
       "      <td>4</td>\n",
       "      <td>F</td>\n",
       "      <td>employee</td>\n",
       "      <td>0</td>\n",
       "      <td>11290.431</td>\n",
       "      <td>buying property for renting out</td>\n",
       "    </tr>\n",
       "  </tbody>\n",
       "</table>\n",
       "</div>"
      ],
      "text/plain": [
       "       children  days_employed  dob_years            education  education_id  \\\n",
       "16708         1   -1213.419276         48    bachelor's degree             0   \n",
       "10842         0   -2705.749355         48  secondary education             1   \n",
       "2109          0    -456.476062         28  SECONDARY EDUCATION             1   \n",
       "9916          0  373994.339305         57    bachelor's degree             0   \n",
       "10228         1    -116.488779         38  secondary education             1   \n",
       "\n",
       "      family_status  family_status_id gender income_type  debt  total_income  \\\n",
       "16708       married                 0      M    employee     0     51621.924   \n",
       "10842       married                 0      F    employee     0     16648.693   \n",
       "2109      unmarried                 4      M    employee     0     19592.626   \n",
       "9916       divorced                 3      F     retiree     0     17811.661   \n",
       "10228     unmarried                 4      F    employee     0     11290.431   \n",
       "\n",
       "                                purpose  \n",
       "16708                              cars  \n",
       "10842                   buy real estate  \n",
       "2109   to get a supplementary education  \n",
       "9916                                car  \n",
       "10228   buying property for renting out  "
      ]
     },
     "execution_count": 391,
     "metadata": {},
     "output_type": "execute_result"
    }
   ],
   "source": [
    "cs_data.sample(5)"
   ]
  },
  {
   "cell_type": "markdown",
   "metadata": {},
   "source": [
    "**Terdapat beberapa keanehan dari sampel data, yaitu:**\n",
    "* days_employed memiliki nilai negative (-) dan harusnya tipe data int bukan desimal (float)\n",
    "* education memiliki pemformatan yang berbeda-beda (tidak seragam)\n",
    "* purpose memiliki label yang tidak konsisten dan beragam dengan makna yang sama\n",
    "* days_employed dan total_income dapat dibulatkan ke bilangan bulat terdekat"
   ]
  },
  {
   "cell_type": "code",
   "execution_count": 392,
   "metadata": {
    "scrolled": false
   },
   "outputs": [
    {
     "name": "stdout",
     "output_type": "stream",
     "text": [
      "<class 'pandas.core.frame.DataFrame'>\n",
      "RangeIndex: 21525 entries, 0 to 21524\n",
      "Data columns (total 12 columns):\n",
      " #   Column            Non-Null Count  Dtype  \n",
      "---  ------            --------------  -----  \n",
      " 0   children          21525 non-null  int64  \n",
      " 1   days_employed     19351 non-null  float64\n",
      " 2   dob_years         21525 non-null  int64  \n",
      " 3   education         21525 non-null  object \n",
      " 4   education_id      21525 non-null  int64  \n",
      " 5   family_status     21525 non-null  object \n",
      " 6   family_status_id  21525 non-null  int64  \n",
      " 7   gender            21525 non-null  object \n",
      " 8   income_type       21525 non-null  object \n",
      " 9   debt              21525 non-null  int64  \n",
      " 10  total_income      19351 non-null  float64\n",
      " 11  purpose           21525 non-null  object \n",
      "dtypes: float64(2), int64(5), object(5)\n",
      "memory usage: 2.0+ MB\n"
     ]
    }
   ],
   "source": [
    "# Informasi umum dari dataset\n",
    "cs_data.info()"
   ]
  },
  {
   "cell_type": "markdown",
   "metadata": {},
   "source": [
    "* Berdasarkan dataset, kita mempunyai 12 kolom dan 21525 entri data, namun jumlah baris di kolom 'days employed' dan 'total_income' hanya memiliki 19351 baris, itu artinya kedua kolom itu memiliki nilai yang hilang (missing values) atau 'Nan'.\n",
    "* Kita dapat melihat bahwa kolom dengan nilai yang hilang adalah kolom yang memiliki tipe data float."
   ]
  },
  {
   "cell_type": "code",
   "execution_count": 393,
   "metadata": {
    "scrolled": false
   },
   "outputs": [
    {
     "data": {
      "text/html": [
       "<div>\n",
       "<style scoped>\n",
       "    .dataframe tbody tr th:only-of-type {\n",
       "        vertical-align: middle;\n",
       "    }\n",
       "\n",
       "    .dataframe tbody tr th {\n",
       "        vertical-align: top;\n",
       "    }\n",
       "\n",
       "    .dataframe thead th {\n",
       "        text-align: right;\n",
       "    }\n",
       "</style>\n",
       "<table border=\"1\" class=\"dataframe\">\n",
       "  <thead>\n",
       "    <tr style=\"text-align: right;\">\n",
       "      <th></th>\n",
       "      <th>children</th>\n",
       "      <th>days_employed</th>\n",
       "      <th>dob_years</th>\n",
       "      <th>education</th>\n",
       "      <th>education_id</th>\n",
       "      <th>family_status</th>\n",
       "      <th>family_status_id</th>\n",
       "      <th>gender</th>\n",
       "      <th>income_type</th>\n",
       "      <th>debt</th>\n",
       "      <th>total_income</th>\n",
       "      <th>purpose</th>\n",
       "    </tr>\n",
       "  </thead>\n",
       "  <tbody>\n",
       "    <tr>\n",
       "      <th>12</th>\n",
       "      <td>0</td>\n",
       "      <td>NaN</td>\n",
       "      <td>65</td>\n",
       "      <td>secondary education</td>\n",
       "      <td>1</td>\n",
       "      <td>civil partnership</td>\n",
       "      <td>1</td>\n",
       "      <td>M</td>\n",
       "      <td>retiree</td>\n",
       "      <td>0</td>\n",
       "      <td>NaN</td>\n",
       "      <td>to have a wedding</td>\n",
       "    </tr>\n",
       "    <tr>\n",
       "      <th>26</th>\n",
       "      <td>0</td>\n",
       "      <td>NaN</td>\n",
       "      <td>41</td>\n",
       "      <td>secondary education</td>\n",
       "      <td>1</td>\n",
       "      <td>married</td>\n",
       "      <td>0</td>\n",
       "      <td>M</td>\n",
       "      <td>civil servant</td>\n",
       "      <td>0</td>\n",
       "      <td>NaN</td>\n",
       "      <td>education</td>\n",
       "    </tr>\n",
       "    <tr>\n",
       "      <th>29</th>\n",
       "      <td>0</td>\n",
       "      <td>NaN</td>\n",
       "      <td>63</td>\n",
       "      <td>secondary education</td>\n",
       "      <td>1</td>\n",
       "      <td>unmarried</td>\n",
       "      <td>4</td>\n",
       "      <td>F</td>\n",
       "      <td>retiree</td>\n",
       "      <td>0</td>\n",
       "      <td>NaN</td>\n",
       "      <td>building a real estate</td>\n",
       "    </tr>\n",
       "    <tr>\n",
       "      <th>41</th>\n",
       "      <td>0</td>\n",
       "      <td>NaN</td>\n",
       "      <td>50</td>\n",
       "      <td>secondary education</td>\n",
       "      <td>1</td>\n",
       "      <td>married</td>\n",
       "      <td>0</td>\n",
       "      <td>F</td>\n",
       "      <td>civil servant</td>\n",
       "      <td>0</td>\n",
       "      <td>NaN</td>\n",
       "      <td>second-hand car purchase</td>\n",
       "    </tr>\n",
       "    <tr>\n",
       "      <th>55</th>\n",
       "      <td>0</td>\n",
       "      <td>NaN</td>\n",
       "      <td>54</td>\n",
       "      <td>secondary education</td>\n",
       "      <td>1</td>\n",
       "      <td>civil partnership</td>\n",
       "      <td>1</td>\n",
       "      <td>F</td>\n",
       "      <td>retiree</td>\n",
       "      <td>1</td>\n",
       "      <td>NaN</td>\n",
       "      <td>to have a wedding</td>\n",
       "    </tr>\n",
       "    <tr>\n",
       "      <th>...</th>\n",
       "      <td>...</td>\n",
       "      <td>...</td>\n",
       "      <td>...</td>\n",
       "      <td>...</td>\n",
       "      <td>...</td>\n",
       "      <td>...</td>\n",
       "      <td>...</td>\n",
       "      <td>...</td>\n",
       "      <td>...</td>\n",
       "      <td>...</td>\n",
       "      <td>...</td>\n",
       "      <td>...</td>\n",
       "    </tr>\n",
       "    <tr>\n",
       "      <th>21489</th>\n",
       "      <td>2</td>\n",
       "      <td>NaN</td>\n",
       "      <td>47</td>\n",
       "      <td>Secondary Education</td>\n",
       "      <td>1</td>\n",
       "      <td>married</td>\n",
       "      <td>0</td>\n",
       "      <td>M</td>\n",
       "      <td>business</td>\n",
       "      <td>0</td>\n",
       "      <td>NaN</td>\n",
       "      <td>purchase of a car</td>\n",
       "    </tr>\n",
       "    <tr>\n",
       "      <th>21495</th>\n",
       "      <td>1</td>\n",
       "      <td>NaN</td>\n",
       "      <td>50</td>\n",
       "      <td>secondary education</td>\n",
       "      <td>1</td>\n",
       "      <td>civil partnership</td>\n",
       "      <td>1</td>\n",
       "      <td>F</td>\n",
       "      <td>employee</td>\n",
       "      <td>0</td>\n",
       "      <td>NaN</td>\n",
       "      <td>wedding ceremony</td>\n",
       "    </tr>\n",
       "    <tr>\n",
       "      <th>21497</th>\n",
       "      <td>0</td>\n",
       "      <td>NaN</td>\n",
       "      <td>48</td>\n",
       "      <td>BACHELOR'S DEGREE</td>\n",
       "      <td>0</td>\n",
       "      <td>married</td>\n",
       "      <td>0</td>\n",
       "      <td>F</td>\n",
       "      <td>business</td>\n",
       "      <td>0</td>\n",
       "      <td>NaN</td>\n",
       "      <td>building a property</td>\n",
       "    </tr>\n",
       "    <tr>\n",
       "      <th>21502</th>\n",
       "      <td>1</td>\n",
       "      <td>NaN</td>\n",
       "      <td>42</td>\n",
       "      <td>secondary education</td>\n",
       "      <td>1</td>\n",
       "      <td>married</td>\n",
       "      <td>0</td>\n",
       "      <td>F</td>\n",
       "      <td>employee</td>\n",
       "      <td>0</td>\n",
       "      <td>NaN</td>\n",
       "      <td>building a real estate</td>\n",
       "    </tr>\n",
       "    <tr>\n",
       "      <th>21510</th>\n",
       "      <td>2</td>\n",
       "      <td>NaN</td>\n",
       "      <td>28</td>\n",
       "      <td>secondary education</td>\n",
       "      <td>1</td>\n",
       "      <td>married</td>\n",
       "      <td>0</td>\n",
       "      <td>F</td>\n",
       "      <td>employee</td>\n",
       "      <td>0</td>\n",
       "      <td>NaN</td>\n",
       "      <td>car purchase</td>\n",
       "    </tr>\n",
       "  </tbody>\n",
       "</table>\n",
       "<p>2174 rows × 12 columns</p>\n",
       "</div>"
      ],
      "text/plain": [
       "       children  days_employed  dob_years            education  education_id  \\\n",
       "12            0            NaN         65  secondary education             1   \n",
       "26            0            NaN         41  secondary education             1   \n",
       "29            0            NaN         63  secondary education             1   \n",
       "41            0            NaN         50  secondary education             1   \n",
       "55            0            NaN         54  secondary education             1   \n",
       "...         ...            ...        ...                  ...           ...   \n",
       "21489         2            NaN         47  Secondary Education             1   \n",
       "21495         1            NaN         50  secondary education             1   \n",
       "21497         0            NaN         48    BACHELOR'S DEGREE             0   \n",
       "21502         1            NaN         42  secondary education             1   \n",
       "21510         2            NaN         28  secondary education             1   \n",
       "\n",
       "           family_status  family_status_id gender    income_type  debt  \\\n",
       "12     civil partnership                 1      M        retiree     0   \n",
       "26               married                 0      M  civil servant     0   \n",
       "29             unmarried                 4      F        retiree     0   \n",
       "41               married                 0      F  civil servant     0   \n",
       "55     civil partnership                 1      F        retiree     1   \n",
       "...                  ...               ...    ...            ...   ...   \n",
       "21489            married                 0      M       business     0   \n",
       "21495  civil partnership                 1      F       employee     0   \n",
       "21497            married                 0      F       business     0   \n",
       "21502            married                 0      F       employee     0   \n",
       "21510            married                 0      F       employee     0   \n",
       "\n",
       "       total_income                   purpose  \n",
       "12              NaN         to have a wedding  \n",
       "26              NaN                 education  \n",
       "29              NaN    building a real estate  \n",
       "41              NaN  second-hand car purchase  \n",
       "55              NaN         to have a wedding  \n",
       "...             ...                       ...  \n",
       "21489           NaN         purchase of a car  \n",
       "21495           NaN          wedding ceremony  \n",
       "21497           NaN       building a property  \n",
       "21502           NaN    building a real estate  \n",
       "21510           NaN              car purchase  \n",
       "\n",
       "[2174 rows x 12 columns]"
      ]
     },
     "execution_count": 393,
     "metadata": {},
     "output_type": "execute_result"
    }
   ],
   "source": [
    "# Mari kita lihat tabel yang telah difilter dengan nilai yang hilang di kolom pertama yang mengandung data yang hilang\n",
    "cs_data.loc[cs_data['days_employed'].isna()]"
   ]
  },
  {
   "cell_type": "markdown",
   "metadata": {},
   "source": [
    "* Menurut pendapat saya data tersebut simetris. Jika kita melihat sekilas dari tabel bahwa baris yang nilainya hilang dari kolom 'days_employed' & 'total_income' sejajar atau muncul bersamaan, juga mengingat jumlah data di kedua kolom tersebut sama, yaitu 19351.\n",
    "* Kemudian dengan asumsi kesalahan ini bisa saja disebabkan oleh kesalahan sistem, namun bisa saja calon nasabah/peminjam menolak untuk mencantumkan informasi tersebut dengan alasan tertentu. Terakhir yang menjadi pertimbangan juga kita harus memperhatikan bahwa 'days_employed' dan juga 'total_income' adalah 2 faktor penting dalam memberikan pinjaman dana."
   ]
  },
  {
   "cell_type": "code",
   "execution_count": 394,
   "metadata": {
    "scrolled": false
   },
   "outputs": [
    {
     "data": {
      "text/html": [
       "<div>\n",
       "<style scoped>\n",
       "    .dataframe tbody tr th:only-of-type {\n",
       "        vertical-align: middle;\n",
       "    }\n",
       "\n",
       "    .dataframe tbody tr th {\n",
       "        vertical-align: top;\n",
       "    }\n",
       "\n",
       "    .dataframe thead th {\n",
       "        text-align: right;\n",
       "    }\n",
       "</style>\n",
       "<table border=\"1\" class=\"dataframe\">\n",
       "  <thead>\n",
       "    <tr style=\"text-align: right;\">\n",
       "      <th></th>\n",
       "      <th>children</th>\n",
       "      <th>days_employed</th>\n",
       "      <th>dob_years</th>\n",
       "      <th>education</th>\n",
       "      <th>education_id</th>\n",
       "      <th>family_status</th>\n",
       "      <th>family_status_id</th>\n",
       "      <th>gender</th>\n",
       "      <th>income_type</th>\n",
       "      <th>debt</th>\n",
       "      <th>total_income</th>\n",
       "      <th>purpose</th>\n",
       "    </tr>\n",
       "  </thead>\n",
       "  <tbody>\n",
       "    <tr>\n",
       "      <th>count</th>\n",
       "      <td>21525.000000</td>\n",
       "      <td>19351.000000</td>\n",
       "      <td>21525.000000</td>\n",
       "      <td>21525</td>\n",
       "      <td>21525.000000</td>\n",
       "      <td>21525</td>\n",
       "      <td>21525.000000</td>\n",
       "      <td>21525</td>\n",
       "      <td>21525</td>\n",
       "      <td>21525.000000</td>\n",
       "      <td>19351.000000</td>\n",
       "      <td>21525</td>\n",
       "    </tr>\n",
       "    <tr>\n",
       "      <th>unique</th>\n",
       "      <td>NaN</td>\n",
       "      <td>NaN</td>\n",
       "      <td>NaN</td>\n",
       "      <td>15</td>\n",
       "      <td>NaN</td>\n",
       "      <td>5</td>\n",
       "      <td>NaN</td>\n",
       "      <td>3</td>\n",
       "      <td>8</td>\n",
       "      <td>NaN</td>\n",
       "      <td>NaN</td>\n",
       "      <td>38</td>\n",
       "    </tr>\n",
       "    <tr>\n",
       "      <th>top</th>\n",
       "      <td>NaN</td>\n",
       "      <td>NaN</td>\n",
       "      <td>NaN</td>\n",
       "      <td>secondary education</td>\n",
       "      <td>NaN</td>\n",
       "      <td>married</td>\n",
       "      <td>NaN</td>\n",
       "      <td>F</td>\n",
       "      <td>employee</td>\n",
       "      <td>NaN</td>\n",
       "      <td>NaN</td>\n",
       "      <td>wedding ceremony</td>\n",
       "    </tr>\n",
       "    <tr>\n",
       "      <th>freq</th>\n",
       "      <td>NaN</td>\n",
       "      <td>NaN</td>\n",
       "      <td>NaN</td>\n",
       "      <td>13750</td>\n",
       "      <td>NaN</td>\n",
       "      <td>12380</td>\n",
       "      <td>NaN</td>\n",
       "      <td>14236</td>\n",
       "      <td>11119</td>\n",
       "      <td>NaN</td>\n",
       "      <td>NaN</td>\n",
       "      <td>797</td>\n",
       "    </tr>\n",
       "    <tr>\n",
       "      <th>mean</th>\n",
       "      <td>0.538908</td>\n",
       "      <td>63046.497661</td>\n",
       "      <td>43.293380</td>\n",
       "      <td>NaN</td>\n",
       "      <td>0.817236</td>\n",
       "      <td>NaN</td>\n",
       "      <td>0.972544</td>\n",
       "      <td>NaN</td>\n",
       "      <td>NaN</td>\n",
       "      <td>0.080883</td>\n",
       "      <td>26787.568355</td>\n",
       "      <td>NaN</td>\n",
       "    </tr>\n",
       "    <tr>\n",
       "      <th>std</th>\n",
       "      <td>1.381587</td>\n",
       "      <td>140827.311974</td>\n",
       "      <td>12.574584</td>\n",
       "      <td>NaN</td>\n",
       "      <td>0.548138</td>\n",
       "      <td>NaN</td>\n",
       "      <td>1.420324</td>\n",
       "      <td>NaN</td>\n",
       "      <td>NaN</td>\n",
       "      <td>0.272661</td>\n",
       "      <td>16475.450632</td>\n",
       "      <td>NaN</td>\n",
       "    </tr>\n",
       "    <tr>\n",
       "      <th>min</th>\n",
       "      <td>-1.000000</td>\n",
       "      <td>-18388.949901</td>\n",
       "      <td>0.000000</td>\n",
       "      <td>NaN</td>\n",
       "      <td>0.000000</td>\n",
       "      <td>NaN</td>\n",
       "      <td>0.000000</td>\n",
       "      <td>NaN</td>\n",
       "      <td>NaN</td>\n",
       "      <td>0.000000</td>\n",
       "      <td>3306.762000</td>\n",
       "      <td>NaN</td>\n",
       "    </tr>\n",
       "    <tr>\n",
       "      <th>25%</th>\n",
       "      <td>0.000000</td>\n",
       "      <td>-2747.423625</td>\n",
       "      <td>33.000000</td>\n",
       "      <td>NaN</td>\n",
       "      <td>1.000000</td>\n",
       "      <td>NaN</td>\n",
       "      <td>0.000000</td>\n",
       "      <td>NaN</td>\n",
       "      <td>NaN</td>\n",
       "      <td>0.000000</td>\n",
       "      <td>16488.504500</td>\n",
       "      <td>NaN</td>\n",
       "    </tr>\n",
       "    <tr>\n",
       "      <th>50%</th>\n",
       "      <td>0.000000</td>\n",
       "      <td>-1203.369529</td>\n",
       "      <td>42.000000</td>\n",
       "      <td>NaN</td>\n",
       "      <td>1.000000</td>\n",
       "      <td>NaN</td>\n",
       "      <td>0.000000</td>\n",
       "      <td>NaN</td>\n",
       "      <td>NaN</td>\n",
       "      <td>0.000000</td>\n",
       "      <td>23202.870000</td>\n",
       "      <td>NaN</td>\n",
       "    </tr>\n",
       "    <tr>\n",
       "      <th>75%</th>\n",
       "      <td>1.000000</td>\n",
       "      <td>-291.095954</td>\n",
       "      <td>53.000000</td>\n",
       "      <td>NaN</td>\n",
       "      <td>1.000000</td>\n",
       "      <td>NaN</td>\n",
       "      <td>1.000000</td>\n",
       "      <td>NaN</td>\n",
       "      <td>NaN</td>\n",
       "      <td>0.000000</td>\n",
       "      <td>32549.611000</td>\n",
       "      <td>NaN</td>\n",
       "    </tr>\n",
       "    <tr>\n",
       "      <th>max</th>\n",
       "      <td>20.000000</td>\n",
       "      <td>401755.400475</td>\n",
       "      <td>75.000000</td>\n",
       "      <td>NaN</td>\n",
       "      <td>4.000000</td>\n",
       "      <td>NaN</td>\n",
       "      <td>4.000000</td>\n",
       "      <td>NaN</td>\n",
       "      <td>NaN</td>\n",
       "      <td>1.000000</td>\n",
       "      <td>362496.645000</td>\n",
       "      <td>NaN</td>\n",
       "    </tr>\n",
       "  </tbody>\n",
       "</table>\n",
       "</div>"
      ],
      "text/plain": [
       "            children  days_employed     dob_years            education  \\\n",
       "count   21525.000000   19351.000000  21525.000000                21525   \n",
       "unique           NaN            NaN           NaN                   15   \n",
       "top              NaN            NaN           NaN  secondary education   \n",
       "freq             NaN            NaN           NaN                13750   \n",
       "mean        0.538908   63046.497661     43.293380                  NaN   \n",
       "std         1.381587  140827.311974     12.574584                  NaN   \n",
       "min        -1.000000  -18388.949901      0.000000                  NaN   \n",
       "25%         0.000000   -2747.423625     33.000000                  NaN   \n",
       "50%         0.000000   -1203.369529     42.000000                  NaN   \n",
       "75%         1.000000    -291.095954     53.000000                  NaN   \n",
       "max        20.000000  401755.400475     75.000000                  NaN   \n",
       "\n",
       "        education_id family_status  family_status_id gender income_type  \\\n",
       "count   21525.000000         21525      21525.000000  21525       21525   \n",
       "unique           NaN             5               NaN      3           8   \n",
       "top              NaN       married               NaN      F    employee   \n",
       "freq             NaN         12380               NaN  14236       11119   \n",
       "mean        0.817236           NaN          0.972544    NaN         NaN   \n",
       "std         0.548138           NaN          1.420324    NaN         NaN   \n",
       "min         0.000000           NaN          0.000000    NaN         NaN   \n",
       "25%         1.000000           NaN          0.000000    NaN         NaN   \n",
       "50%         1.000000           NaN          0.000000    NaN         NaN   \n",
       "75%         1.000000           NaN          1.000000    NaN         NaN   \n",
       "max         4.000000           NaN          4.000000    NaN         NaN   \n",
       "\n",
       "                debt   total_income           purpose  \n",
       "count   21525.000000   19351.000000             21525  \n",
       "unique           NaN            NaN                38  \n",
       "top              NaN            NaN  wedding ceremony  \n",
       "freq             NaN            NaN               797  \n",
       "mean        0.080883   26787.568355               NaN  \n",
       "std         0.272661   16475.450632               NaN  \n",
       "min         0.000000    3306.762000               NaN  \n",
       "25%         0.000000   16488.504500               NaN  \n",
       "50%         0.000000   23202.870000               NaN  \n",
       "75%         0.000000   32549.611000               NaN  \n",
       "max         1.000000  362496.645000               NaN  "
      ]
     },
     "execution_count": 394,
     "metadata": {},
     "output_type": "execute_result"
    }
   ],
   "source": [
    "cs_data.describe(include='all')"
   ]
  },
  {
   "cell_type": "code",
   "execution_count": 395,
   "metadata": {},
   "outputs": [
    {
     "name": "stdout",
     "output_type": "stream",
     "text": [
      "Total Baris: 21525\n",
      "\n",
      "Kolom\t\tBaris yang hilang\n"
     ]
    },
    {
     "data": {
      "text/plain": [
       "children               0\n",
       "days_employed       2174\n",
       "dob_years              0\n",
       "education              0\n",
       "education_id           0\n",
       "family_status          0\n",
       "family_status_id       0\n",
       "gender                 0\n",
       "income_type            0\n",
       "debt                   0\n",
       "total_income        2174\n",
       "purpose                0\n",
       "dtype: int64"
      ]
     },
     "execution_count": 395,
     "metadata": {},
     "output_type": "execute_result"
    }
   ],
   "source": [
    "# Melihat jumlah baris data yang hilang \n",
    "print('Total Baris:', len(cs_data))\n",
    "print('\\nKolom\\t\\tBaris yang hilang')\n",
    "cs_data.isna().sum()"
   ]
  },
  {
   "cell_type": "code",
   "execution_count": 396,
   "metadata": {},
   "outputs": [
    {
     "data": {
      "text/plain": [
       "(2174, 12)"
      ]
     },
     "execution_count": 396,
     "metadata": {},
     "output_type": "execute_result"
    }
   ],
   "source": [
    "# Mari kita terapkan beberapa kondisi untuk memfilter data dan melihat jumlah baris dalam tabel yang telah difilter.\n",
    "cs_data_null = cs_data.loc[(cs_data['days_employed'].isna()) & (cs_data['total_income'].isna())]\n",
    "cs_data_null.shape"
   ]
  },
  {
   "cell_type": "markdown",
   "metadata": {},
   "source": [
    "**Kesimpulan sementara**\n",
    "\n",
    "* Jumlah baris dalam tabel yang telah difilter sesuai dengan jumlah nilai yang hilang, yaitu 2174 baris.\n",
    "* Kita bisa menyimpulkan bahwa asumsi diawal adalah benar, di mana nilai yang hilang simetris dengan jumlah baris dalam tabel."
   ]
  },
  {
   "cell_type": "code",
   "execution_count": 397,
   "metadata": {
    "scrolled": false
   },
   "outputs": [
    {
     "data": {
      "text/plain": [
       "children             0.0\n",
       "days_employed       10.1\n",
       "dob_years            0.0\n",
       "education            0.0\n",
       "education_id         0.0\n",
       "family_status        0.0\n",
       "family_status_id     0.0\n",
       "gender               0.0\n",
       "income_type          0.0\n",
       "debt                 0.0\n",
       "total_income        10.1\n",
       "purpose              0.0\n",
       "dtype: float64"
      ]
     },
     "execution_count": 397,
     "metadata": {},
     "output_type": "execute_result"
    }
   ],
   "source": [
    "# Menghitung persentase nilai yang hilang\n",
    "round((cs_data.isna().sum()/cs_data.shape[0]*100), 2)"
   ]
  },
  {
   "cell_type": "code",
   "execution_count": 398,
   "metadata": {
    "scrolled": true
   },
   "outputs": [
    {
     "data": {
      "text/html": [
       "<div>\n",
       "<style scoped>\n",
       "    .dataframe tbody tr th:only-of-type {\n",
       "        vertical-align: middle;\n",
       "    }\n",
       "\n",
       "    .dataframe tbody tr th {\n",
       "        vertical-align: top;\n",
       "    }\n",
       "\n",
       "    .dataframe thead th {\n",
       "        text-align: right;\n",
       "    }\n",
       "</style>\n",
       "<table border=\"1\" class=\"dataframe\">\n",
       "  <thead>\n",
       "    <tr style=\"text-align: right;\">\n",
       "      <th></th>\n",
       "      <th>nilai yang hilang</th>\n",
       "      <th>% dari nilai total data</th>\n",
       "    </tr>\n",
       "  </thead>\n",
       "  <tbody>\n",
       "    <tr>\n",
       "      <th>days_employed</th>\n",
       "      <td>2174</td>\n",
       "      <td>10.1</td>\n",
       "    </tr>\n",
       "    <tr>\n",
       "      <th>total_income</th>\n",
       "      <td>2174</td>\n",
       "      <td>10.1</td>\n",
       "    </tr>\n",
       "  </tbody>\n",
       "</table>\n",
       "</div>"
      ],
      "text/plain": [
       "               nilai yang hilang  % dari nilai total data\n",
       "days_employed               2174                     10.1\n",
       "total_income                2174                     10.1"
      ]
     },
     "execution_count": 398,
     "metadata": {},
     "output_type": "execute_result"
    }
   ],
   "source": [
    "# Membuat fungsi untuk menghitung persentase nilai yang hilang dan hanya menampilkan 2 kolom yang hilang\n",
    "\n",
    "def missing_values_table(cs_data):\n",
    "        # Total nilai yang hilang\n",
    "        mis_val_total = cs_data.isnull().sum()\n",
    "        \n",
    "        # Persentase dari nilai yang hilang\n",
    "        mis_val_percent = 100 * cs_data.isnull().sum() / len(cs_data)\n",
    "        \n",
    "        # Membuat tabel hasil\n",
    "        mis_val_table = pd.concat([mis_val_total, mis_val_percent], axis=1)\n",
    "        \n",
    "        # Mengganti nama kolom\n",
    "        mis_val_table_ren_columns = mis_val_table.rename(\n",
    "        columns = {0 : 'nilai yang hilang', 1 : '% dari nilai total data'})\n",
    "        \n",
    "        # Mensortir tabel berdasarkan persentase data yang hilang \n",
    "        mis_val_table_ren_columns = mis_val_table_ren_columns[\n",
    "            mis_val_table_ren_columns.iloc[:,1] != 0].sort_values(\n",
    "        '% dari nilai total data', ascending=False).round(1)\n",
    "        \n",
    "        # Tampilkan informasi\n",
    "        #print (\"DataFrame yang digunakan ada \" + str(cs_data.shape[1]) + \" kolom.\\n\"      \n",
    "            #\"Terdapat \" + str(mis_val_table_ren_columns.shape[0]) +\n",
    "              #\" yang memiliki nilai yang hilang.\")\n",
    "        \n",
    "        return mis_val_table_ren_columns\n",
    "missing_values_table(cs_data)"
   ]
  },
  {
   "cell_type": "code",
   "execution_count": 399,
   "metadata": {},
   "outputs": [
    {
     "name": "stdout",
     "output_type": "stream",
     "text": [
      "Jumlah baris data duplikat:\n"
     ]
    },
    {
     "data": {
      "text/plain": [
       "54"
      ]
     },
     "execution_count": 399,
     "metadata": {},
     "output_type": "execute_result"
    }
   ],
   "source": [
    "# Mengecek datat duplikat\n",
    "print('Jumlah baris data duplikat:')\n",
    "cs_data.duplicated().sum()"
   ]
  },
  {
   "cell_type": "markdown",
   "metadata": {},
   "source": [
    "***Temuan Awal***\n",
    "* 21525 baris\n",
    "* 12 kolom\n",
    "* dtypes: float64(2), int64(5), object(5)\n",
    "* 2174 nilai yang hilang di 2 kolom (days_employed, total_income)\n",
    "* Nilai days_employed dan total_income hilang lebih dari 10% dari nilai total\n",
    "* Terdapat 54 baris duplikat"
   ]
  },
  {
   "cell_type": "markdown",
   "metadata": {},
   "source": [
    "**Langkah selanjutnya**\n",
    "\n",
    "* Dari pemrosesan nilai yang hilang di atas, kita dapat melihat bahwa sekitar 10% data yang hilang untuk berapa lama pelanggan telah bekerja \"days_employed\" dan pendapatan bulanan \"total_income\".\n",
    "* Selanjutnya kita harus memutuskan apakah data yang hilang cukup rendah untuk menghapus baris dengan dropped data atau jika perlu mengganti data yang hilang dengan mean atau median.\n",
    "* Kita melanjutkan untuk menentukan apakah data memiliki outlier yang signifikan dengan menentukan statistik ringkasan untuk baris dengan nilai yang hilang."
   ]
  },
  {
   "cell_type": "code",
   "execution_count": 400,
   "metadata": {},
   "outputs": [
    {
     "data": {
      "text/html": [
       "<div>\n",
       "<style scoped>\n",
       "    .dataframe tbody tr th:only-of-type {\n",
       "        vertical-align: middle;\n",
       "    }\n",
       "\n",
       "    .dataframe tbody tr th {\n",
       "        vertical-align: top;\n",
       "    }\n",
       "\n",
       "    .dataframe thead th {\n",
       "        text-align: right;\n",
       "    }\n",
       "</style>\n",
       "<table border=\"1\" class=\"dataframe\">\n",
       "  <thead>\n",
       "    <tr style=\"text-align: right;\">\n",
       "      <th></th>\n",
       "      <th>children</th>\n",
       "      <th>days_employed</th>\n",
       "      <th>dob_years</th>\n",
       "      <th>education_id</th>\n",
       "      <th>family_status_id</th>\n",
       "      <th>debt</th>\n",
       "      <th>total_income</th>\n",
       "    </tr>\n",
       "  </thead>\n",
       "  <tbody>\n",
       "    <tr>\n",
       "      <th>count</th>\n",
       "      <td>21525.00</td>\n",
       "      <td>19351.00</td>\n",
       "      <td>21525.00</td>\n",
       "      <td>21525.00</td>\n",
       "      <td>21525.00</td>\n",
       "      <td>21525.00</td>\n",
       "      <td>19351.00</td>\n",
       "    </tr>\n",
       "    <tr>\n",
       "      <th>mean</th>\n",
       "      <td>0.54</td>\n",
       "      <td>63046.50</td>\n",
       "      <td>43.29</td>\n",
       "      <td>0.82</td>\n",
       "      <td>0.97</td>\n",
       "      <td>0.08</td>\n",
       "      <td>26787.57</td>\n",
       "    </tr>\n",
       "    <tr>\n",
       "      <th>std</th>\n",
       "      <td>1.38</td>\n",
       "      <td>140827.31</td>\n",
       "      <td>12.57</td>\n",
       "      <td>0.55</td>\n",
       "      <td>1.42</td>\n",
       "      <td>0.27</td>\n",
       "      <td>16475.45</td>\n",
       "    </tr>\n",
       "    <tr>\n",
       "      <th>min</th>\n",
       "      <td>-1.00</td>\n",
       "      <td>-18388.95</td>\n",
       "      <td>0.00</td>\n",
       "      <td>0.00</td>\n",
       "      <td>0.00</td>\n",
       "      <td>0.00</td>\n",
       "      <td>3306.76</td>\n",
       "    </tr>\n",
       "    <tr>\n",
       "      <th>25%</th>\n",
       "      <td>0.00</td>\n",
       "      <td>-2747.42</td>\n",
       "      <td>33.00</td>\n",
       "      <td>1.00</td>\n",
       "      <td>0.00</td>\n",
       "      <td>0.00</td>\n",
       "      <td>16488.50</td>\n",
       "    </tr>\n",
       "    <tr>\n",
       "      <th>50%</th>\n",
       "      <td>0.00</td>\n",
       "      <td>-1203.37</td>\n",
       "      <td>42.00</td>\n",
       "      <td>1.00</td>\n",
       "      <td>0.00</td>\n",
       "      <td>0.00</td>\n",
       "      <td>23202.87</td>\n",
       "    </tr>\n",
       "    <tr>\n",
       "      <th>75%</th>\n",
       "      <td>1.00</td>\n",
       "      <td>-291.10</td>\n",
       "      <td>53.00</td>\n",
       "      <td>1.00</td>\n",
       "      <td>1.00</td>\n",
       "      <td>0.00</td>\n",
       "      <td>32549.61</td>\n",
       "    </tr>\n",
       "    <tr>\n",
       "      <th>max</th>\n",
       "      <td>20.00</td>\n",
       "      <td>401755.40</td>\n",
       "      <td>75.00</td>\n",
       "      <td>4.00</td>\n",
       "      <td>4.00</td>\n",
       "      <td>1.00</td>\n",
       "      <td>362496.64</td>\n",
       "    </tr>\n",
       "  </tbody>\n",
       "</table>\n",
       "</div>"
      ],
      "text/plain": [
       "       children  days_employed  dob_years  education_id  family_status_id  \\\n",
       "count  21525.00       19351.00   21525.00      21525.00          21525.00   \n",
       "mean       0.54       63046.50      43.29          0.82              0.97   \n",
       "std        1.38      140827.31      12.57          0.55              1.42   \n",
       "min       -1.00      -18388.95       0.00          0.00              0.00   \n",
       "25%        0.00       -2747.42      33.00          1.00              0.00   \n",
       "50%        0.00       -1203.37      42.00          1.00              0.00   \n",
       "75%        1.00        -291.10      53.00          1.00              1.00   \n",
       "max       20.00      401755.40      75.00          4.00              4.00   \n",
       "\n",
       "           debt  total_income  \n",
       "count  21525.00      19351.00  \n",
       "mean       0.08      26787.57  \n",
       "std        0.27      16475.45  \n",
       "min        0.00       3306.76  \n",
       "25%        0.00      16488.50  \n",
       "50%        0.00      23202.87  \n",
       "75%        0.00      32549.61  \n",
       "max        1.00     362496.64  "
      ]
     },
     "execution_count": 400,
     "metadata": {},
     "output_type": "execute_result"
    }
   ],
   "source": [
    "# Memeriksa outliers\n",
    "round(cs_data.describe(), 2)"
   ]
  },
  {
   "cell_type": "code",
   "execution_count": 401,
   "metadata": {
    "scrolled": true
   },
   "outputs": [
    {
     "data": {
      "text/plain": [
       "count     19351.000000\n",
       "mean      66914.728907\n",
       "std      139030.880527\n",
       "min          24.141633\n",
       "25%         927.009265\n",
       "50%        2194.220567\n",
       "75%        5537.882441\n",
       "max      401755.400475\n",
       "Name: days_employed, dtype: float64"
      ]
     },
     "execution_count": 401,
     "metadata": {},
     "output_type": "execute_result"
    }
   ],
   "source": [
    "# Nilai absolut untuk day_employed, periksa outlier\n",
    "days_employed_absolute = abs(cs_data['days_employed'])\n",
    "days_employed_absolute.describe()"
   ]
  },
  {
   "cell_type": "code",
   "execution_count": 402,
   "metadata": {
    "scrolled": true
   },
   "outputs": [
    {
     "data": {
      "text/plain": [
       "count     19351.000000\n",
       "mean      26787.568355\n",
       "std       16475.450632\n",
       "min        3306.762000\n",
       "25%       16488.504500\n",
       "50%       23202.870000\n",
       "75%       32549.611000\n",
       "max      362496.645000\n",
       "Name: total_income, dtype: float64"
      ]
     },
     "execution_count": 402,
     "metadata": {},
     "output_type": "execute_result"
    }
   ],
   "source": [
    "# Nilai absolut untuk total_income, periksa outlier\n",
    "total_income_absolute = abs(cs_data['total_income'])\n",
    "total_income_absolute.describe()"
   ]
  },
  {
   "cell_type": "markdown",
   "metadata": {},
   "source": [
    "**Kemungkinan penyebab hilangnya nilai dalam data**\n",
    "* Dari metode describe(), untuk kolom days_employed, rata-ratanya adalah 63046 dan mediannya adalah -1203,37. Ini berarti bahwa dataset mengandung outlier yang signifikan.\n",
    "* Untuk kolom total_income, rata-ratanya adalah 26787 dan mediannya adalah 23202. Kita mungkin bisa mengganti nilai yang hilang di kolom ini dengan rata-rata atau median.\n",
    "* Memeriksa melalui nilai-nilai yang hilang, saya mengamati bahwa nilai-nilai yang hilang menunjukkan pola 'sistematis'. Untuk setiap baris dengan data yang hilang, nilai days_employed dan total_income tidak ada. Artinya datanya \"Missing not at random (MNAR)\". Itu berarti mereka yang menolak memberikan informasi tentang hari kerja kemungkinan besar tidak akan memberikan informasi tentang total pendapatan mereka.\n",
    "* Pemeriksaan cepat menggunakan nilai absolut di kolom days_employed memberikan rata-rata 66914 dan median 2194. Dengan hasil ini, dan standar deviasi yang tinggi, opsi terbaik adalah menghapus baris tersebut dengan nilai yang hilang untuk menghindari \"variasi\" atau \"bias\" dari analisa.\n",
    "* Karena ukuran sampel cukup besar, kita dapat menghilangkan 10% data yang hilang tanpa kehilangan kekuatan statistik yang substansial."
   ]
  },
  {
   "cell_type": "code",
   "execution_count": 403,
   "metadata": {},
   "outputs": [
    {
     "data": {
      "text/plain": [
       " 0     14149\n",
       " 1      4818\n",
       " 2      2055\n",
       " 3       330\n",
       " 20       76\n",
       "-1        47\n",
       " 4        41\n",
       " 5         9\n",
       "Name: children, dtype: int64"
      ]
     },
     "execution_count": 403,
     "metadata": {},
     "output_type": "execute_result"
    }
   ],
   "source": [
    "# Memeriksa kolom children\n",
    "cs_data['children'].value_counts()"
   ]
  },
  {
   "cell_type": "code",
   "execution_count": 404,
   "metadata": {},
   "outputs": [
    {
     "data": {
      "text/plain": [
       "-327.685916     1\n",
       "-1580.622577    1\n",
       "-4122.460569    1\n",
       "-2828.237691    1\n",
       "-2636.090517    1\n",
       "               ..\n",
       "-7120.517564    1\n",
       "-2146.884040    1\n",
       "-881.454684     1\n",
       "-794.666350     1\n",
       "-3382.113891    1\n",
       "Name: days_employed, Length: 19351, dtype: int64"
      ]
     },
     "execution_count": 404,
     "metadata": {},
     "output_type": "execute_result"
    }
   ],
   "source": [
    "# Memeriksa kolom days_employed\n",
    "cs_data['days_employed'].value_counts()"
   ]
  },
  {
   "cell_type": "code",
   "execution_count": 405,
   "metadata": {
    "scrolled": false
   },
   "outputs": [
    {
     "data": {
      "text/plain": [
       "0     101\n",
       "19     14\n",
       "20     51\n",
       "21    111\n",
       "22    183\n",
       "23    254\n",
       "24    264\n",
       "25    357\n",
       "26    408\n",
       "27    493\n",
       "28    503\n",
       "29    545\n",
       "30    540\n",
       "31    560\n",
       "32    510\n",
       "33    581\n",
       "34    603\n",
       "35    617\n",
       "36    555\n",
       "37    537\n",
       "38    598\n",
       "39    573\n",
       "40    609\n",
       "41    607\n",
       "42    597\n",
       "43    513\n",
       "44    547\n",
       "45    497\n",
       "46    475\n",
       "47    480\n",
       "48    538\n",
       "49    508\n",
       "50    514\n",
       "51    448\n",
       "52    484\n",
       "53    459\n",
       "54    479\n",
       "55    443\n",
       "56    487\n",
       "57    460\n",
       "58    461\n",
       "59    444\n",
       "60    377\n",
       "61    355\n",
       "62    352\n",
       "63    269\n",
       "64    265\n",
       "65    194\n",
       "66    183\n",
       "67    167\n",
       "68     99\n",
       "69     85\n",
       "70     65\n",
       "71     58\n",
       "72     33\n",
       "73      8\n",
       "74      6\n",
       "75      1\n",
       "Name: dob_years, dtype: int64"
      ]
     },
     "execution_count": 405,
     "metadata": {},
     "output_type": "execute_result"
    }
   ],
   "source": [
    "# Memeriksa kolom dob_years\n",
    "cs_data['dob_years'].value_counts().sort_index()"
   ]
  },
  {
   "cell_type": "code",
   "execution_count": 406,
   "metadata": {},
   "outputs": [
    {
     "data": {
      "text/plain": [
       "secondary education    13750\n",
       "bachelor's degree       4718\n",
       "SECONDARY EDUCATION      772\n",
       "Secondary Education      711\n",
       "some college             668\n",
       "BACHELOR'S DEGREE        274\n",
       "Bachelor's Degree        268\n",
       "primary education        250\n",
       "Some College              47\n",
       "SOME COLLEGE              29\n",
       "PRIMARY EDUCATION         17\n",
       "Primary Education         15\n",
       "graduate degree            4\n",
       "GRADUATE DEGREE            1\n",
       "Graduate Degree            1\n",
       "Name: education, dtype: int64"
      ]
     },
     "execution_count": 406,
     "metadata": {},
     "output_type": "execute_result"
    }
   ],
   "source": [
    "# Memeriksa kolom education \n",
    "cs_data['education'].value_counts()"
   ]
  },
  {
   "cell_type": "code",
   "execution_count": 407,
   "metadata": {},
   "outputs": [
    {
     "data": {
      "text/plain": [
       "1    15233\n",
       "0     5260\n",
       "2      744\n",
       "3      282\n",
       "4        6\n",
       "Name: education_id, dtype: int64"
      ]
     },
     "execution_count": 407,
     "metadata": {},
     "output_type": "execute_result"
    }
   ],
   "source": [
    "# Memeriksa kolom education_id\n",
    "cs_data['education_id'].value_counts()"
   ]
  },
  {
   "cell_type": "code",
   "execution_count": 408,
   "metadata": {},
   "outputs": [
    {
     "data": {
      "text/plain": [
       "married              12380\n",
       "civil partnership     4177\n",
       "unmarried             2813\n",
       "divorced              1195\n",
       "widow / widower        960\n",
       "Name: family_status, dtype: int64"
      ]
     },
     "execution_count": 408,
     "metadata": {},
     "output_type": "execute_result"
    }
   ],
   "source": [
    "# Memeriksa kolom family_status\n",
    "cs_data['family_status'].value_counts()"
   ]
  },
  {
   "cell_type": "code",
   "execution_count": 409,
   "metadata": {},
   "outputs": [
    {
     "data": {
      "text/plain": [
       "0    12380\n",
       "1     4177\n",
       "4     2813\n",
       "3     1195\n",
       "2      960\n",
       "Name: family_status_id, dtype: int64"
      ]
     },
     "execution_count": 409,
     "metadata": {},
     "output_type": "execute_result"
    }
   ],
   "source": [
    "# Memeriksa kolom family_status_id\n",
    "cs_data['family_status_id'].value_counts()"
   ]
  },
  {
   "cell_type": "code",
   "execution_count": 410,
   "metadata": {},
   "outputs": [
    {
     "data": {
      "text/plain": [
       "F      14236\n",
       "M       7288\n",
       "XNA        1\n",
       "Name: gender, dtype: int64"
      ]
     },
     "execution_count": 410,
     "metadata": {},
     "output_type": "execute_result"
    }
   ],
   "source": [
    "# Memeriksa kolom gender \n",
    "cs_data['gender'].value_counts()"
   ]
  },
  {
   "cell_type": "code",
   "execution_count": 411,
   "metadata": {},
   "outputs": [
    {
     "data": {
      "text/plain": [
       "employee                       11119\n",
       "business                        5085\n",
       "retiree                         3856\n",
       "civil servant                   1459\n",
       "unemployed                         2\n",
       "entrepreneur                       2\n",
       "paternity / maternity leave        1\n",
       "student                            1\n",
       "Name: income_type, dtype: int64"
      ]
     },
     "execution_count": 411,
     "metadata": {},
     "output_type": "execute_result"
    }
   ],
   "source": [
    "# Memeriksa kolom income_type \n",
    "cs_data['income_type'].value_counts()"
   ]
  },
  {
   "cell_type": "code",
   "execution_count": 412,
   "metadata": {},
   "outputs": [
    {
     "data": {
      "text/plain": [
       "8"
      ]
     },
     "execution_count": 412,
     "metadata": {},
     "output_type": "execute_result"
    }
   ],
   "source": [
    "# Mengecek data unique di kolom income_type \n",
    "cs_data['income_type'].nunique()"
   ]
  },
  {
   "cell_type": "code",
   "execution_count": 413,
   "metadata": {},
   "outputs": [
    {
     "data": {
      "text/plain": [
       "0    19784\n",
       "1     1741\n",
       "Name: debt, dtype: int64"
      ]
     },
     "execution_count": 413,
     "metadata": {},
     "output_type": "execute_result"
    }
   ],
   "source": [
    "# Memeriksa kolom debt\n",
    "cs_data['debt'].value_counts()"
   ]
  },
  {
   "cell_type": "code",
   "execution_count": 414,
   "metadata": {},
   "outputs": [
    {
     "data": {
      "text/plain": [
       "42413.096    2\n",
       "17312.717    2\n",
       "31791.384    2\n",
       "14427.878    1\n",
       "20837.034    1\n",
       "            ..\n",
       "27715.458    1\n",
       "23834.534    1\n",
       "26124.613    1\n",
       "28692.182    1\n",
       "41428.916    1\n",
       "Name: total_income, Length: 19348, dtype: int64"
      ]
     },
     "execution_count": 414,
     "metadata": {},
     "output_type": "execute_result"
    }
   ],
   "source": [
    "# Memeriksa kolom total_income\n",
    "cs_data['total_income'].value_counts()"
   ]
  },
  {
   "cell_type": "code",
   "execution_count": 415,
   "metadata": {},
   "outputs": [
    {
     "data": {
      "text/plain": [
       "wedding ceremony                            797\n",
       "having a wedding                            777\n",
       "to have a wedding                           774\n",
       "real estate transactions                    676\n",
       "buy commercial real estate                  664\n",
       "buying property for renting out             653\n",
       "housing transactions                        653\n",
       "transactions with commercial real estate    651\n",
       "housing                                     647\n",
       "purchase of the house                       647\n",
       "purchase of the house for my family         641\n",
       "construction of own property                635\n",
       "property                                    634\n",
       "transactions with my real estate            630\n",
       "building a real estate                      626\n",
       "buy real estate                             624\n",
       "building a property                         620\n",
       "purchase of my own house                    620\n",
       "housing renovation                          612\n",
       "buy residential real estate                 607\n",
       "buying my own car                           505\n",
       "going to university                         496\n",
       "car                                         495\n",
       "second-hand car purchase                    489\n",
       "to own a car                                480\n",
       "buying a second-hand car                    479\n",
       "cars                                        478\n",
       "to buy a car                                472\n",
       "supplementary education                     462\n",
       "car purchase                                462\n",
       "purchase of a car                           455\n",
       "university education                        453\n",
       "to get a supplementary education            447\n",
       "education                                   447\n",
       "getting an education                        443\n",
       "profile education                           436\n",
       "getting higher education                    426\n",
       "to become educated                          412\n",
       "Name: purpose, dtype: int64"
      ]
     },
     "execution_count": 415,
     "metadata": {},
     "output_type": "execute_result"
    }
   ],
   "source": [
    "# Memeriksa kolom purpose \n",
    "cs_data['purpose'].value_counts()"
   ]
  },
  {
   "cell_type": "code",
   "execution_count": 416,
   "metadata": {},
   "outputs": [
    {
     "data": {
      "text/plain": [
       "38"
      ]
     },
     "execution_count": 416,
     "metadata": {},
     "output_type": "execute_result"
    }
   ],
   "source": [
    "# Mengecek data unique di kolom purpose \n",
    "cs_data['purpose'].nunique()"
   ]
  },
  {
   "cell_type": "code",
   "execution_count": 417,
   "metadata": {},
   "outputs": [
    {
     "name": "stdout",
     "output_type": "stream",
     "text": [
      "Jumlah data yang hilang di days_employed berdasarkan gender\n",
      "F    1484\n",
      "M     690\n",
      "Name: gender, dtype: int64\n",
      "\n",
      "Jumlah data yang hilang di total_income berdasarkan gender\n",
      "F    1484\n",
      "M     690\n",
      "Name: gender, dtype: int64\n"
     ]
    }
   ],
   "source": [
    "# Menghitung data yang hilang berdasarkan jenis kelamin\n",
    "print('Jumlah data yang hilang di days_employed berdasarkan gender')\n",
    "print(cs_data[cs_data['days_employed'].isnull()]['gender'].value_counts())\n",
    "\n",
    "print()\n",
    "print('Jumlah data yang hilang di total_income berdasarkan gender')\n",
    "print(cs_data[cs_data['total_income'].isnull()]['gender'].value_counts())"
   ]
  },
  {
   "cell_type": "markdown",
   "metadata": {},
   "source": [
    "**Kesimpulan sementara**\n",
    "* Jumlah data yang hilang berdasarkan jenis kelamin menunjukkan bahwa data yang hilang tidak acak, melainkan didapatkan jumlah yang sama dari kedua jenis kelamin (Female & Male) tidak ada di kolom days_employed dan total_income."
   ]
  },
  {
   "cell_type": "code",
   "execution_count": 418,
   "metadata": {},
   "outputs": [
    {
     "name": "stdout",
     "output_type": "stream",
     "text": [
      "Jumlah data yang hilang di days_employed berdasarkan income_type\n",
      "employee         1105\n",
      "business          508\n",
      "retiree           413\n",
      "civil servant     147\n",
      "entrepreneur        1\n",
      "Name: income_type, dtype: int64\n",
      "\n",
      "Jumlah data yang hilang di total_income berdasarkan income_type\n",
      "employee         1105\n",
      "business          508\n",
      "retiree           413\n",
      "civil servant     147\n",
      "entrepreneur        1\n",
      "Name: income_type, dtype: int64\n"
     ]
    }
   ],
   "source": [
    "# Menghitung data yang hilang berdasarkan tipe income\n",
    "print('Jumlah data yang hilang di days_employed berdasarkan income_type')\n",
    "print(cs_data[cs_data['days_employed'].isnull()]['income_type'].value_counts())\n",
    "\n",
    "print()\n",
    "print('Jumlah data yang hilang di total_income berdasarkan income_type')\n",
    "print(cs_data[cs_data['total_income'].isnull()]['income_type'].value_counts())"
   ]
  },
  {
   "cell_type": "markdown",
   "metadata": {},
   "source": [
    "**Kesimpulan sementara**\n",
    "* Jumlah data yang hilang berdasarkan jenis income menunjukkan bahwa data yang hilang tidak acak, melainkan didapatkan jumlah yang sama dari 5 jenis income tidak ada di kolom days_employed dan total_income.\n",
    "* Kemudian melanjutkan untuk memeriksa entri data yang unik di setiap kolom. Dengan cara ini, kita dapat mengetahui kolom mana yang harus diperbaiki saat memproses duplikat."
   ]
  },
  {
   "cell_type": "code",
   "execution_count": 419,
   "metadata": {},
   "outputs": [
    {
     "data": {
      "text/plain": [
       "array([ 1,  0,  3,  2, -1,  4, 20,  5])"
      ]
     },
     "execution_count": 419,
     "metadata": {},
     "output_type": "execute_result"
    }
   ],
   "source": [
    "# Memeriksa isi data unik di kolom 'children'\n",
    "cs_data['children'].unique()"
   ]
  },
  {
   "cell_type": "code",
   "execution_count": 420,
   "metadata": {},
   "outputs": [
    {
     "data": {
      "text/plain": [
       "array([-8437.67302776, -4024.80375385, -5623.42261023, ...,\n",
       "       -2113.3468877 , -3112.4817052 , -1984.50758853])"
      ]
     },
     "execution_count": 420,
     "metadata": {},
     "output_type": "execute_result"
    }
   ],
   "source": [
    "# Memeriksa isi data unik di kolom 'days_employed'\n",
    "cs_data['days_employed'].unique()"
   ]
  },
  {
   "cell_type": "code",
   "execution_count": 421,
   "metadata": {},
   "outputs": [
    {
     "data": {
      "text/plain": [
       "array([\"bachelor's degree\", 'secondary education', 'Secondary Education',\n",
       "       'SECONDARY EDUCATION', \"BACHELOR'S DEGREE\", 'some college',\n",
       "       'primary education', \"Bachelor's Degree\", 'SOME COLLEGE',\n",
       "       'Some College', 'PRIMARY EDUCATION', 'Primary Education',\n",
       "       'Graduate Degree', 'GRADUATE DEGREE', 'graduate degree'],\n",
       "      dtype=object)"
      ]
     },
     "execution_count": 421,
     "metadata": {},
     "output_type": "execute_result"
    }
   ],
   "source": [
    "# Memeriksa isi data unik di kolom \"education\"\n",
    "cs_data['education'].unique()"
   ]
  },
  {
   "cell_type": "code",
   "execution_count": 422,
   "metadata": {},
   "outputs": [
    {
     "data": {
      "text/plain": [
       "array([0, 1, 2, 3, 4])"
      ]
     },
     "execution_count": 422,
     "metadata": {},
     "output_type": "execute_result"
    }
   ],
   "source": [
    "# Memeriksa isi data unik di kolom \"education_id\"\n",
    "cs_data['education_id'].unique()"
   ]
  },
  {
   "cell_type": "code",
   "execution_count": 423,
   "metadata": {},
   "outputs": [
    {
     "data": {
      "text/plain": [
       "array(['married', 'civil partnership', 'widow / widower', 'divorced',\n",
       "       'unmarried'], dtype=object)"
      ]
     },
     "execution_count": 423,
     "metadata": {},
     "output_type": "execute_result"
    }
   ],
   "source": [
    "# Memeriksa isi data unik di kolom \"family_status\"\n",
    "cs_data['family_status'].unique()"
   ]
  },
  {
   "cell_type": "code",
   "execution_count": 424,
   "metadata": {},
   "outputs": [
    {
     "data": {
      "text/plain": [
       "array([0, 1, 2, 3, 4])"
      ]
     },
     "execution_count": 424,
     "metadata": {},
     "output_type": "execute_result"
    }
   ],
   "source": [
    "# Memeriksa isi data unik di kolom \"family_status_id\"\n",
    "cs_data['family_status_id'].unique()"
   ]
  },
  {
   "cell_type": "code",
   "execution_count": 425,
   "metadata": {},
   "outputs": [
    {
     "data": {
      "text/plain": [
       "array(['F', 'M', 'XNA'], dtype=object)"
      ]
     },
     "execution_count": 425,
     "metadata": {},
     "output_type": "execute_result"
    }
   ],
   "source": [
    "# Memeriksa isi data unik di kolom \"gender\"\n",
    "cs_data['gender'].unique()"
   ]
  },
  {
   "cell_type": "code",
   "execution_count": 426,
   "metadata": {},
   "outputs": [
    {
     "data": {
      "text/plain": [
       "array(['employee', 'retiree', 'business', 'civil servant', 'unemployed',\n",
       "       'entrepreneur', 'student', 'paternity / maternity leave'],\n",
       "      dtype=object)"
      ]
     },
     "execution_count": 426,
     "metadata": {},
     "output_type": "execute_result"
    }
   ],
   "source": [
    "# Memeriksa isi data unik di kolom \"income_type\"\n",
    "cs_data['income_type'].unique()"
   ]
  },
  {
   "cell_type": "code",
   "execution_count": 427,
   "metadata": {},
   "outputs": [
    {
     "data": {
      "text/plain": [
       "array([0, 1])"
      ]
     },
     "execution_count": 427,
     "metadata": {},
     "output_type": "execute_result"
    }
   ],
   "source": [
    "# Memeriksa isi data unik di kolom \"debt\"\n",
    "cs_data['debt'].unique()"
   ]
  },
  {
   "cell_type": "code",
   "execution_count": 428,
   "metadata": {},
   "outputs": [
    {
     "data": {
      "text/plain": [
       "array([40620.102, 17932.802, 23341.752, ..., 14347.61 , 39054.888,\n",
       "       13127.587])"
      ]
     },
     "execution_count": 428,
     "metadata": {},
     "output_type": "execute_result"
    }
   ],
   "source": [
    "# Memeriksa isi data unik di kolom \"total_income\"\n",
    "cs_data['total_income'].unique()"
   ]
  },
  {
   "cell_type": "code",
   "execution_count": 429,
   "metadata": {
    "scrolled": true
   },
   "outputs": [
    {
     "data": {
      "text/plain": [
       "array(['purchase of the house', 'car purchase', 'supplementary education',\n",
       "       'to have a wedding', 'housing transactions', 'education',\n",
       "       'having a wedding', 'purchase of the house for my family',\n",
       "       'buy real estate', 'buy commercial real estate',\n",
       "       'buy residential real estate', 'construction of own property',\n",
       "       'property', 'building a property', 'buying a second-hand car',\n",
       "       'buying my own car', 'transactions with commercial real estate',\n",
       "       'building a real estate', 'housing',\n",
       "       'transactions with my real estate', 'cars', 'to become educated',\n",
       "       'second-hand car purchase', 'getting an education', 'car',\n",
       "       'wedding ceremony', 'to get a supplementary education',\n",
       "       'purchase of my own house', 'real estate transactions',\n",
       "       'getting higher education', 'to own a car', 'purchase of a car',\n",
       "       'profile education', 'university education',\n",
       "       'buying property for renting out', 'to buy a car',\n",
       "       'housing renovation', 'going to university'], dtype=object)"
      ]
     },
     "execution_count": 429,
     "metadata": {},
     "output_type": "execute_result"
    }
   ],
   "source": [
    "# Memeriksa isi data unik di kolom \"purpose\"\n",
    "cs_data['purpose'].unique()"
   ]
  },
  {
   "cell_type": "code",
   "execution_count": 430,
   "metadata": {
    "scrolled": true
   },
   "outputs": [
    {
     "name": "stdout",
     "output_type": "stream",
     "text": [
      "Kolom children memiliki 0.22% % nilai negatif dengan jumlah 47 baris negatif\n",
      "Kolom days_employed memiliki 73.90% % nilai negatif dengan jumlah 15906 baris negatif\n",
      "Kolom dob_years memiliki 0.00% % nilai negatif dengan jumlah 0 baris negatif\n",
      "Kolom education_id memiliki 0.00% % nilai negatif dengan jumlah 0 baris negatif\n",
      "Kolom family_status_id memiliki 0.00% % nilai negatif dengan jumlah 0 baris negatif\n",
      "Kolom debt memiliki 0.00% % nilai negatif dengan jumlah 0 baris negatif\n",
      "Kolom total_income memiliki 0.00% % nilai negatif dengan jumlah 0 baris negatif\n"
     ]
    }
   ],
   "source": [
    "# Memeriksa kolom data apakah memiliki nilai negatif\n",
    "columns = cs_data.select_dtypes(include=np.number).columns\n",
    "\n",
    "# Memeriksa setiap kolom apakah memiliki nilai negatif\n",
    "for col in columns:\n",
    "    percent = cs_data[cs_data[col]<0][col].count() / len(cs_data)\n",
    "    rows = cs_data[cs_data[col]<0][col].count() \n",
    "    print(f\"Kolom {col} memiliki {percent:.2%} % nilai negatif dengan jumlah {rows} baris negatif\")"
   ]
  },
  {
   "cell_type": "markdown",
   "metadata": {},
   "source": [
    "# Kesimpulan <a id='summary_data'></a>\n",
    "\n",
    "**Datafile credit_scoring_eng.csv mengandung:**\n",
    "* 21525 baris\n",
    "* 12 kolom\n",
    "* dtypes: float64(2), int64(5), object(5)\n",
    "* 2174 nilai yang hilang di 2 kolom (days_employed, total_income)\n",
    "* Nilai days_employed dan total_income hilang lebih dari 10% dari nilai total\n",
    "* Terdapat 54 baris duplikat\n",
    "\n",
    "**Eksplorasi Data**\n",
    "* Kita perlu menentukan satu case untuk kolom string (objek) (misalnya: lower)\n",
    "* 'children' memiliki nilai negatif -1 (tidak mungkin) dan max 20 yang di mana adalah aneh, namun masih mungkin, jadi kita harus mengelolanya.\n",
    "* 'days_employed' memiliki nilai hari negatif. Kita harus mengambil nilai absolut agar analisis kita akurat\n",
    "* 'education' memiliki data rangkap\n",
    "* 'gender' memiliki entri 'XNA'. Kita tidak tahu apakah ini Female atau Male, bisa saja ini dikarenakan kesalahan input. Maka saya memutuskan akan menghapusnya.\n",
    "* dob_years memiliki 0 nilai minimum, yang tidak mungkin untuk usia melakukan peminjaman.\n",
    "* Ada 15 nilai unik untuk 'education', 5 nilai unik untuk 'family_status', 3 nilai unik untuk 'gender' (perlu memeriksa mengapa ada 3), 8 nilai unik untuk 'type_income' dan 38 nilai unik untuk 'purpose'. Kolom 'purpose' perlu dikategorikan.\n",
    "* 'days_employed' berisi nilai negatif 73,9%, dan mungkin ada sesuatu yang salah dengan pengumpulan data; Ini dapat diubah menjadi nilai positif dengan transformasi absolut. Namun, Max 'days_employed' adalah 401k hari yaitu 1115 tahun; Tampaknya tidak mungkin bagi seorang karyawan. Angka rata -rata adalah 63k hari yang merupakan 175 tahun. Jumlah hari mungkin salah, tetapi mungkin jumlah jam yang digunakan lebih masuk akal.\n",
    "\n",
    "**Tipe Data**\n",
    "* total_income - Numeric\n",
    "* purpose - Categorical\n",
    "* income_type - Categorical\n",
    "* gender - boolean\n",
    "* family_status - Categorical (family_status_id - Numeric)\n",
    "* education - Categorical (education_id - Numeric)\n",
    "* dob_years - Numeric\n",
    "* debt - Boolean\n",
    "* days_employed - Numeric\n",
    "* children - Numeric\n"
   ]
  },
  {
   "cell_type": "markdown",
   "metadata": {},
   "source": [
    "# Transformasi data <a id='transformation_data'></a>"
   ]
  },
  {
   "cell_type": "markdown",
   "metadata": {},
   "source": [
    "# Memperbaiki Kolom `education` <a id='education_column'></a>"
   ]
  },
  {
   "cell_type": "code",
   "execution_count": 431,
   "metadata": {},
   "outputs": [
    {
     "data": {
      "text/plain": [
       "array([\"bachelor's degree\", 'secondary education', 'Secondary Education',\n",
       "       'SECONDARY EDUCATION', \"BACHELOR'S DEGREE\", 'some college',\n",
       "       'primary education', \"Bachelor's Degree\", 'SOME COLLEGE',\n",
       "       'Some College', 'PRIMARY EDUCATION', 'Primary Education',\n",
       "       'Graduate Degree', 'GRADUATE DEGREE', 'graduate degree'],\n",
       "      dtype=object)"
      ]
     },
     "execution_count": 431,
     "metadata": {},
     "output_type": "execute_result"
    }
   ],
   "source": [
    "# Mari kita lihat semua nilai di kolom pendidikan untuk memeriksa ejaan apa yang perlu diperbaiki\n",
    "cs_data['education'].unique()"
   ]
  },
  {
   "cell_type": "code",
   "execution_count": 432,
   "metadata": {
    "scrolled": true
   },
   "outputs": [],
   "source": [
    "# Perbaiki pencatatan jika diperlukan\n",
    "cs_data['education'] = cs_data['education'].str.lower()"
   ]
  },
  {
   "cell_type": "code",
   "execution_count": 433,
   "metadata": {
    "scrolled": true
   },
   "outputs": [
    {
     "data": {
      "text/html": [
       "<div>\n",
       "<style scoped>\n",
       "    .dataframe tbody tr th:only-of-type {\n",
       "        vertical-align: middle;\n",
       "    }\n",
       "\n",
       "    .dataframe tbody tr th {\n",
       "        vertical-align: top;\n",
       "    }\n",
       "\n",
       "    .dataframe thead th {\n",
       "        text-align: right;\n",
       "    }\n",
       "</style>\n",
       "<table border=\"1\" class=\"dataframe\">\n",
       "  <thead>\n",
       "    <tr style=\"text-align: right;\">\n",
       "      <th></th>\n",
       "      <th>children</th>\n",
       "      <th>days_employed</th>\n",
       "      <th>dob_years</th>\n",
       "      <th>education</th>\n",
       "      <th>education_id</th>\n",
       "      <th>family_status</th>\n",
       "      <th>family_status_id</th>\n",
       "      <th>gender</th>\n",
       "      <th>income_type</th>\n",
       "      <th>debt</th>\n",
       "      <th>total_income</th>\n",
       "      <th>purpose</th>\n",
       "    </tr>\n",
       "  </thead>\n",
       "  <tbody>\n",
       "    <tr>\n",
       "      <th>0</th>\n",
       "      <td>1</td>\n",
       "      <td>-8437.673028</td>\n",
       "      <td>42</td>\n",
       "      <td>bachelor's degree</td>\n",
       "      <td>0</td>\n",
       "      <td>married</td>\n",
       "      <td>0</td>\n",
       "      <td>F</td>\n",
       "      <td>employee</td>\n",
       "      <td>0</td>\n",
       "      <td>40620.102</td>\n",
       "      <td>purchase of the house</td>\n",
       "    </tr>\n",
       "    <tr>\n",
       "      <th>1</th>\n",
       "      <td>1</td>\n",
       "      <td>-4024.803754</td>\n",
       "      <td>36</td>\n",
       "      <td>secondary education</td>\n",
       "      <td>1</td>\n",
       "      <td>married</td>\n",
       "      <td>0</td>\n",
       "      <td>F</td>\n",
       "      <td>employee</td>\n",
       "      <td>0</td>\n",
       "      <td>17932.802</td>\n",
       "      <td>car purchase</td>\n",
       "    </tr>\n",
       "    <tr>\n",
       "      <th>2</th>\n",
       "      <td>0</td>\n",
       "      <td>-5623.422610</td>\n",
       "      <td>33</td>\n",
       "      <td>secondary education</td>\n",
       "      <td>1</td>\n",
       "      <td>married</td>\n",
       "      <td>0</td>\n",
       "      <td>M</td>\n",
       "      <td>employee</td>\n",
       "      <td>0</td>\n",
       "      <td>23341.752</td>\n",
       "      <td>purchase of the house</td>\n",
       "    </tr>\n",
       "    <tr>\n",
       "      <th>3</th>\n",
       "      <td>3</td>\n",
       "      <td>-4124.747207</td>\n",
       "      <td>32</td>\n",
       "      <td>secondary education</td>\n",
       "      <td>1</td>\n",
       "      <td>married</td>\n",
       "      <td>0</td>\n",
       "      <td>M</td>\n",
       "      <td>employee</td>\n",
       "      <td>0</td>\n",
       "      <td>42820.568</td>\n",
       "      <td>supplementary education</td>\n",
       "    </tr>\n",
       "    <tr>\n",
       "      <th>4</th>\n",
       "      <td>0</td>\n",
       "      <td>340266.072047</td>\n",
       "      <td>53</td>\n",
       "      <td>secondary education</td>\n",
       "      <td>1</td>\n",
       "      <td>civil partnership</td>\n",
       "      <td>1</td>\n",
       "      <td>F</td>\n",
       "      <td>retiree</td>\n",
       "      <td>0</td>\n",
       "      <td>25378.572</td>\n",
       "      <td>to have a wedding</td>\n",
       "    </tr>\n",
       "  </tbody>\n",
       "</table>\n",
       "</div>"
      ],
      "text/plain": [
       "   children  days_employed  dob_years            education  education_id  \\\n",
       "0         1   -8437.673028         42    bachelor's degree             0   \n",
       "1         1   -4024.803754         36  secondary education             1   \n",
       "2         0   -5623.422610         33  secondary education             1   \n",
       "3         3   -4124.747207         32  secondary education             1   \n",
       "4         0  340266.072047         53  secondary education             1   \n",
       "\n",
       "       family_status  family_status_id gender income_type  debt  total_income  \\\n",
       "0            married                 0      F    employee     0     40620.102   \n",
       "1            married                 0      F    employee     0     17932.802   \n",
       "2            married                 0      M    employee     0     23341.752   \n",
       "3            married                 0      M    employee     0     42820.568   \n",
       "4  civil partnership                 1      F     retiree     0     25378.572   \n",
       "\n",
       "                   purpose  \n",
       "0    purchase of the house  \n",
       "1             car purchase  \n",
       "2    purchase of the house  \n",
       "3  supplementary education  \n",
       "4        to have a wedding  "
      ]
     },
     "execution_count": 433,
     "metadata": {},
     "output_type": "execute_result"
    }
   ],
   "source": [
    "# Periksa semua nilai di kolom untuk memastikan bahwa kita telah memperbaikinya dengan tepat\n",
    "cs_data.head()"
   ]
  },
  {
   "cell_type": "code",
   "execution_count": 434,
   "metadata": {},
   "outputs": [
    {
     "data": {
      "text/plain": [
       "array([\"bachelor's degree\", 'secondary education', 'some college',\n",
       "       'primary education', 'graduate degree'], dtype=object)"
      ]
     },
     "execution_count": 434,
     "metadata": {},
     "output_type": "execute_result"
    }
   ],
   "source": [
    "# Memeriksa perbaikan\n",
    "cs_data['education'].unique()"
   ]
  },
  {
   "cell_type": "markdown",
   "metadata": {},
   "source": [
    "* Terdapat keanehan dari ejaan di kolom education, di mana huruf yang digunakan tidak konsisten (ada yang menggunakan huruf kecil/besar)\n",
    "* Untuk mengatasinya saya melakukan perubahan pem-formatan ejaan menjadi huruf kecil semua (lower)"
   ]
  },
  {
   "cell_type": "markdown",
   "metadata": {},
   "source": [
    "# Kolom `children` <a id='children_column'></a>"
   ]
  },
  {
   "cell_type": "code",
   "execution_count": 435,
   "metadata": {},
   "outputs": [
    {
     "data": {
      "text/plain": [
       " 0     14149\n",
       " 1      4818\n",
       " 2      2055\n",
       " 3       330\n",
       " 20       76\n",
       "-1        47\n",
       " 4        41\n",
       " 5         9\n",
       "Name: children, dtype: int64"
      ]
     },
     "execution_count": 435,
     "metadata": {},
     "output_type": "execute_result"
    }
   ],
   "source": [
    "# Mari kita lihat distribusi nilai pada kolom `children`\n",
    "cs_data['children'].value_counts()"
   ]
  },
  {
   "cell_type": "markdown",
   "metadata": {},
   "source": [
    "* Terdapat 76 entri dalam kumpulan data yang telah ditetapkan 20 sebagai jumlah anak mereka. Saya mengasumsikan bahwa nilai-nilai ini adalah 2. Dengan logika yang sama, 47 entri 'children' yang ditandai sebagai -1 kemungkinan besar adalah 1.\n",
    "* Karena umumnya yang kita temukan, sangat sedikit keluarga yang mempunyai anak hingga 20."
   ]
  },
  {
   "cell_type": "code",
   "execution_count": 436,
   "metadata": {},
   "outputs": [],
   "source": [
    "# Konversi nilai yang aneh di kolom 'children'\n",
    "cs_data[cs_data['children'] == -1] = 1\n",
    "cs_data[cs_data['children'] == 20] = 2"
   ]
  },
  {
   "cell_type": "code",
   "execution_count": 437,
   "metadata": {
    "scrolled": true
   },
   "outputs": [
    {
     "data": {
      "text/plain": [
       "0    14149\n",
       "1     4865\n",
       "2     2131\n",
       "3      330\n",
       "4       41\n",
       "5        9\n",
       "Name: children, dtype: int64"
      ]
     },
     "execution_count": 437,
     "metadata": {},
     "output_type": "execute_result"
    }
   ],
   "source": [
    "# Periksa kembali kolom `children` untuk memastikan bahwa semuanya telah diperbaiki\n",
    "cs_data['children'].value_counts()"
   ]
  },
  {
   "cell_type": "markdown",
   "metadata": {},
   "source": [
    "# Kolom `days_employed` <a id='days_employed_column'></a>"
   ]
  },
  {
   "cell_type": "markdown",
   "metadata": {},
   "source": [
    "* Masalah utama di kolom days_employed adalah memiliki banyak nilai negatif dan ada juga satu entri di beberapa baris pertama yang sangat masif. Misalnya, pada baris 4 ada entri dengan 340266.072047 hari kerja, yang kira-kira berjumlah 932 tahun."
   ]
  },
  {
   "cell_type": "code",
   "execution_count": 438,
   "metadata": {
    "scrolled": true
   },
   "outputs": [
    {
     "name": "stdout",
     "output_type": "stream",
     "text": [
      "73.44\n"
     ]
    }
   ],
   "source": [
    "# Persentase nilai hilang yang (-)\n",
    "days_null = len(cs_data.loc[cs_data['days_employed'] < 0])\n",
    "percentage_days_null = days_null / len(cs_data) * 100\n",
    "print (round(percentage_days_null, 2))"
   ]
  },
  {
   "cell_type": "markdown",
   "metadata": {},
   "source": [
    "* Bagian ini saling eksklusif (satu negatif, satu cukup besar) sehingga kumpulan data kita memiliki masalah dengan kolom days_employed. Saran saya untuk memeriksa kembali cara pengumpulan data di masa mendatang. Prioritas sekarang memperbaiki nilai yang bermasalah.\n",
    "* Untuk nilai negatif kita hanya perlu mengubahnya menjadi positif. "
   ]
  },
  {
   "cell_type": "code",
   "execution_count": 439,
   "metadata": {},
   "outputs": [
    {
     "data": {
      "text/html": [
       "<div>\n",
       "<style scoped>\n",
       "    .dataframe tbody tr th:only-of-type {\n",
       "        vertical-align: middle;\n",
       "    }\n",
       "\n",
       "    .dataframe tbody tr th {\n",
       "        vertical-align: top;\n",
       "    }\n",
       "\n",
       "    .dataframe thead th {\n",
       "        text-align: right;\n",
       "    }\n",
       "</style>\n",
       "<table border=\"1\" class=\"dataframe\">\n",
       "  <thead>\n",
       "    <tr style=\"text-align: right;\">\n",
       "      <th></th>\n",
       "      <th>children</th>\n",
       "      <th>days_employed</th>\n",
       "      <th>dob_years</th>\n",
       "      <th>education</th>\n",
       "      <th>education_id</th>\n",
       "      <th>family_status</th>\n",
       "      <th>family_status_id</th>\n",
       "      <th>gender</th>\n",
       "      <th>income_type</th>\n",
       "      <th>debt</th>\n",
       "      <th>total_income</th>\n",
       "      <th>purpose</th>\n",
       "    </tr>\n",
       "  </thead>\n",
       "  <tbody>\n",
       "  </tbody>\n",
       "</table>\n",
       "</div>"
      ],
      "text/plain": [
       "Empty DataFrame\n",
       "Columns: [children, days_employed, dob_years, education, education_id, family_status, family_status_id, gender, income_type, debt, total_income, purpose]\n",
       "Index: []"
      ]
     },
     "execution_count": 439,
     "metadata": {},
     "output_type": "execute_result"
    }
   ],
   "source": [
    "# Atasi nilai yang bermasalah, jika ada\n",
    "\n",
    "cs_data['days_employed'] = cs_data['days_employed'].abs()\n",
    "cs_data.loc[cs_data['days_employed'] < 0]"
   ]
  },
  {
   "cell_type": "code",
   "execution_count": 440,
   "metadata": {
    "scrolled": false
   },
   "outputs": [
    {
     "data": {
      "text/html": [
       "<div>\n",
       "<style scoped>\n",
       "    .dataframe tbody tr th:only-of-type {\n",
       "        vertical-align: middle;\n",
       "    }\n",
       "\n",
       "    .dataframe tbody tr th {\n",
       "        vertical-align: top;\n",
       "    }\n",
       "\n",
       "    .dataframe thead th {\n",
       "        text-align: right;\n",
       "    }\n",
       "</style>\n",
       "<table border=\"1\" class=\"dataframe\">\n",
       "  <thead>\n",
       "    <tr style=\"text-align: right;\">\n",
       "      <th></th>\n",
       "      <th>children</th>\n",
       "      <th>days_employed</th>\n",
       "      <th>dob_years</th>\n",
       "      <th>education</th>\n",
       "      <th>education_id</th>\n",
       "      <th>family_status</th>\n",
       "      <th>family_status_id</th>\n",
       "      <th>gender</th>\n",
       "      <th>income_type</th>\n",
       "      <th>debt</th>\n",
       "      <th>total_income</th>\n",
       "      <th>purpose</th>\n",
       "    </tr>\n",
       "  </thead>\n",
       "  <tbody>\n",
       "    <tr>\n",
       "      <th>0</th>\n",
       "      <td>1</td>\n",
       "      <td>8438.0</td>\n",
       "      <td>42</td>\n",
       "      <td>bachelor's degree</td>\n",
       "      <td>0</td>\n",
       "      <td>married</td>\n",
       "      <td>0</td>\n",
       "      <td>F</td>\n",
       "      <td>employee</td>\n",
       "      <td>0</td>\n",
       "      <td>40620.102</td>\n",
       "      <td>purchase of the house</td>\n",
       "    </tr>\n",
       "    <tr>\n",
       "      <th>1</th>\n",
       "      <td>1</td>\n",
       "      <td>4025.0</td>\n",
       "      <td>36</td>\n",
       "      <td>secondary education</td>\n",
       "      <td>1</td>\n",
       "      <td>married</td>\n",
       "      <td>0</td>\n",
       "      <td>F</td>\n",
       "      <td>employee</td>\n",
       "      <td>0</td>\n",
       "      <td>17932.802</td>\n",
       "      <td>car purchase</td>\n",
       "    </tr>\n",
       "    <tr>\n",
       "      <th>2</th>\n",
       "      <td>0</td>\n",
       "      <td>5624.0</td>\n",
       "      <td>33</td>\n",
       "      <td>secondary education</td>\n",
       "      <td>1</td>\n",
       "      <td>married</td>\n",
       "      <td>0</td>\n",
       "      <td>M</td>\n",
       "      <td>employee</td>\n",
       "      <td>0</td>\n",
       "      <td>23341.752</td>\n",
       "      <td>purchase of the house</td>\n",
       "    </tr>\n",
       "    <tr>\n",
       "      <th>3</th>\n",
       "      <td>3</td>\n",
       "      <td>4125.0</td>\n",
       "      <td>32</td>\n",
       "      <td>secondary education</td>\n",
       "      <td>1</td>\n",
       "      <td>married</td>\n",
       "      <td>0</td>\n",
       "      <td>M</td>\n",
       "      <td>employee</td>\n",
       "      <td>0</td>\n",
       "      <td>42820.568</td>\n",
       "      <td>supplementary education</td>\n",
       "    </tr>\n",
       "    <tr>\n",
       "      <th>4</th>\n",
       "      <td>0</td>\n",
       "      <td>340267.0</td>\n",
       "      <td>53</td>\n",
       "      <td>secondary education</td>\n",
       "      <td>1</td>\n",
       "      <td>civil partnership</td>\n",
       "      <td>1</td>\n",
       "      <td>F</td>\n",
       "      <td>retiree</td>\n",
       "      <td>0</td>\n",
       "      <td>25378.572</td>\n",
       "      <td>to have a wedding</td>\n",
       "    </tr>\n",
       "  </tbody>\n",
       "</table>\n",
       "</div>"
      ],
      "text/plain": [
       "   children  days_employed  dob_years            education  education_id  \\\n",
       "0         1         8438.0         42    bachelor's degree             0   \n",
       "1         1         4025.0         36  secondary education             1   \n",
       "2         0         5624.0         33  secondary education             1   \n",
       "3         3         4125.0         32  secondary education             1   \n",
       "4         0       340267.0         53  secondary education             1   \n",
       "\n",
       "       family_status  family_status_id gender income_type  debt  total_income  \\\n",
       "0            married                 0      F    employee     0     40620.102   \n",
       "1            married                 0      F    employee     0     17932.802   \n",
       "2            married                 0      M    employee     0     23341.752   \n",
       "3            married                 0      M    employee     0     42820.568   \n",
       "4  civil partnership                 1      F     retiree     0     25378.572   \n",
       "\n",
       "                   purpose  \n",
       "0    purchase of the house  \n",
       "1             car purchase  \n",
       "2    purchase of the house  \n",
       "3  supplementary education  \n",
       "4        to have a wedding  "
      ]
     },
     "execution_count": 440,
     "metadata": {},
     "output_type": "execute_result"
    }
   ],
   "source": [
    "# Periksa hasilnya - pastikan bahwa masalahnya telah diperbaiki\n",
    "cs_data['days_employed'] = np.ceil(cs_data['days_employed'])\n",
    "cs_data.head()"
   ]
  },
  {
   "cell_type": "code",
   "execution_count": 441,
   "metadata": {},
   "outputs": [
    {
     "data": {
      "text/plain": [
       "<AxesSubplot:>"
      ]
     },
     "execution_count": 441,
     "metadata": {},
     "output_type": "execute_result"
    },
    {
     "data": {
      "image/png": "[encoded data removed]",
      "text/plain": [
       "<Figure size 576x432 with 1 Axes>"
      ]
     },
     "metadata": {},
     "output_type": "display_data"
    }
   ],
   "source": [
    "cs_data.boxplot('days_employed')"
   ]
  },
  {
   "cell_type": "markdown",
   "metadata": {},
   "source": [
    "# Kolom `dob_years` <a id='dob_years_column'></a>"
   ]
  },
  {
   "cell_type": "markdown",
   "metadata": {},
   "source": [
    "* Kolom dob_years memiliki nilai aneh dimana seorang nasabah mempunyai usia 0. Secara logika, apabila seseorang baru berusia 0 tahun tidak dapat mengajukan pinjaman ke bank."
   ]
  },
  {
   "cell_type": "code",
   "execution_count": 442,
   "metadata": {
    "scrolled": false
   },
   "outputs": [
    {
     "name": "stdout",
     "output_type": "stream",
     "text": [
      "35    614\n",
      "41    603\n",
      "40    603\n",
      "34    597\n",
      "38    595\n",
      "42    592\n",
      "33    577\n",
      "39    572\n",
      "31    556\n",
      "36    553\n",
      "44    543\n",
      "29    543\n",
      "30    536\n",
      "48    536\n",
      "37    531\n",
      "43    510\n",
      "50    509\n",
      "32    506\n",
      "49    505\n",
      "28    501\n",
      "45    494\n",
      "27    490\n",
      "52    483\n",
      "56    482\n",
      "47    480\n",
      "54    476\n",
      "46    469\n",
      "58    461\n",
      "57    457\n",
      "53    457\n",
      "51    446\n",
      "55    441\n",
      "59    441\n",
      "26    406\n",
      "60    376\n",
      "25    356\n",
      "61    353\n",
      "62    351\n",
      "63    268\n",
      "24    263\n",
      "64    263\n",
      "23    252\n",
      "65    194\n",
      "66    183\n",
      "22    183\n",
      "67    167\n",
      "21    110\n",
      "0     100\n",
      "68     99\n",
      "69     83\n",
      "2      76\n",
      "70     65\n",
      "71     58\n",
      "20     51\n",
      "1      47\n",
      "72     33\n",
      "19     14\n",
      "73      8\n",
      "74      6\n",
      "75      1\n",
      "Name: dob_years, dtype: int64\n",
      "Mean age: 43.06202090592335\n",
      "Median age: 42.0\n",
      "\n"
     ]
    }
   ],
   "source": [
    "# Periksa `dob_years` untuk nilai yang mencurigakan dan hitung persentasenya\n",
    "print(cs_data['dob_years'].value_counts())\n",
    "print(f\"Mean age: {cs_data['dob_years'].mean()}\")\n",
    "print(f\"Median age: {cs_data['dob_years'].median()}\", end='\\n\\n')"
   ]
  },
  {
   "cell_type": "code",
   "execution_count": 443,
   "metadata": {},
   "outputs": [
    {
     "data": {
      "text/plain": [
       "0.46"
      ]
     },
     "execution_count": 443,
     "metadata": {},
     "output_type": "execute_result"
    }
   ],
   "source": [
    "# Menghitung persentase nilai yang mencurigakan\n",
    "dob_years_odd = len(cs_data.loc[cs_data['dob_years'] == 0])\n",
    "percentage_dob_years_null = dob_years_odd / len(cs_data) * 100\n",
    "\n",
    "round(percentage_dob_years_null, 2)"
   ]
  },
  {
   "cell_type": "markdown",
   "metadata": {},
   "source": [
    "* Terdapat 167 entri dengan umur 2 tahun\n",
    "* Terdapat 47 entri dengan umur 1 tahun\n",
    "* Terdapat 100 entri dengan umur 0 tahun\n",
    "* Untuk data umur 1 dan 2, itu harus dihapus seluruhnya. Untuk usia = 0, kita cukup menetapkan usia rata-rata 42 tahun (yang mendekati usia rata-rata 43 tahun)."
   ]
  },
  {
   "cell_type": "code",
   "execution_count": 444,
   "metadata": {},
   "outputs": [],
   "source": [
    "# Atasi masalah pada kolom `dob_years`, jika terdapat masalah\n",
    "cs_data = cs_data[cs_data['dob_years']>2]"
   ]
  },
  {
   "cell_type": "code",
   "execution_count": 445,
   "metadata": {
    "scrolled": true
   },
   "outputs": [
    {
     "data": {
      "text/html": [
       "<div>\n",
       "<style scoped>\n",
       "    .dataframe tbody tr th:only-of-type {\n",
       "        vertical-align: middle;\n",
       "    }\n",
       "\n",
       "    .dataframe tbody tr th {\n",
       "        vertical-align: top;\n",
       "    }\n",
       "\n",
       "    .dataframe thead th {\n",
       "        text-align: right;\n",
       "    }\n",
       "</style>\n",
       "<table border=\"1\" class=\"dataframe\">\n",
       "  <thead>\n",
       "    <tr style=\"text-align: right;\">\n",
       "      <th></th>\n",
       "      <th>children</th>\n",
       "      <th>days_employed</th>\n",
       "      <th>dob_years</th>\n",
       "      <th>education</th>\n",
       "      <th>education_id</th>\n",
       "      <th>family_status</th>\n",
       "      <th>family_status_id</th>\n",
       "      <th>gender</th>\n",
       "      <th>income_type</th>\n",
       "      <th>debt</th>\n",
       "      <th>total_income</th>\n",
       "      <th>purpose</th>\n",
       "    </tr>\n",
       "  </thead>\n",
       "  <tbody>\n",
       "    <tr>\n",
       "      <th>0</th>\n",
       "      <td>1</td>\n",
       "      <td>8438.0</td>\n",
       "      <td>42</td>\n",
       "      <td>bachelor's degree</td>\n",
       "      <td>0</td>\n",
       "      <td>married</td>\n",
       "      <td>0</td>\n",
       "      <td>F</td>\n",
       "      <td>employee</td>\n",
       "      <td>0</td>\n",
       "      <td>40620.102</td>\n",
       "      <td>purchase of the house</td>\n",
       "    </tr>\n",
       "    <tr>\n",
       "      <th>1</th>\n",
       "      <td>1</td>\n",
       "      <td>4025.0</td>\n",
       "      <td>36</td>\n",
       "      <td>secondary education</td>\n",
       "      <td>1</td>\n",
       "      <td>married</td>\n",
       "      <td>0</td>\n",
       "      <td>F</td>\n",
       "      <td>employee</td>\n",
       "      <td>0</td>\n",
       "      <td>17932.802</td>\n",
       "      <td>car purchase</td>\n",
       "    </tr>\n",
       "    <tr>\n",
       "      <th>2</th>\n",
       "      <td>0</td>\n",
       "      <td>5624.0</td>\n",
       "      <td>33</td>\n",
       "      <td>secondary education</td>\n",
       "      <td>1</td>\n",
       "      <td>married</td>\n",
       "      <td>0</td>\n",
       "      <td>M</td>\n",
       "      <td>employee</td>\n",
       "      <td>0</td>\n",
       "      <td>23341.752</td>\n",
       "      <td>purchase of the house</td>\n",
       "    </tr>\n",
       "    <tr>\n",
       "      <th>3</th>\n",
       "      <td>3</td>\n",
       "      <td>4125.0</td>\n",
       "      <td>32</td>\n",
       "      <td>secondary education</td>\n",
       "      <td>1</td>\n",
       "      <td>married</td>\n",
       "      <td>0</td>\n",
       "      <td>M</td>\n",
       "      <td>employee</td>\n",
       "      <td>0</td>\n",
       "      <td>42820.568</td>\n",
       "      <td>supplementary education</td>\n",
       "    </tr>\n",
       "    <tr>\n",
       "      <th>4</th>\n",
       "      <td>0</td>\n",
       "      <td>340267.0</td>\n",
       "      <td>53</td>\n",
       "      <td>secondary education</td>\n",
       "      <td>1</td>\n",
       "      <td>civil partnership</td>\n",
       "      <td>1</td>\n",
       "      <td>F</td>\n",
       "      <td>retiree</td>\n",
       "      <td>0</td>\n",
       "      <td>25378.572</td>\n",
       "      <td>to have a wedding</td>\n",
       "    </tr>\n",
       "  </tbody>\n",
       "</table>\n",
       "</div>"
      ],
      "text/plain": [
       "   children  days_employed  dob_years            education  education_id  \\\n",
       "0         1         8438.0         42    bachelor's degree             0   \n",
       "1         1         4025.0         36  secondary education             1   \n",
       "2         0         5624.0         33  secondary education             1   \n",
       "3         3         4125.0         32  secondary education             1   \n",
       "4         0       340267.0         53  secondary education             1   \n",
       "\n",
       "       family_status  family_status_id gender income_type  debt  total_income  \\\n",
       "0            married                 0      F    employee     0     40620.102   \n",
       "1            married                 0      F    employee     0     17932.802   \n",
       "2            married                 0      M    employee     0     23341.752   \n",
       "3            married                 0      M    employee     0     42820.568   \n",
       "4  civil partnership                 1      F     retiree     0     25378.572   \n",
       "\n",
       "                   purpose  \n",
       "0    purchase of the house  \n",
       "1             car purchase  \n",
       "2    purchase of the house  \n",
       "3  supplementary education  \n",
       "4        to have a wedding  "
      ]
     },
     "execution_count": 445,
     "metadata": {},
     "output_type": "execute_result"
    }
   ],
   "source": [
    "# Periksa hasilnya - pastikan bahwa masalahnya telah diperbaiki\n",
    "cs_data.head()"
   ]
  },
  {
   "cell_type": "code",
   "execution_count": 446,
   "metadata": {
    "scrolled": false
   },
   "outputs": [
    {
     "data": {
      "text/plain": [
       "<AxesSubplot:>"
      ]
     },
     "execution_count": 446,
     "metadata": {},
     "output_type": "execute_result"
    },
    {
     "data": {
      "image/png": "[encoded data removed]",
      "text/plain": [
       "<Figure size 576x432 with 1 Axes>"
      ]
     },
     "metadata": {},
     "output_type": "display_data"
    }
   ],
   "source": [
    "cs_data.boxplot('dob_years')"
   ]
  },
  {
   "cell_type": "code",
   "execution_count": 447,
   "metadata": {
    "scrolled": true
   },
   "outputs": [
    {
     "data": {
      "text/plain": [
       "children            0\n",
       "days_employed       0\n",
       "dob_years           0\n",
       "education           0\n",
       "education_id        0\n",
       "family_status       0\n",
       "family_status_id    0\n",
       "gender              0\n",
       "income_type         0\n",
       "debt                0\n",
       "total_income        0\n",
       "purpose             0\n",
       "dtype: int64"
      ]
     },
     "execution_count": 447,
     "metadata": {},
     "output_type": "execute_result"
    }
   ],
   "source": [
    "cs_data[cs_data['dob_years'] <= 2].count()"
   ]
  },
  {
   "cell_type": "markdown",
   "metadata": {},
   "source": [
    "# Kolom `family_status` <a id='family_status_column'></a>"
   ]
  },
  {
   "cell_type": "markdown",
   "metadata": {},
   "source": [
    "* Terdapat 5 kategori status keluarga. Satu-satunya masalah yang dapat muncul adalah jika kolom family_status_id tidak cocok dengan deskripsi kategori status."
   ]
  },
  {
   "cell_type": "code",
   "execution_count": 448,
   "metadata": {},
   "outputs": [
    {
     "data": {
      "text/plain": [
       "family_status      family_status_id\n",
       "civil partnership  1                    4139\n",
       "divorced           3                    1179\n",
       "married            0                   12254\n",
       "unmarried          4                    2783\n",
       "widow / widower    2                     947\n",
       "Name: family_status_id, dtype: int64"
      ]
     },
     "execution_count": 448,
     "metadata": {},
     "output_type": "execute_result"
    }
   ],
   "source": [
    "# Mari kita lihat nilai untuk kolom ini\n",
    "cs_data.groupby('family_status')['family_status_id'].value_counts()"
   ]
  },
  {
   "cell_type": "markdown",
   "metadata": {},
   "source": [
    "**Sekilas saya melihat tidak ada masalah atau tidak ada ketidakcocokkan data antara family_status dan family_status_id**"
   ]
  },
  {
   "cell_type": "markdown",
   "metadata": {},
   "source": [
    "# Kolom `gender` <a id='gender_column'></a>"
   ]
  },
  {
   "cell_type": "markdown",
   "metadata": {},
   "source": [
    "* Kolom 'gender' tidak memiliki nilai null/kosong, sehingga yang perlu kita lihat adalah apakah terdapat nilai yang tak terduga selain (F & M)"
   ]
  },
  {
   "cell_type": "code",
   "execution_count": 449,
   "metadata": {},
   "outputs": [
    {
     "data": {
      "text/plain": [
       "F      14083\n",
       "M       7218\n",
       "XNA        1\n",
       "Name: gender, dtype: int64"
      ]
     },
     "execution_count": 449,
     "metadata": {},
     "output_type": "execute_result"
    }
   ],
   "source": [
    "# Mari kita liat nilai dalam kolom ini\n",
    "cs_data['gender'].value_counts()"
   ]
  },
  {
   "cell_type": "code",
   "execution_count": 450,
   "metadata": {},
   "outputs": [
    {
     "data": {
      "text/html": [
       "<div>\n",
       "<style scoped>\n",
       "    .dataframe tbody tr th:only-of-type {\n",
       "        vertical-align: middle;\n",
       "    }\n",
       "\n",
       "    .dataframe tbody tr th {\n",
       "        vertical-align: top;\n",
       "    }\n",
       "\n",
       "    .dataframe thead th {\n",
       "        text-align: right;\n",
       "    }\n",
       "</style>\n",
       "<table border=\"1\" class=\"dataframe\">\n",
       "  <thead>\n",
       "    <tr style=\"text-align: right;\">\n",
       "      <th></th>\n",
       "      <th>children</th>\n",
       "      <th>days_employed</th>\n",
       "      <th>dob_years</th>\n",
       "      <th>education</th>\n",
       "      <th>education_id</th>\n",
       "      <th>family_status</th>\n",
       "      <th>family_status_id</th>\n",
       "      <th>gender</th>\n",
       "      <th>income_type</th>\n",
       "      <th>debt</th>\n",
       "      <th>total_income</th>\n",
       "      <th>purpose</th>\n",
       "    </tr>\n",
       "  </thead>\n",
       "  <tbody>\n",
       "    <tr>\n",
       "      <th>10701</th>\n",
       "      <td>0</td>\n",
       "      <td>2359.0</td>\n",
       "      <td>24</td>\n",
       "      <td>some college</td>\n",
       "      <td>2</td>\n",
       "      <td>civil partnership</td>\n",
       "      <td>1</td>\n",
       "      <td>XNA</td>\n",
       "      <td>business</td>\n",
       "      <td>0</td>\n",
       "      <td>32624.825</td>\n",
       "      <td>buy real estate</td>\n",
       "    </tr>\n",
       "  </tbody>\n",
       "</table>\n",
       "</div>"
      ],
      "text/plain": [
       "       children  days_employed  dob_years     education  education_id  \\\n",
       "10701         0         2359.0         24  some college             2   \n",
       "\n",
       "           family_status  family_status_id gender income_type  debt  \\\n",
       "10701  civil partnership                 1    XNA    business     0   \n",
       "\n",
       "       total_income          purpose  \n",
       "10701     32624.825  buy real estate  "
      ]
     },
     "execution_count": 450,
     "metadata": {},
     "output_type": "execute_result"
    }
   ],
   "source": [
    "# Atasi nilai-nilai yang bermasalah, jika ada\n",
    "cs_data[cs_data['gender'] == 'XNA']"
   ]
  },
  {
   "cell_type": "markdown",
   "metadata": {},
   "source": [
    "* Terdapat data 'XNA' yang tidak bisa kita identifikasikan apakah itu Female or Male.\n",
    "* Dikarenakan data pendukung tidak memungkinkan untuk mengganti nilai XNA dan jumlanya sangat kecil <1% maka akan lebih baik jika di hapus."
   ]
  },
  {
   "cell_type": "code",
   "execution_count": 451,
   "metadata": {},
   "outputs": [],
   "source": [
    "# Menghapus XNA dari dataset\n",
    "i = cs_data[(cs_data['gender'] == 'XNA')].index\n",
    "\n",
    "cs_data = cs_data.drop(i)"
   ]
  },
  {
   "cell_type": "code",
   "execution_count": 452,
   "metadata": {},
   "outputs": [
    {
     "data": {
      "text/plain": [
       "F    14083\n",
       "M     7218\n",
       "Name: gender, dtype: int64"
      ]
     },
     "execution_count": 452,
     "metadata": {},
     "output_type": "execute_result"
    }
   ],
   "source": [
    "# Periksa hasilnya - pastikan bahwa masalahnya telah diperbaiki\n",
    "cs_data['gender'].value_counts()"
   ]
  },
  {
   "cell_type": "markdown",
   "metadata": {},
   "source": [
    "# Kolom `income_type` <a id='income_type__column'></a>"
   ]
  },
  {
   "cell_type": "markdown",
   "metadata": {},
   "source": [
    "* Sekilas saya melihat tidak terdapat keanehan yang signifikan dari kolom 'income_type'"
   ]
  },
  {
   "cell_type": "code",
   "execution_count": 453,
   "metadata": {},
   "outputs": [
    {
     "data": {
      "text/plain": [
       "employee                       10996\n",
       "business                        5033\n",
       "retiree                         3819\n",
       "civil servant                   1447\n",
       "unemployed                         2\n",
       "entrepreneur                       2\n",
       "paternity / maternity leave        1\n",
       "student                            1\n",
       "Name: income_type, dtype: int64"
      ]
     },
     "execution_count": 453,
     "metadata": {},
     "output_type": "execute_result"
    }
   ],
   "source": [
    "# Mari kita lihat nilai dalam kolom ini\n",
    "cs_data['income_type'].value_counts()"
   ]
  },
  {
   "cell_type": "code",
   "execution_count": 454,
   "metadata": {},
   "outputs": [
    {
     "data": {
      "text/html": [
       "<div>\n",
       "<style scoped>\n",
       "    .dataframe tbody tr th:only-of-type {\n",
       "        vertical-align: middle;\n",
       "    }\n",
       "\n",
       "    .dataframe tbody tr th {\n",
       "        vertical-align: top;\n",
       "    }\n",
       "\n",
       "    .dataframe thead th {\n",
       "        text-align: right;\n",
       "    }\n",
       "</style>\n",
       "<table border=\"1\" class=\"dataframe\">\n",
       "  <thead>\n",
       "    <tr style=\"text-align: right;\">\n",
       "      <th></th>\n",
       "      <th>children</th>\n",
       "      <th>days_employed</th>\n",
       "      <th>dob_years</th>\n",
       "      <th>education</th>\n",
       "      <th>education_id</th>\n",
       "      <th>family_status</th>\n",
       "      <th>family_status_id</th>\n",
       "      <th>gender</th>\n",
       "      <th>income_type</th>\n",
       "      <th>debt</th>\n",
       "      <th>total_income</th>\n",
       "      <th>purpose</th>\n",
       "    </tr>\n",
       "  </thead>\n",
       "  <tbody>\n",
       "    <tr>\n",
       "      <th>3133</th>\n",
       "      <td>1</td>\n",
       "      <td>337525.0</td>\n",
       "      <td>31</td>\n",
       "      <td>secondary education</td>\n",
       "      <td>1</td>\n",
       "      <td>married</td>\n",
       "      <td>0</td>\n",
       "      <td>M</td>\n",
       "      <td>unemployed</td>\n",
       "      <td>1</td>\n",
       "      <td>9593.119</td>\n",
       "      <td>buying property for renting out</td>\n",
       "    </tr>\n",
       "    <tr>\n",
       "      <th>14798</th>\n",
       "      <td>0</td>\n",
       "      <td>395303.0</td>\n",
       "      <td>45</td>\n",
       "      <td>bachelor's degree</td>\n",
       "      <td>0</td>\n",
       "      <td>civil partnership</td>\n",
       "      <td>1</td>\n",
       "      <td>F</td>\n",
       "      <td>unemployed</td>\n",
       "      <td>0</td>\n",
       "      <td>32435.602</td>\n",
       "      <td>housing renovation</td>\n",
       "    </tr>\n",
       "  </tbody>\n",
       "</table>\n",
       "</div>"
      ],
      "text/plain": [
       "       children  days_employed  dob_years            education  education_id  \\\n",
       "3133          1       337525.0         31  secondary education             1   \n",
       "14798         0       395303.0         45    bachelor's degree             0   \n",
       "\n",
       "           family_status  family_status_id gender income_type  debt  \\\n",
       "3133             married                 0      M  unemployed     1   \n",
       "14798  civil partnership                 1      F  unemployed     0   \n",
       "\n",
       "       total_income                          purpose  \n",
       "3133       9593.119  buying property for renting out  \n",
       "14798     32435.602               housing renovation  "
      ]
     },
     "execution_count": 454,
     "metadata": {},
     "output_type": "execute_result"
    }
   ],
   "source": [
    "# Melihat apakah ada hubungannya dengan 'unemployed'\n",
    "cs_data.loc[cs_data['income_type'] == 'unemployed']"
   ]
  },
  {
   "cell_type": "markdown",
   "metadata": {},
   "source": [
    "* Sekilas kita melihat bahwa terdapat 2 entry yang mempunyai 'income_type' unemployed, namun masih terdapat nilai days_employed dan 'total_income'\n",
    "* Kita bisa berasumsi bahwa orang tersebut kemungkinan bingung apakah harus mengisi ketika masih bekerja atau tidak. Dan asumsi lain ada kemungkinan 2 data ini mengisi data (palsu/bohong) untuk mendapatkan pinjaman\n",
    "* Karena tidak berpengaruh signifikan, maka kita akan menghapus data itu."
   ]
  },
  {
   "cell_type": "code",
   "execution_count": 455,
   "metadata": {},
   "outputs": [
    {
     "data": {
      "text/html": [
       "<div>\n",
       "<style scoped>\n",
       "    .dataframe tbody tr th:only-of-type {\n",
       "        vertical-align: middle;\n",
       "    }\n",
       "\n",
       "    .dataframe tbody tr th {\n",
       "        vertical-align: top;\n",
       "    }\n",
       "\n",
       "    .dataframe thead th {\n",
       "        text-align: right;\n",
       "    }\n",
       "</style>\n",
       "<table border=\"1\" class=\"dataframe\">\n",
       "  <thead>\n",
       "    <tr style=\"text-align: right;\">\n",
       "      <th></th>\n",
       "      <th>children</th>\n",
       "      <th>days_employed</th>\n",
       "      <th>dob_years</th>\n",
       "      <th>education</th>\n",
       "      <th>education_id</th>\n",
       "      <th>family_status</th>\n",
       "      <th>family_status_id</th>\n",
       "      <th>gender</th>\n",
       "      <th>income_type</th>\n",
       "      <th>debt</th>\n",
       "      <th>total_income</th>\n",
       "      <th>purpose</th>\n",
       "    </tr>\n",
       "  </thead>\n",
       "  <tbody>\n",
       "  </tbody>\n",
       "</table>\n",
       "</div>"
      ],
      "text/plain": [
       "Empty DataFrame\n",
       "Columns: [children, days_employed, dob_years, education, education_id, family_status, family_status_id, gender, income_type, debt, total_income, purpose]\n",
       "Index: []"
      ]
     },
     "execution_count": 455,
     "metadata": {},
     "output_type": "execute_result"
    }
   ],
   "source": [
    "# Menghapus data unemployed\n",
    "cs_data.drop(cs_data[cs_data['income_type'] == 'unemployed'].index, inplace=True)\n",
    "cs_data.loc[cs_data['income_type'] == 'unemployed']"
   ]
  },
  {
   "cell_type": "code",
   "execution_count": 456,
   "metadata": {
    "scrolled": true
   },
   "outputs": [
    {
     "data": {
      "text/html": [
       "<div>\n",
       "<style scoped>\n",
       "    .dataframe tbody tr th:only-of-type {\n",
       "        vertical-align: middle;\n",
       "    }\n",
       "\n",
       "    .dataframe tbody tr th {\n",
       "        vertical-align: top;\n",
       "    }\n",
       "\n",
       "    .dataframe thead th {\n",
       "        text-align: right;\n",
       "    }\n",
       "</style>\n",
       "<table border=\"1\" class=\"dataframe\">\n",
       "  <thead>\n",
       "    <tr style=\"text-align: right;\">\n",
       "      <th></th>\n",
       "      <th>children</th>\n",
       "      <th>days_employed</th>\n",
       "      <th>dob_years</th>\n",
       "      <th>education</th>\n",
       "      <th>education_id</th>\n",
       "      <th>family_status</th>\n",
       "      <th>family_status_id</th>\n",
       "      <th>gender</th>\n",
       "      <th>income_type</th>\n",
       "      <th>debt</th>\n",
       "      <th>total_income</th>\n",
       "      <th>purpose</th>\n",
       "    </tr>\n",
       "  </thead>\n",
       "  <tbody>\n",
       "    <tr>\n",
       "      <th>9410</th>\n",
       "      <td>0</td>\n",
       "      <td>579.0</td>\n",
       "      <td>22</td>\n",
       "      <td>bachelor's degree</td>\n",
       "      <td>0</td>\n",
       "      <td>unmarried</td>\n",
       "      <td>4</td>\n",
       "      <td>M</td>\n",
       "      <td>student</td>\n",
       "      <td>0</td>\n",
       "      <td>15712.26</td>\n",
       "      <td>construction of own property</td>\n",
       "    </tr>\n",
       "  </tbody>\n",
       "</table>\n",
       "</div>"
      ],
      "text/plain": [
       "      children  days_employed  dob_years          education  education_id  \\\n",
       "9410         0          579.0         22  bachelor's degree             0   \n",
       "\n",
       "     family_status  family_status_id gender income_type  debt  total_income  \\\n",
       "9410     unmarried                 4      M     student     0      15712.26   \n",
       "\n",
       "                           purpose  \n",
       "9410  construction of own property  "
      ]
     },
     "execution_count": 456,
     "metadata": {},
     "output_type": "execute_result"
    }
   ],
   "source": [
    "# Melihat apakah ada hubungannya dengan 'student'\n",
    "cs_data.loc[cs_data['income_type'] == 'student']"
   ]
  },
  {
   "cell_type": "code",
   "execution_count": 457,
   "metadata": {},
   "outputs": [
    {
     "data": {
      "text/html": [
       "<div>\n",
       "<style scoped>\n",
       "    .dataframe tbody tr th:only-of-type {\n",
       "        vertical-align: middle;\n",
       "    }\n",
       "\n",
       "    .dataframe tbody tr th {\n",
       "        vertical-align: top;\n",
       "    }\n",
       "\n",
       "    .dataframe thead th {\n",
       "        text-align: right;\n",
       "    }\n",
       "</style>\n",
       "<table border=\"1\" class=\"dataframe\">\n",
       "  <thead>\n",
       "    <tr style=\"text-align: right;\">\n",
       "      <th></th>\n",
       "      <th>children</th>\n",
       "      <th>days_employed</th>\n",
       "      <th>dob_years</th>\n",
       "      <th>education</th>\n",
       "      <th>education_id</th>\n",
       "      <th>family_status</th>\n",
       "      <th>family_status_id</th>\n",
       "      <th>gender</th>\n",
       "      <th>income_type</th>\n",
       "      <th>debt</th>\n",
       "      <th>total_income</th>\n",
       "      <th>purpose</th>\n",
       "    </tr>\n",
       "  </thead>\n",
       "  <tbody>\n",
       "  </tbody>\n",
       "</table>\n",
       "</div>"
      ],
      "text/plain": [
       "Empty DataFrame\n",
       "Columns: [children, days_employed, dob_years, education, education_id, family_status, family_status_id, gender, income_type, debt, total_income, purpose]\n",
       "Index: []"
      ]
     },
     "execution_count": 457,
     "metadata": {},
     "output_type": "execute_result"
    }
   ],
   "source": [
    "# Menghapus data student\n",
    "cs_data.drop(cs_data[cs_data['income_type'] == 'student'].index, inplace=True)\n",
    "cs_data.loc[cs_data['income_type'] == 'student']"
   ]
  },
  {
   "cell_type": "markdown",
   "metadata": {},
   "source": [
    "* Karena kolom 'days_employed', 'total_income', dan 'purpose' sangat spesifik, kemungkinan tidak akan ada banyak baris duplikat. * Mungkin ada beberapa baris duplikat di 'education', meskipun kita sudah mengubahnya ke format lower."
   ]
  },
  {
   "cell_type": "code",
   "execution_count": 458,
   "metadata": {
    "scrolled": true
   },
   "outputs": [
    {
     "name": "stdout",
     "output_type": "stream",
     "text": [
      "<class 'pandas.core.frame.DataFrame'>\n",
      "Int64Index: 71 entries, 2849 to 21415\n",
      "Data columns (total 12 columns):\n",
      " #   Column            Non-Null Count  Dtype  \n",
      "---  ------            --------------  -----  \n",
      " 0   children          71 non-null     int64  \n",
      " 1   days_employed     0 non-null      float64\n",
      " 2   dob_years         71 non-null     int64  \n",
      " 3   education         71 non-null     object \n",
      " 4   education_id      71 non-null     int64  \n",
      " 5   family_status     71 non-null     object \n",
      " 6   family_status_id  71 non-null     int64  \n",
      " 7   gender            71 non-null     object \n",
      " 8   income_type       71 non-null     object \n",
      " 9   debt              71 non-null     int64  \n",
      " 10  total_income      0 non-null      float64\n",
      " 11  purpose           71 non-null     object \n",
      "dtypes: float64(2), int64(5), object(5)\n",
      "memory usage: 7.2+ KB\n"
     ]
    }
   ],
   "source": [
    "# Periksa duplikat pada setiap kolom\n",
    "cs_data[cs_data.duplicated()].info()"
   ]
  },
  {
   "cell_type": "code",
   "execution_count": 459,
   "metadata": {},
   "outputs": [
    {
     "data": {
      "text/plain": [
       "71"
      ]
     },
     "execution_count": 459,
     "metadata": {},
     "output_type": "execute_result"
    }
   ],
   "source": [
    "# Memeriksa jumlah duplikat\n",
    "cs_data.duplicated().sum()"
   ]
  },
  {
   "cell_type": "code",
   "execution_count": 460,
   "metadata": {},
   "outputs": [],
   "source": [
    "# Atasi duplikat, jika ada\n",
    "cs_data = cs_data.drop_duplicates()"
   ]
  },
  {
   "cell_type": "code",
   "execution_count": 461,
   "metadata": {
    "scrolled": true
   },
   "outputs": [
    {
     "name": "stdout",
     "output_type": "stream",
     "text": [
      "<class 'pandas.core.frame.DataFrame'>\n",
      "Int64Index: 0 entries\n",
      "Data columns (total 12 columns):\n",
      " #   Column            Non-Null Count  Dtype  \n",
      "---  ------            --------------  -----  \n",
      " 0   children          0 non-null      int64  \n",
      " 1   days_employed     0 non-null      float64\n",
      " 2   dob_years         0 non-null      int64  \n",
      " 3   education         0 non-null      object \n",
      " 4   education_id      0 non-null      int64  \n",
      " 5   family_status     0 non-null      object \n",
      " 6   family_status_id  0 non-null      int64  \n",
      " 7   gender            0 non-null      object \n",
      " 8   income_type       0 non-null      object \n",
      " 9   debt              0 non-null      int64  \n",
      " 10  total_income      0 non-null      float64\n",
      " 11  purpose           0 non-null      object \n",
      "dtypes: float64(2), int64(5), object(5)\n",
      "memory usage: 0.0+ bytes\n"
     ]
    }
   ],
   "source": [
    "# Lakukan pemeriksaan terakhir untuk mengecek apakah kita memiliki duplikat\n",
    "cs_data[cs_data.duplicated()].info()"
   ]
  },
  {
   "cell_type": "code",
   "execution_count": 462,
   "metadata": {},
   "outputs": [
    {
     "data": {
      "text/plain": [
       "0"
      ]
     },
     "execution_count": 462,
     "metadata": {},
     "output_type": "execute_result"
    }
   ],
   "source": [
    "# Memastikan apakah duplikat sudah berhasil dihapus\n",
    "cs_data.duplicated().sum()"
   ]
  },
  {
   "cell_type": "code",
   "execution_count": 463,
   "metadata": {},
   "outputs": [
    {
     "data": {
      "text/html": [
       "<div>\n",
       "<style scoped>\n",
       "    .dataframe tbody tr th:only-of-type {\n",
       "        vertical-align: middle;\n",
       "    }\n",
       "\n",
       "    .dataframe tbody tr th {\n",
       "        vertical-align: top;\n",
       "    }\n",
       "\n",
       "    .dataframe thead th {\n",
       "        text-align: right;\n",
       "    }\n",
       "</style>\n",
       "<table border=\"1\" class=\"dataframe\">\n",
       "  <thead>\n",
       "    <tr style=\"text-align: right;\">\n",
       "      <th></th>\n",
       "      <th>children</th>\n",
       "      <th>days_employed</th>\n",
       "      <th>dob_years</th>\n",
       "      <th>education_id</th>\n",
       "      <th>family_status_id</th>\n",
       "      <th>debt</th>\n",
       "      <th>total_income</th>\n",
       "    </tr>\n",
       "  </thead>\n",
       "  <tbody>\n",
       "    <tr>\n",
       "      <th>count</th>\n",
       "      <td>21227.000000</td>\n",
       "      <td>19146.000000</td>\n",
       "      <td>21227.000000</td>\n",
       "      <td>21227.000000</td>\n",
       "      <td>21227.000000</td>\n",
       "      <td>21227.000000</td>\n",
       "      <td>19146.000000</td>\n",
       "    </tr>\n",
       "    <tr>\n",
       "      <th>mean</th>\n",
       "      <td>0.474019</td>\n",
       "      <td>66988.550977</td>\n",
       "      <td>43.484242</td>\n",
       "      <td>0.817685</td>\n",
       "      <td>0.973100</td>\n",
       "      <td>0.081170</td>\n",
       "      <td>26799.882292</td>\n",
       "    </tr>\n",
       "    <tr>\n",
       "      <th>std</th>\n",
       "      <td>0.752220</td>\n",
       "      <td>139098.706414</td>\n",
       "      <td>12.247463</td>\n",
       "      <td>0.549296</td>\n",
       "      <td>1.421153</td>\n",
       "      <td>0.273103</td>\n",
       "      <td>16516.094126</td>\n",
       "    </tr>\n",
       "    <tr>\n",
       "      <th>min</th>\n",
       "      <td>0.000000</td>\n",
       "      <td>25.000000</td>\n",
       "      <td>19.000000</td>\n",
       "      <td>0.000000</td>\n",
       "      <td>0.000000</td>\n",
       "      <td>0.000000</td>\n",
       "      <td>3306.762000</td>\n",
       "    </tr>\n",
       "    <tr>\n",
       "      <th>25%</th>\n",
       "      <td>0.000000</td>\n",
       "      <td>928.000000</td>\n",
       "      <td>33.000000</td>\n",
       "      <td>1.000000</td>\n",
       "      <td>0.000000</td>\n",
       "      <td>0.000000</td>\n",
       "      <td>16492.658500</td>\n",
       "    </tr>\n",
       "    <tr>\n",
       "      <th>50%</th>\n",
       "      <td>0.000000</td>\n",
       "      <td>2198.000000</td>\n",
       "      <td>43.000000</td>\n",
       "      <td>1.000000</td>\n",
       "      <td>0.000000</td>\n",
       "      <td>0.000000</td>\n",
       "      <td>23203.328000</td>\n",
       "    </tr>\n",
       "    <tr>\n",
       "      <th>75%</th>\n",
       "      <td>1.000000</td>\n",
       "      <td>5554.750000</td>\n",
       "      <td>53.000000</td>\n",
       "      <td>1.000000</td>\n",
       "      <td>1.000000</td>\n",
       "      <td>0.000000</td>\n",
       "      <td>32544.513250</td>\n",
       "    </tr>\n",
       "    <tr>\n",
       "      <th>max</th>\n",
       "      <td>5.000000</td>\n",
       "      <td>401756.000000</td>\n",
       "      <td>75.000000</td>\n",
       "      <td>4.000000</td>\n",
       "      <td>4.000000</td>\n",
       "      <td>1.000000</td>\n",
       "      <td>362496.645000</td>\n",
       "    </tr>\n",
       "  </tbody>\n",
       "</table>\n",
       "</div>"
      ],
      "text/plain": [
       "           children  days_employed     dob_years  education_id  \\\n",
       "count  21227.000000   19146.000000  21227.000000  21227.000000   \n",
       "mean       0.474019   66988.550977     43.484242      0.817685   \n",
       "std        0.752220  139098.706414     12.247463      0.549296   \n",
       "min        0.000000      25.000000     19.000000      0.000000   \n",
       "25%        0.000000     928.000000     33.000000      1.000000   \n",
       "50%        0.000000    2198.000000     43.000000      1.000000   \n",
       "75%        1.000000    5554.750000     53.000000      1.000000   \n",
       "max        5.000000  401756.000000     75.000000      4.000000   \n",
       "\n",
       "       family_status_id          debt   total_income  \n",
       "count      21227.000000  21227.000000   19146.000000  \n",
       "mean           0.973100      0.081170   26799.882292  \n",
       "std            1.421153      0.273103   16516.094126  \n",
       "min            0.000000      0.000000    3306.762000  \n",
       "25%            0.000000      0.000000   16492.658500  \n",
       "50%            0.000000      0.000000   23203.328000  \n",
       "75%            1.000000      0.000000   32544.513250  \n",
       "max            4.000000      1.000000  362496.645000  "
      ]
     },
     "execution_count": 463,
     "metadata": {},
     "output_type": "execute_result"
    }
   ],
   "source": [
    "# Memeriksa ringkasan statistik dari DataFrame\n",
    "cs_data.describe()"
   ]
  },
  {
   "cell_type": "code",
   "execution_count": 464,
   "metadata": {},
   "outputs": [
    {
     "data": {
      "text/plain": [
       "(21227, 12)"
      ]
     },
     "execution_count": 464,
     "metadata": {},
     "output_type": "execute_result"
    }
   ],
   "source": [
    "# Periksa ukuran dataset yang sekarang Anda miliki setelah manipulasi pertama yang Anda lakukan\n",
    "cs_data.shape"
   ]
  },
  {
   "cell_type": "markdown",
   "metadata": {},
   "source": [
    "* Sebagian besar perubahan yang dilakukan adalah membuat data lebih konsisten dalam pemformatan. \n",
    "* Nilai-nilai yang hilang sebagian kecil sudah kita hilangkan. "
   ]
  },
  {
   "cell_type": "markdown",
   "metadata": {},
   "source": [
    "# Bekerja dengan nilai yang hilang <a id='null_data'></a>"
   ]
  },
  {
   "cell_type": "code",
   "execution_count": 465,
   "metadata": {},
   "outputs": [],
   "source": [
    "# Temukan dictionary\n",
    "# Membuat dictionary children_dict\n",
    "children_dict = cs_data[['children']]\n",
    "children_dict = children_dict.drop_duplicates().reset_index(drop=True)"
   ]
  },
  {
   "cell_type": "code",
   "execution_count": 466,
   "metadata": {},
   "outputs": [],
   "source": [
    "# Membuat dictionary debt_dict\n",
    "debt_dict = cs_data[['debt']]\n",
    "debt_dict = debt_dict.drop_duplicates().reset_index(drop=True)"
   ]
  },
  {
   "cell_type": "markdown",
   "metadata": {},
   "source": [
    "# Memperbaiki nilai yang hilang di `total_income` <a id='null_total_income'></a>"
   ]
  },
  {
   "cell_type": "markdown",
   "metadata": {},
   "source": [
    "**Hanya ada dua kolom dengan nilai yang hilang: 'days_employed' dan 'total_income'.**\n",
    "\n",
    "**Pertama, karena usia kemungkinan merupakan prediktor kuat untuk pendapatan total, usia akan dikelompokkan dalam kelompok 10 tahun, dari 0 hingga 70+**"
   ]
  },
  {
   "cell_type": "code",
   "execution_count": 467,
   "metadata": {},
   "outputs": [],
   "source": [
    "# Mari kita tulis sebuah fungsi untuk menghitung kategori usia\n",
    "def assign_age_group(age):\n",
    "    if age < 0 or pd.isna(age):\n",
    "        return 'NA'\n",
    "    elif age < 10:\n",
    "        return '0-9'\n",
    "    elif age < 20:\n",
    "        return '10-19'\n",
    "    elif age < 30:\n",
    "        return '20-29'\n",
    "    elif age < 40:\n",
    "        return '30-39'\n",
    "    elif age < 50:\n",
    "        return '40-49'\n",
    "    elif age < 60:\n",
    "        return '50-59'\n",
    "    elif age < 70:\n",
    "        return '60-69'\n",
    "    else:\n",
    "        return '70+'"
   ]
  },
  {
   "cell_type": "code",
   "execution_count": 468,
   "metadata": {
    "scrolled": true
   },
   "outputs": [
    {
     "data": {
      "text/plain": [
       "0        40-49\n",
       "1        30-39\n",
       "2        30-39\n",
       "3        30-39\n",
       "4        50-59\n",
       "         ...  \n",
       "21520    40-49\n",
       "21521    60-69\n",
       "21522    30-39\n",
       "21523    30-39\n",
       "21524    40-49\n",
       "Name: dob_years, Length: 21227, dtype: object"
      ]
     },
     "execution_count": 468,
     "metadata": {},
     "output_type": "execute_result"
    }
   ],
   "source": [
    "# Lakukan pengujian untuk melihat apakah fungsi Anda bekerja atau tidak\n",
    "cs_data['dob_years'].apply(assign_age_group)"
   ]
  },
  {
   "cell_type": "code",
   "execution_count": 469,
   "metadata": {},
   "outputs": [
    {
     "data": {
      "text/plain": [
       "'10-19'"
      ]
     },
     "execution_count": 469,
     "metadata": {},
     "output_type": "execute_result"
    }
   ],
   "source": [
    "assign_age_group(12)"
   ]
  },
  {
   "cell_type": "code",
   "execution_count": 470,
   "metadata": {},
   "outputs": [],
   "source": [
    "# Buatlah kolom baru berdasarkan fungsi\n",
    "cs_data['age_group'] = cs_data['dob_years'].apply(assign_age_group)"
   ]
  },
  {
   "cell_type": "code",
   "execution_count": 471,
   "metadata": {
    "scrolled": true
   },
   "outputs": [
    {
     "data": {
      "text/html": [
       "<div>\n",
       "<style scoped>\n",
       "    .dataframe tbody tr th:only-of-type {\n",
       "        vertical-align: middle;\n",
       "    }\n",
       "\n",
       "    .dataframe tbody tr th {\n",
       "        vertical-align: top;\n",
       "    }\n",
       "\n",
       "    .dataframe thead th {\n",
       "        text-align: right;\n",
       "    }\n",
       "</style>\n",
       "<table border=\"1\" class=\"dataframe\">\n",
       "  <thead>\n",
       "    <tr style=\"text-align: right;\">\n",
       "      <th></th>\n",
       "      <th>children</th>\n",
       "      <th>days_employed</th>\n",
       "      <th>dob_years</th>\n",
       "      <th>education</th>\n",
       "      <th>education_id</th>\n",
       "      <th>family_status</th>\n",
       "      <th>family_status_id</th>\n",
       "      <th>gender</th>\n",
       "      <th>income_type</th>\n",
       "      <th>debt</th>\n",
       "      <th>total_income</th>\n",
       "      <th>purpose</th>\n",
       "      <th>age_group</th>\n",
       "    </tr>\n",
       "  </thead>\n",
       "  <tbody>\n",
       "    <tr>\n",
       "      <th>0</th>\n",
       "      <td>1</td>\n",
       "      <td>8438.0</td>\n",
       "      <td>42</td>\n",
       "      <td>bachelor's degree</td>\n",
       "      <td>0</td>\n",
       "      <td>married</td>\n",
       "      <td>0</td>\n",
       "      <td>F</td>\n",
       "      <td>employee</td>\n",
       "      <td>0</td>\n",
       "      <td>40620.102</td>\n",
       "      <td>purchase of the house</td>\n",
       "      <td>40-49</td>\n",
       "    </tr>\n",
       "    <tr>\n",
       "      <th>1</th>\n",
       "      <td>1</td>\n",
       "      <td>4025.0</td>\n",
       "      <td>36</td>\n",
       "      <td>secondary education</td>\n",
       "      <td>1</td>\n",
       "      <td>married</td>\n",
       "      <td>0</td>\n",
       "      <td>F</td>\n",
       "      <td>employee</td>\n",
       "      <td>0</td>\n",
       "      <td>17932.802</td>\n",
       "      <td>car purchase</td>\n",
       "      <td>30-39</td>\n",
       "    </tr>\n",
       "    <tr>\n",
       "      <th>2</th>\n",
       "      <td>0</td>\n",
       "      <td>5624.0</td>\n",
       "      <td>33</td>\n",
       "      <td>secondary education</td>\n",
       "      <td>1</td>\n",
       "      <td>married</td>\n",
       "      <td>0</td>\n",
       "      <td>M</td>\n",
       "      <td>employee</td>\n",
       "      <td>0</td>\n",
       "      <td>23341.752</td>\n",
       "      <td>purchase of the house</td>\n",
       "      <td>30-39</td>\n",
       "    </tr>\n",
       "    <tr>\n",
       "      <th>3</th>\n",
       "      <td>3</td>\n",
       "      <td>4125.0</td>\n",
       "      <td>32</td>\n",
       "      <td>secondary education</td>\n",
       "      <td>1</td>\n",
       "      <td>married</td>\n",
       "      <td>0</td>\n",
       "      <td>M</td>\n",
       "      <td>employee</td>\n",
       "      <td>0</td>\n",
       "      <td>42820.568</td>\n",
       "      <td>supplementary education</td>\n",
       "      <td>30-39</td>\n",
       "    </tr>\n",
       "    <tr>\n",
       "      <th>4</th>\n",
       "      <td>0</td>\n",
       "      <td>340267.0</td>\n",
       "      <td>53</td>\n",
       "      <td>secondary education</td>\n",
       "      <td>1</td>\n",
       "      <td>civil partnership</td>\n",
       "      <td>1</td>\n",
       "      <td>F</td>\n",
       "      <td>retiree</td>\n",
       "      <td>0</td>\n",
       "      <td>25378.572</td>\n",
       "      <td>to have a wedding</td>\n",
       "      <td>50-59</td>\n",
       "    </tr>\n",
       "  </tbody>\n",
       "</table>\n",
       "</div>"
      ],
      "text/plain": [
       "   children  days_employed  dob_years            education  education_id  \\\n",
       "0         1         8438.0         42    bachelor's degree             0   \n",
       "1         1         4025.0         36  secondary education             1   \n",
       "2         0         5624.0         33  secondary education             1   \n",
       "3         3         4125.0         32  secondary education             1   \n",
       "4         0       340267.0         53  secondary education             1   \n",
       "\n",
       "       family_status  family_status_id gender income_type  debt  total_income  \\\n",
       "0            married                 0      F    employee     0     40620.102   \n",
       "1            married                 0      F    employee     0     17932.802   \n",
       "2            married                 0      M    employee     0     23341.752   \n",
       "3            married                 0      M    employee     0     42820.568   \n",
       "4  civil partnership                 1      F     retiree     0     25378.572   \n",
       "\n",
       "                   purpose age_group  \n",
       "0    purchase of the house     40-49  \n",
       "1             car purchase     30-39  \n",
       "2    purchase of the house     30-39  \n",
       "3  supplementary education     30-39  \n",
       "4        to have a wedding     50-59  "
      ]
     },
     "execution_count": 471,
     "metadata": {},
     "output_type": "execute_result"
    }
   ],
   "source": [
    "# Periksa bagaimana nilai di dalam kolom baru\n",
    "cs_data.head()"
   ]
  },
  {
   "cell_type": "code",
   "execution_count": 472,
   "metadata": {},
   "outputs": [
    {
     "data": {
      "text/plain": [
       "age_group  dob_years\n",
       "10-19      19            14\n",
       "20-29      29           542\n",
       "           28           501\n",
       "           27           490\n",
       "           26           406\n",
       "           25           356\n",
       "           24           262\n",
       "           23           250\n",
       "           22           182\n",
       "           21           110\n",
       "           20            51\n",
       "30-39      35           613\n",
       "           34           595\n",
       "           38           594\n",
       "           33           577\n",
       "           39           571\n",
       "           31           554\n",
       "           36           552\n",
       "           30           533\n",
       "           37           530\n",
       "           32           505\n",
       "40-49      40           601\n",
       "           41           601\n",
       "           42           591\n",
       "           44           541\n",
       "           48           534\n",
       "           43           509\n",
       "           49           505\n",
       "           45           492\n",
       "           47           477\n",
       "           46           466\n",
       "50-59      50           508\n",
       "           52           483\n",
       "           56           478\n",
       "           54           473\n",
       "           53           457\n",
       "           58           454\n",
       "           57           453\n",
       "           51           444\n",
       "           55           441\n",
       "           59           440\n",
       "60-69      60           373\n",
       "           61           352\n",
       "           62           347\n",
       "           63           268\n",
       "           64           258\n",
       "           65           193\n",
       "           66           182\n",
       "           67           167\n",
       "           68            99\n",
       "           69            83\n",
       "70+        70            65\n",
       "           71            56\n",
       "           72            33\n",
       "           73             8\n",
       "           74             6\n",
       "           75             1\n",
       "Name: dob_years, dtype: int64"
      ]
     },
     "execution_count": 472,
     "metadata": {},
     "output_type": "execute_result"
    }
   ],
   "source": [
    "# Memeriksa bagaimana nilai di kolom baru\n",
    "cs_data.groupby('age_group')['dob_years'].value_counts()"
   ]
  },
  {
   "cell_type": "markdown",
   "metadata": {},
   "source": [
    "* Untuk menentukan pendapatan, kita bisa mencari data berdasarkan status 'education' dan 'age_group' karena itu akan menjadi prediktor pendapatan yang paling logis. \n",
    "* Umumnya, ketika membuat keputusan tentang status 'income', akan lebih baik jika diukur berdasarkan median. Alasannya sederhana, karena ada orang yang menghasilkan lebih banyak atau lebih sedikit uang daripada yang lain."
   ]
  },
  {
   "cell_type": "code",
   "execution_count": 473,
   "metadata": {
    "scrolled": false
   },
   "outputs": [
    {
     "data": {
      "text/plain": [
       "<AxesSubplot:>"
      ]
     },
     "execution_count": 473,
     "metadata": {},
     "output_type": "execute_result"
    },
    {
     "data": {
      "image/png": "[encoded data removed]",
      "text/plain": [
       "<Figure size 576x432 with 1 Axes>"
      ]
     },
     "metadata": {},
     "output_type": "display_data"
    }
   ],
   "source": [
    "cs_data.boxplot('total_income')"
   ]
  },
  {
   "cell_type": "code",
   "execution_count": 474,
   "metadata": {},
   "outputs": [
    {
     "data": {
      "text/html": [
       "<div>\n",
       "<style scoped>\n",
       "    .dataframe tbody tr th:only-of-type {\n",
       "        vertical-align: middle;\n",
       "    }\n",
       "\n",
       "    .dataframe tbody tr th {\n",
       "        vertical-align: top;\n",
       "    }\n",
       "\n",
       "    .dataframe thead th {\n",
       "        text-align: right;\n",
       "    }\n",
       "</style>\n",
       "<table border=\"1\" class=\"dataframe\">\n",
       "  <thead>\n",
       "    <tr style=\"text-align: right;\">\n",
       "      <th></th>\n",
       "      <th>children</th>\n",
       "      <th>days_employed</th>\n",
       "      <th>dob_years</th>\n",
       "      <th>education</th>\n",
       "      <th>education_id</th>\n",
       "      <th>family_status</th>\n",
       "      <th>family_status_id</th>\n",
       "      <th>gender</th>\n",
       "      <th>income_type</th>\n",
       "      <th>debt</th>\n",
       "      <th>total_income</th>\n",
       "      <th>purpose</th>\n",
       "      <th>age_group</th>\n",
       "    </tr>\n",
       "  </thead>\n",
       "  <tbody>\n",
       "    <tr>\n",
       "      <th>0</th>\n",
       "      <td>1</td>\n",
       "      <td>8438.0</td>\n",
       "      <td>42</td>\n",
       "      <td>bachelor's degree</td>\n",
       "      <td>0</td>\n",
       "      <td>married</td>\n",
       "      <td>0</td>\n",
       "      <td>F</td>\n",
       "      <td>employee</td>\n",
       "      <td>0</td>\n",
       "      <td>40620.102</td>\n",
       "      <td>purchase of the house</td>\n",
       "      <td>40-49</td>\n",
       "    </tr>\n",
       "    <tr>\n",
       "      <th>1</th>\n",
       "      <td>1</td>\n",
       "      <td>4025.0</td>\n",
       "      <td>36</td>\n",
       "      <td>secondary education</td>\n",
       "      <td>1</td>\n",
       "      <td>married</td>\n",
       "      <td>0</td>\n",
       "      <td>F</td>\n",
       "      <td>employee</td>\n",
       "      <td>0</td>\n",
       "      <td>17932.802</td>\n",
       "      <td>car purchase</td>\n",
       "      <td>30-39</td>\n",
       "    </tr>\n",
       "    <tr>\n",
       "      <th>2</th>\n",
       "      <td>0</td>\n",
       "      <td>5624.0</td>\n",
       "      <td>33</td>\n",
       "      <td>secondary education</td>\n",
       "      <td>1</td>\n",
       "      <td>married</td>\n",
       "      <td>0</td>\n",
       "      <td>M</td>\n",
       "      <td>employee</td>\n",
       "      <td>0</td>\n",
       "      <td>23341.752</td>\n",
       "      <td>purchase of the house</td>\n",
       "      <td>30-39</td>\n",
       "    </tr>\n",
       "    <tr>\n",
       "      <th>3</th>\n",
       "      <td>3</td>\n",
       "      <td>4125.0</td>\n",
       "      <td>32</td>\n",
       "      <td>secondary education</td>\n",
       "      <td>1</td>\n",
       "      <td>married</td>\n",
       "      <td>0</td>\n",
       "      <td>M</td>\n",
       "      <td>employee</td>\n",
       "      <td>0</td>\n",
       "      <td>42820.568</td>\n",
       "      <td>supplementary education</td>\n",
       "      <td>30-39</td>\n",
       "    </tr>\n",
       "    <tr>\n",
       "      <th>4</th>\n",
       "      <td>0</td>\n",
       "      <td>340267.0</td>\n",
       "      <td>53</td>\n",
       "      <td>secondary education</td>\n",
       "      <td>1</td>\n",
       "      <td>civil partnership</td>\n",
       "      <td>1</td>\n",
       "      <td>F</td>\n",
       "      <td>retiree</td>\n",
       "      <td>0</td>\n",
       "      <td>25378.572</td>\n",
       "      <td>to have a wedding</td>\n",
       "      <td>50-59</td>\n",
       "    </tr>\n",
       "  </tbody>\n",
       "</table>\n",
       "</div>"
      ],
      "text/plain": [
       "   children  days_employed  dob_years            education  education_id  \\\n",
       "0         1         8438.0         42    bachelor's degree             0   \n",
       "1         1         4025.0         36  secondary education             1   \n",
       "2         0         5624.0         33  secondary education             1   \n",
       "3         3         4125.0         32  secondary education             1   \n",
       "4         0       340267.0         53  secondary education             1   \n",
       "\n",
       "       family_status  family_status_id gender income_type  debt  total_income  \\\n",
       "0            married                 0      F    employee     0     40620.102   \n",
       "1            married                 0      F    employee     0     17932.802   \n",
       "2            married                 0      M    employee     0     23341.752   \n",
       "3            married                 0      M    employee     0     42820.568   \n",
       "4  civil partnership                 1      F     retiree     0     25378.572   \n",
       "\n",
       "                   purpose age_group  \n",
       "0    purchase of the house     40-49  \n",
       "1             car purchase     30-39  \n",
       "2    purchase of the house     30-39  \n",
       "3  supplementary education     30-39  \n",
       "4        to have a wedding     50-59  "
      ]
     },
     "execution_count": 474,
     "metadata": {},
     "output_type": "execute_result"
    }
   ],
   "source": [
    "total_income_clean = cs_data.loc[~cs_data['total_income'].isna()]\n",
    "total_income_clean.head()"
   ]
  },
  {
   "cell_type": "code",
   "execution_count": 475,
   "metadata": {
    "scrolled": true
   },
   "outputs": [
    {
     "data": {
      "text/html": [
       "<div>\n",
       "<style scoped>\n",
       "    .dataframe tbody tr th:only-of-type {\n",
       "        vertical-align: middle;\n",
       "    }\n",
       "\n",
       "    .dataframe tbody tr th {\n",
       "        vertical-align: top;\n",
       "    }\n",
       "\n",
       "    .dataframe thead tr th {\n",
       "        text-align: left;\n",
       "    }\n",
       "\n",
       "    .dataframe thead tr:last-of-type th {\n",
       "        text-align: right;\n",
       "    }\n",
       "</style>\n",
       "<table border=\"1\" class=\"dataframe\">\n",
       "  <thead>\n",
       "    <tr>\n",
       "      <th></th>\n",
       "      <th>median</th>\n",
       "      <th>mean</th>\n",
       "    </tr>\n",
       "    <tr>\n",
       "      <th></th>\n",
       "      <th>total_income</th>\n",
       "      <th>total_income</th>\n",
       "    </tr>\n",
       "    <tr>\n",
       "      <th>income_type</th>\n",
       "      <th></th>\n",
       "      <th></th>\n",
       "    </tr>\n",
       "  </thead>\n",
       "  <tbody>\n",
       "    <tr>\n",
       "      <th>business</th>\n",
       "      <td>27594.64</td>\n",
       "      <td>32424.42</td>\n",
       "    </tr>\n",
       "    <tr>\n",
       "      <th>civil servant</th>\n",
       "      <td>24076.12</td>\n",
       "      <td>27336.44</td>\n",
       "    </tr>\n",
       "    <tr>\n",
       "      <th>employee</th>\n",
       "      <td>22815.10</td>\n",
       "      <td>25822.87</td>\n",
       "    </tr>\n",
       "    <tr>\n",
       "      <th>entrepreneur</th>\n",
       "      <td>79866.10</td>\n",
       "      <td>79866.10</td>\n",
       "    </tr>\n",
       "    <tr>\n",
       "      <th>paternity / maternity leave</th>\n",
       "      <td>8612.66</td>\n",
       "      <td>8612.66</td>\n",
       "    </tr>\n",
       "    <tr>\n",
       "      <th>retiree</th>\n",
       "      <td>18959.63</td>\n",
       "      <td>21950.72</td>\n",
       "    </tr>\n",
       "  </tbody>\n",
       "</table>\n",
       "</div>"
      ],
      "text/plain": [
       "                                  median         mean\n",
       "                            total_income total_income\n",
       "income_type                                          \n",
       "business                        27594.64     32424.42\n",
       "civil servant                   24076.12     27336.44\n",
       "employee                        22815.10     25822.87\n",
       "entrepreneur                    79866.10     79866.10\n",
       "paternity / maternity leave      8612.66      8612.66\n",
       "retiree                         18959.63     21950.72"
      ]
     },
     "execution_count": 475,
     "metadata": {},
     "output_type": "execute_result"
    }
   ],
   "source": [
    "# Buat tabel tanpa nilai yang hilang dan tampilkan beberapa barisnya untuk memastikan semuanya berjalan dengan baik\n",
    "# Perhatikan nilai rata-rata untuk pendapatan berdasarkan faktor yang telah Anda identifikasi\n",
    "income_type_pivot = pd.pivot_table(total_income_clean,\n",
    "                       index=['income_type'],\n",
    "                       values=['total_income'],\n",
    "                       aggfunc=['median', 'mean'])\n",
    "round(income_type_pivot, 2)"
   ]
  },
  {
   "cell_type": "code",
   "execution_count": 476,
   "metadata": {},
   "outputs": [
    {
     "data": {
      "text/plain": [
       "0"
      ]
     },
     "execution_count": 476,
     "metadata": {},
     "output_type": "execute_result"
    }
   ],
   "source": [
    "# Membuat fungsi\n",
    "def fill_missing_value (cs_data, income_type, total_income):\n",
    "    grouped_values = cs_data.groupby('income_type')['total_income'].median().reset_index()\n",
    "    size = len(grouped_values)\n",
    "    for i in range(size):\n",
    "        group = grouped_values['income_type'][i]\n",
    "        value = grouped_values['total_income'][i]\n",
    "        cs_data.loc[(cs_data['income_type']==group) & (cs_data['total_income'].isna()), 'total_income'] = value\n",
    "    return cs_data\n",
    "\n",
    "\n",
    "cs_data = fill_missing_value(cs_data, 'income_type', 'total_income')\n",
    "cs_data['total_income'].isna().sum()"
   ]
  },
  {
   "cell_type": "markdown",
   "metadata": {},
   "source": [
    "# Memperbaiki nilai di `days_employed` <a id='null_days_employed'></a>"
   ]
  },
  {
   "cell_type": "code",
   "execution_count": 477,
   "metadata": {
    "scrolled": true
   },
   "outputs": [
    {
     "data": {
      "text/html": [
       "<div>\n",
       "<style scoped>\n",
       "    .dataframe tbody tr th:only-of-type {\n",
       "        vertical-align: middle;\n",
       "    }\n",
       "\n",
       "    .dataframe tbody tr th {\n",
       "        vertical-align: top;\n",
       "    }\n",
       "\n",
       "    .dataframe thead th {\n",
       "        text-align: right;\n",
       "    }\n",
       "</style>\n",
       "<table border=\"1\" class=\"dataframe\">\n",
       "  <thead>\n",
       "    <tr style=\"text-align: right;\">\n",
       "      <th></th>\n",
       "      <th>children</th>\n",
       "      <th>days_employed</th>\n",
       "      <th>dob_years</th>\n",
       "      <th>education</th>\n",
       "      <th>education_id</th>\n",
       "      <th>family_status</th>\n",
       "      <th>family_status_id</th>\n",
       "      <th>gender</th>\n",
       "      <th>income_type</th>\n",
       "      <th>debt</th>\n",
       "      <th>total_income</th>\n",
       "      <th>purpose</th>\n",
       "      <th>age_group</th>\n",
       "    </tr>\n",
       "  </thead>\n",
       "  <tbody>\n",
       "    <tr>\n",
       "      <th>0</th>\n",
       "      <td>1</td>\n",
       "      <td>8438.0</td>\n",
       "      <td>42</td>\n",
       "      <td>bachelor's degree</td>\n",
       "      <td>0</td>\n",
       "      <td>married</td>\n",
       "      <td>0</td>\n",
       "      <td>F</td>\n",
       "      <td>employee</td>\n",
       "      <td>0</td>\n",
       "      <td>40620.102</td>\n",
       "      <td>purchase of the house</td>\n",
       "      <td>40-49</td>\n",
       "    </tr>\n",
       "    <tr>\n",
       "      <th>1</th>\n",
       "      <td>1</td>\n",
       "      <td>4025.0</td>\n",
       "      <td>36</td>\n",
       "      <td>secondary education</td>\n",
       "      <td>1</td>\n",
       "      <td>married</td>\n",
       "      <td>0</td>\n",
       "      <td>F</td>\n",
       "      <td>employee</td>\n",
       "      <td>0</td>\n",
       "      <td>17932.802</td>\n",
       "      <td>car purchase</td>\n",
       "      <td>30-39</td>\n",
       "    </tr>\n",
       "    <tr>\n",
       "      <th>2</th>\n",
       "      <td>0</td>\n",
       "      <td>5624.0</td>\n",
       "      <td>33</td>\n",
       "      <td>secondary education</td>\n",
       "      <td>1</td>\n",
       "      <td>married</td>\n",
       "      <td>0</td>\n",
       "      <td>M</td>\n",
       "      <td>employee</td>\n",
       "      <td>0</td>\n",
       "      <td>23341.752</td>\n",
       "      <td>purchase of the house</td>\n",
       "      <td>30-39</td>\n",
       "    </tr>\n",
       "    <tr>\n",
       "      <th>3</th>\n",
       "      <td>3</td>\n",
       "      <td>4125.0</td>\n",
       "      <td>32</td>\n",
       "      <td>secondary education</td>\n",
       "      <td>1</td>\n",
       "      <td>married</td>\n",
       "      <td>0</td>\n",
       "      <td>M</td>\n",
       "      <td>employee</td>\n",
       "      <td>0</td>\n",
       "      <td>42820.568</td>\n",
       "      <td>supplementary education</td>\n",
       "      <td>30-39</td>\n",
       "    </tr>\n",
       "    <tr>\n",
       "      <th>4</th>\n",
       "      <td>0</td>\n",
       "      <td>340267.0</td>\n",
       "      <td>53</td>\n",
       "      <td>secondary education</td>\n",
       "      <td>1</td>\n",
       "      <td>civil partnership</td>\n",
       "      <td>1</td>\n",
       "      <td>F</td>\n",
       "      <td>retiree</td>\n",
       "      <td>0</td>\n",
       "      <td>25378.572</td>\n",
       "      <td>to have a wedding</td>\n",
       "      <td>50-59</td>\n",
       "    </tr>\n",
       "  </tbody>\n",
       "</table>\n",
       "</div>"
      ],
      "text/plain": [
       "   children  days_employed  dob_years            education  education_id  \\\n",
       "0         1         8438.0         42    bachelor's degree             0   \n",
       "1         1         4025.0         36  secondary education             1   \n",
       "2         0         5624.0         33  secondary education             1   \n",
       "3         3         4125.0         32  secondary education             1   \n",
       "4         0       340267.0         53  secondary education             1   \n",
       "\n",
       "       family_status  family_status_id gender income_type  debt  total_income  \\\n",
       "0            married                 0      F    employee     0     40620.102   \n",
       "1            married                 0      F    employee     0     17932.802   \n",
       "2            married                 0      M    employee     0     23341.752   \n",
       "3            married                 0      M    employee     0     42820.568   \n",
       "4  civil partnership                 1      F     retiree     0     25378.572   \n",
       "\n",
       "                   purpose age_group  \n",
       "0    purchase of the house     40-49  \n",
       "1             car purchase     30-39  \n",
       "2    purchase of the house     30-39  \n",
       "3  supplementary education     30-39  \n",
       "4        to have a wedding     50-59  "
      ]
     },
     "execution_count": 477,
     "metadata": {},
     "output_type": "execute_result"
    }
   ],
   "source": [
    "days_employed_clean = cs_data.loc[~cs_data['days_employed'].isna()]\n",
    "days_employed_clean.head()"
   ]
  },
  {
   "cell_type": "code",
   "execution_count": 478,
   "metadata": {
    "scrolled": false
   },
   "outputs": [
    {
     "data": {
      "text/plain": [
       "<AxesSubplot:>"
      ]
     },
     "execution_count": 478,
     "metadata": {},
     "output_type": "execute_result"
    },
    {
     "data": {
      "image/png": "[encoded data removed]",
      "text/plain": [
       "<Figure size 576x432 with 1 Axes>"
      ]
     },
     "metadata": {},
     "output_type": "display_data"
    }
   ],
   "source": [
    "cs_data.boxplot('days_employed')"
   ]
  },
  {
   "cell_type": "code",
   "execution_count": 479,
   "metadata": {},
   "outputs": [
    {
     "data": {
      "text/html": [
       "<div>\n",
       "<style scoped>\n",
       "    .dataframe tbody tr th:only-of-type {\n",
       "        vertical-align: middle;\n",
       "    }\n",
       "\n",
       "    .dataframe tbody tr th {\n",
       "        vertical-align: top;\n",
       "    }\n",
       "\n",
       "    .dataframe thead tr th {\n",
       "        text-align: left;\n",
       "    }\n",
       "\n",
       "    .dataframe thead tr:last-of-type th {\n",
       "        text-align: right;\n",
       "    }\n",
       "</style>\n",
       "<table border=\"1\" class=\"dataframe\">\n",
       "  <thead>\n",
       "    <tr>\n",
       "      <th></th>\n",
       "      <th>median</th>\n",
       "      <th>mean</th>\n",
       "    </tr>\n",
       "    <tr>\n",
       "      <th></th>\n",
       "      <th>total_income</th>\n",
       "      <th>total_income</th>\n",
       "    </tr>\n",
       "    <tr>\n",
       "      <th>age_group</th>\n",
       "      <th></th>\n",
       "      <th></th>\n",
       "    </tr>\n",
       "  </thead>\n",
       "  <tbody>\n",
       "    <tr>\n",
       "      <th>10-19</th>\n",
       "      <td>14934.90</td>\n",
       "      <td>16993.94</td>\n",
       "    </tr>\n",
       "    <tr>\n",
       "      <th>20-29</th>\n",
       "      <td>22807.04</td>\n",
       "      <td>25586.59</td>\n",
       "    </tr>\n",
       "    <tr>\n",
       "      <th>30-39</th>\n",
       "      <td>24706.71</td>\n",
       "      <td>28318.21</td>\n",
       "    </tr>\n",
       "    <tr>\n",
       "      <th>40-49</th>\n",
       "      <td>24771.63</td>\n",
       "      <td>28574.62</td>\n",
       "    </tr>\n",
       "    <tr>\n",
       "      <th>50-59</th>\n",
       "      <td>22195.85</td>\n",
       "      <td>25807.71</td>\n",
       "    </tr>\n",
       "    <tr>\n",
       "      <th>60-69</th>\n",
       "      <td>19811.33</td>\n",
       "      <td>23236.99</td>\n",
       "    </tr>\n",
       "    <tr>\n",
       "      <th>70+</th>\n",
       "      <td>18751.32</td>\n",
       "      <td>20125.66</td>\n",
       "    </tr>\n",
       "  </tbody>\n",
       "</table>\n",
       "</div>"
      ],
      "text/plain": [
       "                median         mean\n",
       "          total_income total_income\n",
       "age_group                          \n",
       "10-19         14934.90     16993.94\n",
       "20-29         22807.04     25586.59\n",
       "30-39         24706.71     28318.21\n",
       "40-49         24771.63     28574.62\n",
       "50-59         22195.85     25807.71\n",
       "60-69         19811.33     23236.99\n",
       "70+           18751.32     20125.66"
      ]
     },
     "execution_count": 479,
     "metadata": {},
     "output_type": "execute_result"
    }
   ],
   "source": [
    "# Membuat pivot table\n",
    "days_age_group_pivot = pd.pivot_table(days_employed_clean,\n",
    "                       index=['age_group'],\n",
    "                       values=['total_income'],\n",
    "                       aggfunc=['median', 'mean'])\n",
    "round(days_age_group_pivot, 2)"
   ]
  },
  {
   "cell_type": "code",
   "execution_count": 480,
   "metadata": {},
   "outputs": [
    {
     "data": {
      "text/plain": [
       "0"
      ]
     },
     "execution_count": 480,
     "metadata": {},
     "output_type": "execute_result"
    }
   ],
   "source": [
    "# Membuat fungsi\n",
    "def fill_missing_value (cs_data, age_group, days_employed):\n",
    "    grouped_values = cs_data.groupby('age_group')['days_employed'].median().reset_index()\n",
    "    size = len(grouped_values)\n",
    "    for i in range(size):\n",
    "        group = grouped_values['age_group'][i]\n",
    "        value = grouped_values['days_employed'][i]\n",
    "        cs_data.loc[(cs_data['age_group']==group) & (cs_data['days_employed'].isna()), 'days_employed'] = value\n",
    "    return cs_data\n",
    "\n",
    "#apply the function\n",
    "cs_data= fill_missing_value(cs_data, 'age_group', 'days_employed')\n",
    "\n",
    "#check the dataset\n",
    "cs_data['days_employed'].isna().sum()"
   ]
  },
  {
   "cell_type": "code",
   "execution_count": 481,
   "metadata": {},
   "outputs": [
    {
     "name": "stdout",
     "output_type": "stream",
     "text": [
      "<class 'pandas.core.frame.DataFrame'>\n",
      "Int64Index: 21227 entries, 0 to 21524\n",
      "Data columns (total 13 columns):\n",
      " #   Column            Non-Null Count  Dtype  \n",
      "---  ------            --------------  -----  \n",
      " 0   children          21227 non-null  int64  \n",
      " 1   days_employed     21227 non-null  float64\n",
      " 2   dob_years         21227 non-null  int64  \n",
      " 3   education         21227 non-null  object \n",
      " 4   education_id      21227 non-null  int64  \n",
      " 5   family_status     21227 non-null  object \n",
      " 6   family_status_id  21227 non-null  int64  \n",
      " 7   gender            21227 non-null  object \n",
      " 8   income_type       21227 non-null  object \n",
      " 9   debt              21227 non-null  int64  \n",
      " 10  total_income      21227 non-null  float64\n",
      " 11  purpose           21227 non-null  object \n",
      " 12  age_group         21227 non-null  object \n",
      "dtypes: float64(2), int64(5), object(6)\n",
      "memory usage: 2.3+ MB\n"
     ]
    }
   ],
   "source": [
    "# Mengecek nilai null\n",
    "cs_data.info()"
   ]
  },
  {
   "cell_type": "markdown",
   "metadata": {},
   "source": [
    "# Pengkategorian Data <a id='category_data'></a>"
   ]
  },
  {
   "cell_type": "markdown",
   "metadata": {},
   "source": [
    "* Penggantian Jenis Data "
   ]
  },
  {
   "cell_type": "code",
   "execution_count": 482,
   "metadata": {},
   "outputs": [
    {
     "name": "stdout",
     "output_type": "stream",
     "text": [
      "<class 'pandas.core.frame.DataFrame'>\n",
      "Int64Index: 21227 entries, 0 to 21524\n",
      "Data columns (total 13 columns):\n",
      " #   Column            Non-Null Count  Dtype \n",
      "---  ------            --------------  ----- \n",
      " 0   children          21227 non-null  int64 \n",
      " 1   days_employed     21227 non-null  int64 \n",
      " 2   dob_years         21227 non-null  int64 \n",
      " 3   education         21227 non-null  object\n",
      " 4   education_id      21227 non-null  int64 \n",
      " 5   family_status     21227 non-null  object\n",
      " 6   family_status_id  21227 non-null  int64 \n",
      " 7   gender            21227 non-null  object\n",
      " 8   income_type       21227 non-null  object\n",
      " 9   debt              21227 non-null  int64 \n",
      " 10  total_income      21227 non-null  int64 \n",
      " 11  purpose           21227 non-null  object\n",
      " 12  age_group         21227 non-null  object\n",
      "dtypes: int64(7), object(6)\n",
      "memory usage: 2.3+ MB\n"
     ]
    }
   ],
   "source": [
    "try: \n",
    "    cs_data['days_employed'] = cs_data['days_employed'].astype('int')\n",
    "    cs_data['total_income'] = cs_data['total_income'].astype('int')\n",
    "except: \n",
    "    print('Data conversion failed ((')\n",
    "cs_data.info()"
   ]
  },
  {
   "cell_type": "code",
   "execution_count": 483,
   "metadata": {},
   "outputs": [],
   "source": [
    "# Menggabungkan 'entrepreneur' to 'business'\n",
    "cs_data['income_type'] = cs_data['income_type'].replace('entrepreneur', 'business')"
   ]
  },
  {
   "cell_type": "markdown",
   "metadata": {},
   "source": [
    "# Kategorisasi Kolom `children` <a id='category_children'></a>"
   ]
  },
  {
   "cell_type": "code",
   "execution_count": 484,
   "metadata": {},
   "outputs": [
    {
     "data": {
      "text/plain": [
       "no children           14019\n",
       "1 child                4791\n",
       "2 or more children     2417\n",
       "Name: child_groups, dtype: int64"
      ]
     },
     "execution_count": 484,
     "metadata": {},
     "output_type": "execute_result"
    }
   ],
   "source": [
    "# Categorizing children\n",
    "def children_fx(row):\n",
    "    child = row['children']\n",
    "    \n",
    "    if child == 0:\n",
    "        return 'no children'\n",
    "    if child == 1:\n",
    "        return '1 child'\n",
    "    else:\n",
    "        return '2 or more children'\n",
    "    \n",
    "\n",
    "cs_data['child_groups'] = cs_data.apply(children_fx, axis=1)\n",
    "cs_data['child_groups'].value_counts()"
   ]
  },
  {
   "cell_type": "code",
   "execution_count": 485,
   "metadata": {},
   "outputs": [
    {
     "data": {
      "text/html": [
       "<div>\n",
       "<style scoped>\n",
       "    .dataframe tbody tr th:only-of-type {\n",
       "        vertical-align: middle;\n",
       "    }\n",
       "\n",
       "    .dataframe tbody tr th {\n",
       "        vertical-align: top;\n",
       "    }\n",
       "\n",
       "    .dataframe thead th {\n",
       "        text-align: right;\n",
       "    }\n",
       "</style>\n",
       "<table border=\"1\" class=\"dataframe\">\n",
       "  <thead>\n",
       "    <tr style=\"text-align: right;\">\n",
       "      <th></th>\n",
       "      <th>children</th>\n",
       "      <th>is_children</th>\n",
       "    </tr>\n",
       "  </thead>\n",
       "  <tbody>\n",
       "    <tr>\n",
       "      <th>0</th>\n",
       "      <td>1</td>\n",
       "      <td>Have children</td>\n",
       "    </tr>\n",
       "    <tr>\n",
       "      <th>1</th>\n",
       "      <td>0</td>\n",
       "      <td>No children</td>\n",
       "    </tr>\n",
       "    <tr>\n",
       "      <th>2</th>\n",
       "      <td>3</td>\n",
       "      <td>Have children</td>\n",
       "    </tr>\n",
       "    <tr>\n",
       "      <th>3</th>\n",
       "      <td>2</td>\n",
       "      <td>Have children</td>\n",
       "    </tr>\n",
       "    <tr>\n",
       "      <th>4</th>\n",
       "      <td>4</td>\n",
       "      <td>Have children</td>\n",
       "    </tr>\n",
       "    <tr>\n",
       "      <th>5</th>\n",
       "      <td>5</td>\n",
       "      <td>Have children</td>\n",
       "    </tr>\n",
       "  </tbody>\n",
       "</table>\n",
       "</div>"
      ],
      "text/plain": [
       "   children    is_children\n",
       "0         1  Have children\n",
       "1         0    No children\n",
       "2         3  Have children\n",
       "3         2  Have children\n",
       "4         4  Have children\n",
       "5         5  Have children"
      ]
     },
     "execution_count": 485,
     "metadata": {},
     "output_type": "execute_result"
    }
   ],
   "source": [
    "# Membuat fungsi\n",
    "def is_children(children):\n",
    "    if children == 0 :\n",
    "        return 'No children'\n",
    "    return 'Have children'\n",
    "\n",
    "\n",
    "children_dict['is_children'] = children_dict['children'].apply(is_children)\n",
    "children_dict['is_children'].value_counts()\n",
    "children_dict"
   ]
  },
  {
   "cell_type": "code",
   "execution_count": 486,
   "metadata": {
    "scrolled": false
   },
   "outputs": [
    {
     "data": {
      "image/png": "[encoded data removed]",
      "text/plain": [
       "<Figure size 720x432 with 1 Axes>"
      ]
     },
     "metadata": {},
     "output_type": "display_data"
    }
   ],
   "source": [
    "plt.figure(figsize=(10,6))\n",
    "sns.countplot(x='child_groups', data=cs_data, order= cs_data['child_groups'].value_counts().index)\n",
    "plt.show()"
   ]
  },
  {
   "cell_type": "markdown",
   "metadata": {},
   "source": [
    "# Kategorisasi Kolom `education` <a id='category_education'></a>"
   ]
  },
  {
   "cell_type": "code",
   "execution_count": 487,
   "metadata": {},
   "outputs": [
    {
     "data": {
      "text/plain": [
       "array([\"bachelor's degree\"], dtype=object)"
      ]
     },
     "execution_count": 487,
     "metadata": {},
     "output_type": "execute_result"
    }
   ],
   "source": [
    "# Categorizing education\n",
    "cs_data[cs_data['education_id']==0]['education'].unique()"
   ]
  },
  {
   "cell_type": "code",
   "execution_count": 488,
   "metadata": {},
   "outputs": [
    {
     "name": "stdout",
     "output_type": "stream",
     "text": [
      "education_id = 0 is bachelor's degree education\n",
      "education_id = 1 is secondary education education\n",
      "education_id = 2 is some college education\n",
      "education_id = 3 is primary education education\n",
      "education_id = 4 is graduate degree education\n"
     ]
    }
   ],
   "source": [
    "# Loop all education_id untuk memeriksa apakah education adalah semua nilai unik dari education_id\n",
    "for i in range(len(cs_data['education_id'].value_counts())):\n",
    "    education_category = cs_data[cs_data['education_id']==i]['education'].unique()\n",
    "    print(f\"education_id = {i} is {education_category[0]} education\")"
   ]
  },
  {
   "cell_type": "code",
   "execution_count": 489,
   "metadata": {},
   "outputs": [
    {
     "data": {
      "text/plain": [
       "True"
      ]
     },
     "execution_count": 489,
     "metadata": {},
     "output_type": "execute_result"
    }
   ],
   "source": [
    "# Cara lain untuk mengonfirmasi apakah semua baris yang memiliki education_id sama dengan nol adalah semua gelar sarjana\n",
    "all((cs_data['education_id']==0)==(cs_data['education']==\"bachelor's degree\"))"
   ]
  },
  {
   "cell_type": "code",
   "execution_count": 490,
   "metadata": {},
   "outputs": [
    {
     "data": {
      "text/plain": [
       "education_id  education          \n",
       "0             bachelor's degree       5190\n",
       "1             secondary education    15011\n",
       "2             some college             738\n",
       "3             primary education        282\n",
       "4             graduate degree            6\n",
       "Name: education, dtype: int64"
      ]
     },
     "execution_count": 490,
     "metadata": {},
     "output_type": "execute_result"
    }
   ],
   "source": [
    "# Melihat hubungannya\n",
    "cs_data.groupby('education_id')['education'].value_counts()"
   ]
  },
  {
   "cell_type": "code",
   "execution_count": 491,
   "metadata": {
    "scrolled": false
   },
   "outputs": [
    {
     "data": {
      "image/png": "[encoded data removed]",
      "text/plain": [
       "<Figure size 720x432 with 1 Axes>"
      ]
     },
     "metadata": {},
     "output_type": "display_data"
    }
   ],
   "source": [
    "plt.figure(figsize=(10,6))\n",
    "sns.countplot(x='education', data=cs_data, order= cs_data['education'].value_counts().index)\n",
    "plt.show()"
   ]
  },
  {
   "cell_type": "markdown",
   "metadata": {},
   "source": [
    "# Kategorisasi Kolom `family_status` <a id='category_family_status'></a>"
   ]
  },
  {
   "cell_type": "code",
   "execution_count": 492,
   "metadata": {},
   "outputs": [
    {
     "data": {
      "text/plain": [
       "married              12212\n",
       "civil partnership     4111\n",
       "unmarried             2779\n",
       "divorced              1179\n",
       "widow / widower        946\n",
       "Name: family_status, dtype: int64"
      ]
     },
     "execution_count": 492,
     "metadata": {},
     "output_type": "execute_result"
    }
   ],
   "source": [
    "# Categorizing family_status\n",
    "cs_data['family_status'].value_counts()"
   ]
  },
  {
   "cell_type": "code",
   "execution_count": 493,
   "metadata": {},
   "outputs": [
    {
     "data": {
      "text/plain": [
       "0    12212\n",
       "1     4111\n",
       "4     2779\n",
       "3     1179\n",
       "2      946\n",
       "Name: family_status_id, dtype: int64"
      ]
     },
     "execution_count": 493,
     "metadata": {},
     "output_type": "execute_result"
    }
   ],
   "source": [
    "cs_data['family_status_id'].value_counts()"
   ]
  },
  {
   "cell_type": "code",
   "execution_count": 494,
   "metadata": {},
   "outputs": [
    {
     "data": {
      "text/plain": [
       "array(['married'], dtype=object)"
      ]
     },
     "execution_count": 494,
     "metadata": {},
     "output_type": "execute_result"
    }
   ],
   "source": [
    "# Melihat apakah family_status_id = 0 semuanya sudah menikah sebagai satu-satunya nilai unik\n",
    "cs_data[cs_data['family_status_id']==0]['family_status'].unique()"
   ]
  },
  {
   "cell_type": "code",
   "execution_count": 495,
   "metadata": {},
   "outputs": [
    {
     "name": "stdout",
     "output_type": "stream",
     "text": [
      "family_status_id = 0 is married family_status\n",
      "family_status_id = 1 is civil partnership family_status\n",
      "family_status_id = 2 is widow / widower family_status\n",
      "family_status_id = 3 is divorced family_status\n",
      "family_status_id = 4 is unmarried family_status\n"
     ]
    }
   ],
   "source": [
    "# Loop all family_status_id untuk memeriksa apakah family_status_id = 0 married dalam family_status, dll\n",
    "for i in range(len(cs_data['family_status_id'].value_counts())):\n",
    "    family_category = cs_data[cs_data['family_status_id']==i]['family_status'].unique()\n",
    "    print(f\"family_status_id = {i} is {family_category[0]} family_status\")"
   ]
  },
  {
   "cell_type": "code",
   "execution_count": 496,
   "metadata": {},
   "outputs": [
    {
     "data": {
      "text/plain": [
       "True"
      ]
     },
     "execution_count": 496,
     "metadata": {},
     "output_type": "execute_result"
    }
   ],
   "source": [
    "# Cara lain untuk mengonfirmasi apakah semua baris yang memiliki family_status_id sama dengan nol family_status = married\n",
    "all((cs_data['family_status_id']==0)==(cs_data['family_status']=='married'))"
   ]
  },
  {
   "cell_type": "code",
   "execution_count": 497,
   "metadata": {},
   "outputs": [
    {
     "data": {
      "text/plain": [
       "family_status_id  family_status    \n",
       "0                 married              12212\n",
       "1                 civil partnership     4111\n",
       "2                 widow / widower        946\n",
       "3                 divorced              1179\n",
       "4                 unmarried             2779\n",
       "Name: family_status, dtype: int64"
      ]
     },
     "execution_count": 497,
     "metadata": {},
     "output_type": "execute_result"
    }
   ],
   "source": [
    "# Melihat hubungannya\n",
    "cs_data.groupby('family_status_id')['family_status'].value_counts()"
   ]
  },
  {
   "cell_type": "code",
   "execution_count": 498,
   "metadata": {
    "scrolled": false
   },
   "outputs": [
    {
     "data": {
      "image/png": "[encoded data removed]",
      "text/plain": [
       "<Figure size 720x432 with 1 Axes>"
      ]
     },
     "metadata": {},
     "output_type": "display_data"
    }
   ],
   "source": [
    "plt.figure(figsize=(10,6))\n",
    "sns.countplot(x='family_status', data=cs_data, order= cs_data['family_status'].value_counts().index)\n",
    "plt.show()"
   ]
  },
  {
   "cell_type": "markdown",
   "metadata": {},
   "source": [
    "# Kategorisasi Kolom `purpose` <a id='category_purpose'></a>"
   ]
  },
  {
   "cell_type": "code",
   "execution_count": 499,
   "metadata": {
    "scrolled": true
   },
   "outputs": [
    {
     "data": {
      "text/plain": [
       "real estate transactions    10700\n",
       "buying a car                 4258\n",
       "going to university          3970\n",
       "wedding ceremony             2299\n",
       "Name: purpose, dtype: int64"
      ]
     },
     "execution_count": 499,
     "metadata": {},
     "output_type": "execute_result"
    }
   ],
   "source": [
    "# Categorizing purpose\n",
    "cs_data['purpose'].value_counts().count() # there are 38 different types of purpose\n",
    "english_stemmer = SnowballStemmer('english')\n",
    "\n",
    "def type_of_purpose(purpose):\n",
    "    for word in purpose.split(' '):\n",
    "        if 'car' == english_stemmer.stem(word):\n",
    "           return 'buying a car'\n",
    "        if 'wed' == english_stemmer.stem(word):      \n",
    "           return 'wedding ceremony'\n",
    "        if ('educ' == english_stemmer.stem(word) or 'univers' == english_stemmer.stem(word)):   \n",
    "           return 'going to university'\n",
    "        if ('hous' == english_stemmer.stem(word) or 'properti' == english_stemmer.stem(word) or 'estat' == english_stemmer.stem(word)):\n",
    "           return 'real estate transactions'\n",
    "    \n",
    "    return purpose\n",
    "\n",
    "cs_data['purpose'] = cs_data['purpose'].apply(type_of_purpose)\n",
    "cs_data['purpose'].value_counts()"
   ]
  },
  {
   "cell_type": "code",
   "execution_count": 500,
   "metadata": {
    "scrolled": false
   },
   "outputs": [
    {
     "data": {
      "image/png": "[encoded data removed]",
      "text/plain": [
       "<Figure size 720x432 with 1 Axes>"
      ]
     },
     "metadata": {},
     "output_type": "display_data"
    }
   ],
   "source": [
    "plt.figure(figsize=(10,6))\n",
    "sns.countplot(x='purpose', data=cs_data, order= cs_data['purpose'].value_counts().index)\n",
    "plt.show()"
   ]
  },
  {
   "cell_type": "markdown",
   "metadata": {},
   "source": [
    "# Kategorisasi Kolom `total_income` <a id='category_total_income'></a>"
   ]
  },
  {
   "cell_type": "code",
   "execution_count": 501,
   "metadata": {},
   "outputs": [
    {
     "data": {
      "text/html": [
       "<div>\n",
       "<style scoped>\n",
       "    .dataframe tbody tr th:only-of-type {\n",
       "        vertical-align: middle;\n",
       "    }\n",
       "\n",
       "    .dataframe tbody tr th {\n",
       "        vertical-align: top;\n",
       "    }\n",
       "\n",
       "    .dataframe thead th {\n",
       "        text-align: right;\n",
       "    }\n",
       "</style>\n",
       "<table border=\"1\" class=\"dataframe\">\n",
       "  <thead>\n",
       "    <tr style=\"text-align: right;\">\n",
       "      <th></th>\n",
       "      <th>group_income</th>\n",
       "      <th>name_group_income</th>\n",
       "    </tr>\n",
       "  </thead>\n",
       "  <tbody>\n",
       "    <tr>\n",
       "      <th>3</th>\n",
       "      <td>High</td>\n",
       "      <td>25000 - 30000</td>\n",
       "    </tr>\n",
       "    <tr>\n",
       "      <th>5</th>\n",
       "      <td>Low</td>\n",
       "      <td>&lt; 15000</td>\n",
       "    </tr>\n",
       "    <tr>\n",
       "      <th>1</th>\n",
       "      <td>Middle</td>\n",
       "      <td>15000 - 20000</td>\n",
       "    </tr>\n",
       "    <tr>\n",
       "      <th>4</th>\n",
       "      <td>Upper High</td>\n",
       "      <td>&gt; 40000</td>\n",
       "    </tr>\n",
       "    <tr>\n",
       "      <th>2</th>\n",
       "      <td>Upper Middle</td>\n",
       "      <td>20000 - 25000</td>\n",
       "    </tr>\n",
       "    <tr>\n",
       "      <th>0</th>\n",
       "      <td>Very High</td>\n",
       "      <td>30000 - 40000</td>\n",
       "    </tr>\n",
       "  </tbody>\n",
       "</table>\n",
       "</div>"
      ],
      "text/plain": [
       "   group_income name_group_income\n",
       "3          High     25000 - 30000\n",
       "5           Low           < 15000\n",
       "1        Middle     15000 - 20000\n",
       "4    Upper High           > 40000\n",
       "2  Upper Middle     20000 - 25000\n",
       "0     Very High     30000 - 40000"
      ]
     },
     "execution_count": 501,
     "metadata": {},
     "output_type": "execute_result"
    }
   ],
   "source": [
    "# Categorizing total_income\n",
    "def group_income (total_income):\n",
    "    if total_income <15000 :\n",
    "        return 'Low'\n",
    "    if total_income <20000 :\n",
    "        return 'Middle'\n",
    "    if total_income <25000 :\n",
    "        return 'Upper Middle'\n",
    "    if total_income <30000 :\n",
    "        return 'High'\n",
    "    if total_income <40000 :\n",
    "        return 'Upper High'\n",
    "    return 'Very High'\n",
    "\n",
    "# Menambahkan bidang 'group_income'\n",
    "cs_data['group_income'] = cs_data['total_income'].apply(group_income)\n",
    "\n",
    "# Membuat dictionary total_income_dict\n",
    "total_income_dict = cs_data[['group_income']]\n",
    "total_income_dict = total_income_dict.drop_duplicates().reset_index(drop=True)\n",
    "def name_group_income (group_income):\n",
    "    if group_income == 'Low' :\n",
    "        return '< 15000'\n",
    "    if group_income == 'Middle' :\n",
    "        return '15000 - 20000'\n",
    "    if group_income == 'Upper Middle' :\n",
    "        return '20000 - 25000'\n",
    "    if group_income == 'High' :\n",
    "        return '25000 - 30000'\n",
    "    if group_income == 'Very High' :\n",
    "        return '30000 - 40000'\n",
    "    return '> 40000'\n",
    "\n",
    "# Menambahkan 'group_income'\n",
    "total_income_dict['name_group_income'] = total_income_dict['group_income'].apply(name_group_income)\n",
    "total_income_dict.sort_values(by='group_income', ascending = True)"
   ]
  },
  {
   "cell_type": "code",
   "execution_count": 502,
   "metadata": {},
   "outputs": [
    {
     "data": {
      "text/plain": [
       "Upper Middle    4543\n",
       "Middle          3969\n",
       "Low             3705\n",
       "High            3151\n",
       "Upper High      3075\n",
       "Very High       2784\n",
       "Name: group_income, dtype: int64"
      ]
     },
     "execution_count": 502,
     "metadata": {},
     "output_type": "execute_result"
    }
   ],
   "source": [
    "cs_data['group_income'] = cs_data['total_income'].apply(group_income)\n",
    "cs_data['group_income'].value_counts()"
   ]
  },
  {
   "cell_type": "code",
   "execution_count": 503,
   "metadata": {
    "scrolled": false
   },
   "outputs": [
    {
     "data": {
      "image/png": "[encoded data removed]",
      "text/plain": [
       "<Figure size 720x432 with 1 Axes>"
      ]
     },
     "metadata": {},
     "output_type": "display_data"
    }
   ],
   "source": [
    "plt.figure(figsize=(10,6))\n",
    "sns.countplot(x='group_income', data=cs_data, order=cs_data['group_income'].value_counts().index)\n",
    "plt.show()"
   ]
  },
  {
   "cell_type": "markdown",
   "metadata": {},
   "source": [
    "# Kategorisasi Kolom `age` <a id='category_age'></a>"
   ]
  },
  {
   "cell_type": "code",
   "execution_count": 504,
   "metadata": {},
   "outputs": [],
   "source": [
    "# Categorizing age\n",
    "def age_category(age):\n",
    "    if age <= 35:\n",
    "        return 'Young'\n",
    "    elif age <= 55:\n",
    "        return 'Middle'\n",
    "    elif age <= 65:\n",
    "        return 'Upper Middle'\n",
    "    else:\n",
    "        return 'Senior'\n",
    "\n",
    "cs_data['age_category'] = cs_data['dob_years'].apply(age_category)"
   ]
  },
  {
   "cell_type": "code",
   "execution_count": 505,
   "metadata": {
    "scrolled": false
   },
   "outputs": [
    {
     "data": {
      "image/png": "[encoded data removed]",
      "text/plain": [
       "<Figure size 720x432 with 1 Axes>"
      ]
     },
     "metadata": {},
     "output_type": "display_data"
    }
   ],
   "source": [
    "plt.figure(figsize=(10,6))\n",
    "sns.countplot(x='age_category', data=cs_data, order= cs_data['age_category'].value_counts().index)\n",
    "plt.show()"
   ]
  },
  {
   "cell_type": "markdown",
   "metadata": {},
   "source": [
    "# Kategorisasi Kolom `debt` <a id='category_debt'></a>"
   ]
  },
  {
   "cell_type": "code",
   "execution_count": 506,
   "metadata": {},
   "outputs": [
    {
     "data": {
      "text/html": [
       "<div>\n",
       "<style scoped>\n",
       "    .dataframe tbody tr th:only-of-type {\n",
       "        vertical-align: middle;\n",
       "    }\n",
       "\n",
       "    .dataframe tbody tr th {\n",
       "        vertical-align: top;\n",
       "    }\n",
       "\n",
       "    .dataframe thead th {\n",
       "        text-align: right;\n",
       "    }\n",
       "</style>\n",
       "<table border=\"1\" class=\"dataframe\">\n",
       "  <thead>\n",
       "    <tr style=\"text-align: right;\">\n",
       "      <th></th>\n",
       "      <th>debt</th>\n",
       "      <th>is_debt</th>\n",
       "    </tr>\n",
       "  </thead>\n",
       "  <tbody>\n",
       "    <tr>\n",
       "      <th>0</th>\n",
       "      <td>0</td>\n",
       "      <td>no debt</td>\n",
       "    </tr>\n",
       "    <tr>\n",
       "      <th>1</th>\n",
       "      <td>1</td>\n",
       "      <td>there is a debt</td>\n",
       "    </tr>\n",
       "  </tbody>\n",
       "</table>\n",
       "</div>"
      ],
      "text/plain": [
       "   debt          is_debt\n",
       "0     0          no debt\n",
       "1     1  there is a debt"
      ]
     },
     "execution_count": 506,
     "metadata": {},
     "output_type": "execute_result"
    }
   ],
   "source": [
    "# Categorizing debt\n",
    "def is_debt(debt):\n",
    "    if debt == 0 :\n",
    "        return 'no debt'\n",
    "    return 'there is a debt'\n",
    "\n",
    "# Menambah bidang 'is_debt'\n",
    "debt_dict['is_debt'] = debt_dict['debt'].apply(is_debt)\n",
    "debt_dict['is_debt'].value_counts()\n",
    "debt_dict"
   ]
  },
  {
   "cell_type": "code",
   "execution_count": 507,
   "metadata": {
    "scrolled": false
   },
   "outputs": [
    {
     "data": {
      "image/png": "[encoded data removed]",
      "text/plain": [
       "<Figure size 720x432 with 1 Axes>"
      ]
     },
     "metadata": {},
     "output_type": "display_data"
    }
   ],
   "source": [
    "plt.figure(figsize=(10,6))\n",
    "sns.countplot(x='debt', data=cs_data, order= cs_data['debt'].value_counts().index)\n",
    "plt.show()"
   ]
  },
  {
   "cell_type": "code",
   "execution_count": 508,
   "metadata": {
    "scrolled": false
   },
   "outputs": [
    {
     "data": {
      "text/html": [
       "<div>\n",
       "<style scoped>\n",
       "    .dataframe tbody tr th:only-of-type {\n",
       "        vertical-align: middle;\n",
       "    }\n",
       "\n",
       "    .dataframe tbody tr th {\n",
       "        vertical-align: top;\n",
       "    }\n",
       "\n",
       "    .dataframe thead th {\n",
       "        text-align: right;\n",
       "    }\n",
       "</style>\n",
       "<table border=\"1\" class=\"dataframe\">\n",
       "  <thead>\n",
       "    <tr style=\"text-align: right;\">\n",
       "      <th></th>\n",
       "      <th>children</th>\n",
       "      <th>days_employed</th>\n",
       "      <th>dob_years</th>\n",
       "      <th>education</th>\n",
       "      <th>education_id</th>\n",
       "      <th>family_status</th>\n",
       "      <th>family_status_id</th>\n",
       "      <th>gender</th>\n",
       "      <th>income_type</th>\n",
       "      <th>debt</th>\n",
       "      <th>total_income</th>\n",
       "      <th>purpose</th>\n",
       "      <th>age_group</th>\n",
       "      <th>child_groups</th>\n",
       "      <th>group_income</th>\n",
       "      <th>age_category</th>\n",
       "    </tr>\n",
       "  </thead>\n",
       "  <tbody>\n",
       "    <tr>\n",
       "      <th>0</th>\n",
       "      <td>1</td>\n",
       "      <td>8438</td>\n",
       "      <td>42</td>\n",
       "      <td>bachelor's degree</td>\n",
       "      <td>0</td>\n",
       "      <td>married</td>\n",
       "      <td>0</td>\n",
       "      <td>F</td>\n",
       "      <td>employee</td>\n",
       "      <td>0</td>\n",
       "      <td>40620</td>\n",
       "      <td>real estate transactions</td>\n",
       "      <td>40-49</td>\n",
       "      <td>1 child</td>\n",
       "      <td>Very High</td>\n",
       "      <td>Middle</td>\n",
       "    </tr>\n",
       "    <tr>\n",
       "      <th>1</th>\n",
       "      <td>1</td>\n",
       "      <td>4025</td>\n",
       "      <td>36</td>\n",
       "      <td>secondary education</td>\n",
       "      <td>1</td>\n",
       "      <td>married</td>\n",
       "      <td>0</td>\n",
       "      <td>F</td>\n",
       "      <td>employee</td>\n",
       "      <td>0</td>\n",
       "      <td>17932</td>\n",
       "      <td>buying a car</td>\n",
       "      <td>30-39</td>\n",
       "      <td>1 child</td>\n",
       "      <td>Middle</td>\n",
       "      <td>Middle</td>\n",
       "    </tr>\n",
       "    <tr>\n",
       "      <th>2</th>\n",
       "      <td>0</td>\n",
       "      <td>5624</td>\n",
       "      <td>33</td>\n",
       "      <td>secondary education</td>\n",
       "      <td>1</td>\n",
       "      <td>married</td>\n",
       "      <td>0</td>\n",
       "      <td>M</td>\n",
       "      <td>employee</td>\n",
       "      <td>0</td>\n",
       "      <td>23341</td>\n",
       "      <td>real estate transactions</td>\n",
       "      <td>30-39</td>\n",
       "      <td>no children</td>\n",
       "      <td>Upper Middle</td>\n",
       "      <td>Young</td>\n",
       "    </tr>\n",
       "    <tr>\n",
       "      <th>3</th>\n",
       "      <td>3</td>\n",
       "      <td>4125</td>\n",
       "      <td>32</td>\n",
       "      <td>secondary education</td>\n",
       "      <td>1</td>\n",
       "      <td>married</td>\n",
       "      <td>0</td>\n",
       "      <td>M</td>\n",
       "      <td>employee</td>\n",
       "      <td>0</td>\n",
       "      <td>42820</td>\n",
       "      <td>going to university</td>\n",
       "      <td>30-39</td>\n",
       "      <td>2 or more children</td>\n",
       "      <td>Very High</td>\n",
       "      <td>Young</td>\n",
       "    </tr>\n",
       "    <tr>\n",
       "      <th>4</th>\n",
       "      <td>0</td>\n",
       "      <td>340267</td>\n",
       "      <td>53</td>\n",
       "      <td>secondary education</td>\n",
       "      <td>1</td>\n",
       "      <td>civil partnership</td>\n",
       "      <td>1</td>\n",
       "      <td>F</td>\n",
       "      <td>retiree</td>\n",
       "      <td>0</td>\n",
       "      <td>25378</td>\n",
       "      <td>wedding ceremony</td>\n",
       "      <td>50-59</td>\n",
       "      <td>no children</td>\n",
       "      <td>High</td>\n",
       "      <td>Middle</td>\n",
       "    </tr>\n",
       "    <tr>\n",
       "      <th>5</th>\n",
       "      <td>0</td>\n",
       "      <td>927</td>\n",
       "      <td>27</td>\n",
       "      <td>bachelor's degree</td>\n",
       "      <td>0</td>\n",
       "      <td>civil partnership</td>\n",
       "      <td>1</td>\n",
       "      <td>M</td>\n",
       "      <td>business</td>\n",
       "      <td>0</td>\n",
       "      <td>40922</td>\n",
       "      <td>real estate transactions</td>\n",
       "      <td>20-29</td>\n",
       "      <td>no children</td>\n",
       "      <td>Very High</td>\n",
       "      <td>Young</td>\n",
       "    </tr>\n",
       "    <tr>\n",
       "      <th>6</th>\n",
       "      <td>0</td>\n",
       "      <td>2880</td>\n",
       "      <td>43</td>\n",
       "      <td>bachelor's degree</td>\n",
       "      <td>0</td>\n",
       "      <td>married</td>\n",
       "      <td>0</td>\n",
       "      <td>F</td>\n",
       "      <td>business</td>\n",
       "      <td>0</td>\n",
       "      <td>38484</td>\n",
       "      <td>real estate transactions</td>\n",
       "      <td>40-49</td>\n",
       "      <td>no children</td>\n",
       "      <td>Upper High</td>\n",
       "      <td>Middle</td>\n",
       "    </tr>\n",
       "    <tr>\n",
       "      <th>7</th>\n",
       "      <td>0</td>\n",
       "      <td>153</td>\n",
       "      <td>50</td>\n",
       "      <td>secondary education</td>\n",
       "      <td>1</td>\n",
       "      <td>married</td>\n",
       "      <td>0</td>\n",
       "      <td>M</td>\n",
       "      <td>employee</td>\n",
       "      <td>0</td>\n",
       "      <td>21731</td>\n",
       "      <td>going to university</td>\n",
       "      <td>50-59</td>\n",
       "      <td>no children</td>\n",
       "      <td>Upper Middle</td>\n",
       "      <td>Middle</td>\n",
       "    </tr>\n",
       "    <tr>\n",
       "      <th>8</th>\n",
       "      <td>2</td>\n",
       "      <td>6930</td>\n",
       "      <td>35</td>\n",
       "      <td>bachelor's degree</td>\n",
       "      <td>0</td>\n",
       "      <td>civil partnership</td>\n",
       "      <td>1</td>\n",
       "      <td>F</td>\n",
       "      <td>employee</td>\n",
       "      <td>0</td>\n",
       "      <td>15337</td>\n",
       "      <td>wedding ceremony</td>\n",
       "      <td>30-39</td>\n",
       "      <td>2 or more children</td>\n",
       "      <td>Middle</td>\n",
       "      <td>Young</td>\n",
       "    </tr>\n",
       "    <tr>\n",
       "      <th>9</th>\n",
       "      <td>0</td>\n",
       "      <td>2189</td>\n",
       "      <td>41</td>\n",
       "      <td>secondary education</td>\n",
       "      <td>1</td>\n",
       "      <td>married</td>\n",
       "      <td>0</td>\n",
       "      <td>M</td>\n",
       "      <td>employee</td>\n",
       "      <td>0</td>\n",
       "      <td>23108</td>\n",
       "      <td>real estate transactions</td>\n",
       "      <td>40-49</td>\n",
       "      <td>no children</td>\n",
       "      <td>Upper Middle</td>\n",
       "      <td>Middle</td>\n",
       "    </tr>\n",
       "  </tbody>\n",
       "</table>\n",
       "</div>"
      ],
      "text/plain": [
       "   children  days_employed  dob_years            education  education_id  \\\n",
       "0         1           8438         42    bachelor's degree             0   \n",
       "1         1           4025         36  secondary education             1   \n",
       "2         0           5624         33  secondary education             1   \n",
       "3         3           4125         32  secondary education             1   \n",
       "4         0         340267         53  secondary education             1   \n",
       "5         0            927         27    bachelor's degree             0   \n",
       "6         0           2880         43    bachelor's degree             0   \n",
       "7         0            153         50  secondary education             1   \n",
       "8         2           6930         35    bachelor's degree             0   \n",
       "9         0           2189         41  secondary education             1   \n",
       "\n",
       "       family_status  family_status_id gender income_type  debt  total_income  \\\n",
       "0            married                 0      F    employee     0         40620   \n",
       "1            married                 0      F    employee     0         17932   \n",
       "2            married                 0      M    employee     0         23341   \n",
       "3            married                 0      M    employee     0         42820   \n",
       "4  civil partnership                 1      F     retiree     0         25378   \n",
       "5  civil partnership                 1      M    business     0         40922   \n",
       "6            married                 0      F    business     0         38484   \n",
       "7            married                 0      M    employee     0         21731   \n",
       "8  civil partnership                 1      F    employee     0         15337   \n",
       "9            married                 0      M    employee     0         23108   \n",
       "\n",
       "                    purpose age_group        child_groups  group_income  \\\n",
       "0  real estate transactions     40-49             1 child     Very High   \n",
       "1              buying a car     30-39             1 child        Middle   \n",
       "2  real estate transactions     30-39         no children  Upper Middle   \n",
       "3       going to university     30-39  2 or more children     Very High   \n",
       "4          wedding ceremony     50-59         no children          High   \n",
       "5  real estate transactions     20-29         no children     Very High   \n",
       "6  real estate transactions     40-49         no children    Upper High   \n",
       "7       going to university     50-59         no children  Upper Middle   \n",
       "8          wedding ceremony     30-39  2 or more children        Middle   \n",
       "9  real estate transactions     40-49         no children  Upper Middle   \n",
       "\n",
       "  age_category  \n",
       "0       Middle  \n",
       "1       Middle  \n",
       "2        Young  \n",
       "3        Young  \n",
       "4       Middle  \n",
       "5        Young  \n",
       "6       Middle  \n",
       "7       Middle  \n",
       "8        Young  \n",
       "9       Middle  "
      ]
     },
     "execution_count": 508,
     "metadata": {},
     "output_type": "execute_result"
    }
   ],
   "source": [
    "cs_data.head(10)"
   ]
  },
  {
   "cell_type": "markdown",
   "metadata": {},
   "source": [
    "# Memeriksa hipotesis <a id='check_hypothesis'></a>\n"
   ]
  },
  {
   "cell_type": "markdown",
   "metadata": {},
   "source": [
    "**Apakah terdapat korelasi antara memiliki anak dengan probabilitas melakukan gagal bayar pinjaman?** <a id='children_number'></a>"
   ]
  },
  {
   "cell_type": "markdown",
   "metadata": {},
   "source": [
    "Mari kita lakukan analisis data Eksplorasi awal untuk melihat apakah kita dapat memvisualisasikan hubungan antara memiliki anak dan membayar kembali pinjaman tepat waktu. Kita mulai dengan memplot matriks korelasi."
   ]
  },
  {
   "cell_type": "code",
   "execution_count": 509,
   "metadata": {},
   "outputs": [
    {
     "data": {
      "image/png": "[encoded data removed]",
      "text/plain": [
       "<Figure size 720x576 with 2 Axes>"
      ]
     },
     "metadata": {},
     "output_type": "display_data"
    }
   ],
   "source": [
    "# Membuat matriks korelasi\n",
    "figsize(10, 8)\n",
    "corrMatrix = cs_data.corr()\n",
    "sns.heatmap(corrMatrix, annot=True)\n",
    "plt.title('Correlation Matrix Plot')\n",
    "plt.show()"
   ]
  },
  {
   "cell_type": "code",
   "execution_count": 510,
   "metadata": {
    "scrolled": false
   },
   "outputs": [
    {
     "data": {
      "text/plain": [
       "Text(0.5, 1.0, 'Korelasi antara memiliki anak dan pembayaran pinjaman tepat waktu')"
      ]
     },
     "execution_count": 510,
     "metadata": {},
     "output_type": "execute_result"
    },
    {
     "data": {
      "image/png": "[encoded data removed]",
      "text/plain": [
       "<Figure size 576x432 with 1 Axes>"
      ]
     },
     "metadata": {},
     "output_type": "display_data"
    }
   ],
   "source": [
    "# Memiliki anak sebagai prediktor potensial untuk membayar kembali pinjaman tepat waktu\n",
    "figsize(8, 6)\n",
    "sns.regplot(x='children', y='debt', data=cs_data)\n",
    "plt.ylim(0,)\n",
    "plt.title('Korelasi antara memiliki anak dan pembayaran pinjaman tepat waktu')"
   ]
  },
  {
   "cell_type": "markdown",
   "metadata": {},
   "source": [
    "Pertama kita mulai menganalisis data dengan membuat matriks korelasi. Matriks korelasi menunjukkan bahwa hubungan linier tidak terlalu kuat (~0,021) di seluruh kumpulan data. Tentu saja, kita perlu memahami bahwa korelasi tidak menyiratkan sebab akibat sehingga kita perlu mencari cara lain untuk mengekstrak informasi dari data tersebut. Salah satu caranya adalah dengan menggunakan tabel pivot dan memplot karakteristik tabel."
   ]
  },
  {
   "cell_type": "code",
   "execution_count": 511,
   "metadata": {
    "scrolled": false
   },
   "outputs": [
    {
     "data": {
      "text/html": [
       "<div>\n",
       "<style scoped>\n",
       "    .dataframe tbody tr th:only-of-type {\n",
       "        vertical-align: middle;\n",
       "    }\n",
       "\n",
       "    .dataframe tbody tr th {\n",
       "        vertical-align: top;\n",
       "    }\n",
       "\n",
       "    .dataframe thead tr th {\n",
       "        text-align: left;\n",
       "    }\n",
       "\n",
       "    .dataframe thead tr:last-of-type th {\n",
       "        text-align: right;\n",
       "    }\n",
       "</style>\n",
       "<table border=\"1\" class=\"dataframe\">\n",
       "  <thead>\n",
       "    <tr>\n",
       "      <th></th>\n",
       "      <th></th>\n",
       "      <th>sum</th>\n",
       "      <th>len</th>\n",
       "      <th>mean</th>\n",
       "    </tr>\n",
       "    <tr>\n",
       "      <th></th>\n",
       "      <th></th>\n",
       "      <th>debt</th>\n",
       "      <th>debt</th>\n",
       "      <th>debt</th>\n",
       "    </tr>\n",
       "    <tr>\n",
       "      <th>children</th>\n",
       "      <th>family_status</th>\n",
       "      <th></th>\n",
       "      <th></th>\n",
       "      <th></th>\n",
       "    </tr>\n",
       "  </thead>\n",
       "  <tbody>\n",
       "    <tr>\n",
       "      <th rowspan=\"5\" valign=\"top\">0</th>\n",
       "      <th>civil partnership</th>\n",
       "      <td>227</td>\n",
       "      <td>2715</td>\n",
       "      <td>0.083610</td>\n",
       "    </tr>\n",
       "    <tr>\n",
       "      <th>divorced</th>\n",
       "      <td>55</td>\n",
       "      <td>777</td>\n",
       "      <td>0.070785</td>\n",
       "    </tr>\n",
       "    <tr>\n",
       "      <th>married</th>\n",
       "      <td>514</td>\n",
       "      <td>7437</td>\n",
       "      <td>0.069114</td>\n",
       "    </tr>\n",
       "    <tr>\n",
       "      <th>unmarried</th>\n",
       "      <td>210</td>\n",
       "      <td>2248</td>\n",
       "      <td>0.093416</td>\n",
       "    </tr>\n",
       "    <tr>\n",
       "      <th>widow / widower</th>\n",
       "      <td>52</td>\n",
       "      <td>842</td>\n",
       "      <td>0.061758</td>\n",
       "    </tr>\n",
       "    <tr>\n",
       "      <th rowspan=\"5\" valign=\"top\">1</th>\n",
       "      <th>civil partnership</th>\n",
       "      <td>118</td>\n",
       "      <td>989</td>\n",
       "      <td>0.119312</td>\n",
       "    </tr>\n",
       "    <tr>\n",
       "      <th>divorced</th>\n",
       "      <td>21</td>\n",
       "      <td>311</td>\n",
       "      <td>0.067524</td>\n",
       "    </tr>\n",
       "    <tr>\n",
       "      <th>married</th>\n",
       "      <td>243</td>\n",
       "      <td>2967</td>\n",
       "      <td>0.081901</td>\n",
       "    </tr>\n",
       "    <tr>\n",
       "      <th>unmarried</th>\n",
       "      <td>51</td>\n",
       "      <td>447</td>\n",
       "      <td>0.114094</td>\n",
       "    </tr>\n",
       "    <tr>\n",
       "      <th>widow / widower</th>\n",
       "      <td>7</td>\n",
       "      <td>77</td>\n",
       "      <td>0.090909</td>\n",
       "    </tr>\n",
       "    <tr>\n",
       "      <th rowspan=\"5\" valign=\"top\">2</th>\n",
       "      <th>civil partnership</th>\n",
       "      <td>30</td>\n",
       "      <td>341</td>\n",
       "      <td>0.087977</td>\n",
       "    </tr>\n",
       "    <tr>\n",
       "      <th>divorced</th>\n",
       "      <td>7</td>\n",
       "      <td>79</td>\n",
       "      <td>0.088608</td>\n",
       "    </tr>\n",
       "    <tr>\n",
       "      <th>married</th>\n",
       "      <td>145</td>\n",
       "      <td>1525</td>\n",
       "      <td>0.095082</td>\n",
       "    </tr>\n",
       "    <tr>\n",
       "      <th>unmarried</th>\n",
       "      <td>9</td>\n",
       "      <td>74</td>\n",
       "      <td>0.121622</td>\n",
       "    </tr>\n",
       "    <tr>\n",
       "      <th>widow / widower</th>\n",
       "      <td>3</td>\n",
       "      <td>20</td>\n",
       "      <td>0.150000</td>\n",
       "    </tr>\n",
       "    <tr>\n",
       "      <th rowspan=\"5\" valign=\"top\">3</th>\n",
       "      <th>civil partnership</th>\n",
       "      <td>8</td>\n",
       "      <td>56</td>\n",
       "      <td>0.142857</td>\n",
       "    </tr>\n",
       "    <tr>\n",
       "      <th>divorced</th>\n",
       "      <td>1</td>\n",
       "      <td>11</td>\n",
       "      <td>0.090909</td>\n",
       "    </tr>\n",
       "    <tr>\n",
       "      <th>married</th>\n",
       "      <td>17</td>\n",
       "      <td>247</td>\n",
       "      <td>0.068826</td>\n",
       "    </tr>\n",
       "    <tr>\n",
       "      <th>unmarried</th>\n",
       "      <td>1</td>\n",
       "      <td>8</td>\n",
       "      <td>0.125000</td>\n",
       "    </tr>\n",
       "    <tr>\n",
       "      <th>widow / widower</th>\n",
       "      <td>0</td>\n",
       "      <td>6</td>\n",
       "      <td>0.000000</td>\n",
       "    </tr>\n",
       "    <tr>\n",
       "      <th rowspan=\"5\" valign=\"top\">4</th>\n",
       "      <th>civil partnership</th>\n",
       "      <td>0</td>\n",
       "      <td>8</td>\n",
       "      <td>0.000000</td>\n",
       "    </tr>\n",
       "    <tr>\n",
       "      <th>divorced</th>\n",
       "      <td>0</td>\n",
       "      <td>1</td>\n",
       "      <td>0.000000</td>\n",
       "    </tr>\n",
       "    <tr>\n",
       "      <th>married</th>\n",
       "      <td>3</td>\n",
       "      <td>29</td>\n",
       "      <td>0.103448</td>\n",
       "    </tr>\n",
       "    <tr>\n",
       "      <th>unmarried</th>\n",
       "      <td>1</td>\n",
       "      <td>2</td>\n",
       "      <td>0.500000</td>\n",
       "    </tr>\n",
       "    <tr>\n",
       "      <th>widow / widower</th>\n",
       "      <td>0</td>\n",
       "      <td>1</td>\n",
       "      <td>0.000000</td>\n",
       "    </tr>\n",
       "    <tr>\n",
       "      <th rowspan=\"2\" valign=\"top\">5</th>\n",
       "      <th>civil partnership</th>\n",
       "      <td>0</td>\n",
       "      <td>2</td>\n",
       "      <td>0.000000</td>\n",
       "    </tr>\n",
       "    <tr>\n",
       "      <th>married</th>\n",
       "      <td>0</td>\n",
       "      <td>7</td>\n",
       "      <td>0.000000</td>\n",
       "    </tr>\n",
       "  </tbody>\n",
       "</table>\n",
       "</div>"
      ],
      "text/plain": [
       "                            sum   len      mean\n",
       "                           debt  debt      debt\n",
       "children family_status                         \n",
       "0        civil partnership  227  2715  0.083610\n",
       "         divorced            55   777  0.070785\n",
       "         married            514  7437  0.069114\n",
       "         unmarried          210  2248  0.093416\n",
       "         widow / widower     52   842  0.061758\n",
       "1        civil partnership  118   989  0.119312\n",
       "         divorced            21   311  0.067524\n",
       "         married            243  2967  0.081901\n",
       "         unmarried           51   447  0.114094\n",
       "         widow / widower      7    77  0.090909\n",
       "2        civil partnership   30   341  0.087977\n",
       "         divorced             7    79  0.088608\n",
       "         married            145  1525  0.095082\n",
       "         unmarried            9    74  0.121622\n",
       "         widow / widower      3    20  0.150000\n",
       "3        civil partnership    8    56  0.142857\n",
       "         divorced             1    11  0.090909\n",
       "         married             17   247  0.068826\n",
       "         unmarried            1     8  0.125000\n",
       "         widow / widower      0     6  0.000000\n",
       "4        civil partnership    0     8  0.000000\n",
       "         divorced             0     1  0.000000\n",
       "         married              3    29  0.103448\n",
       "         unmarried            1     2  0.500000\n",
       "         widow / widower      0     1  0.000000\n",
       "5        civil partnership    0     2  0.000000\n",
       "         married              0     7  0.000000"
      ]
     },
     "execution_count": 511,
     "metadata": {},
     "output_type": "execute_result"
    }
   ],
   "source": [
    "# Menjalankan pivot table\n",
    "loan_table = pd.pivot_table(cs_data, index = ['children', 'family_status'],\n",
    "                            values = 'debt',\n",
    "                            aggfunc = ['sum', len, 'mean']\n",
    "                           )\n",
    "loan_table"
   ]
  },
  {
   "cell_type": "code",
   "execution_count": 512,
   "metadata": {},
   "outputs": [
    {
     "data": {
      "text/plain": [
       "Text(0.5, 1.0, 'debt vs number of children')"
      ]
     },
     "execution_count": 512,
     "metadata": {},
     "output_type": "execute_result"
    },
    {
     "data": {
      "image/png": "[encoded data removed]",
      "text/plain": [
       "<Figure size 576x432 with 1 Axes>"
      ]
     },
     "metadata": {},
     "output_type": "display_data"
    }
   ],
   "source": [
    "# Memplot debt vs number of children\n",
    "sns.set()\n",
    "pd.pivot_table(cs_data, index = 'children', values = 'debt').plot(kind= 'bar')\n",
    "plt.ylabel('debt')\n",
    "plt.title('debt vs number of children')"
   ]
  },
  {
   "cell_type": "markdown",
   "metadata": {},
   "source": [
    "Secara keseluruhan, kita dapat melihat bahwa orang dengan lebih banyak anak cenderung memiliki lebih banyak hutang. Ini adalah angka yang masuk akal ketika kita mempertimbangkan fakta bahwa memiliki lebih banyak anak berarti memiliki lebih banyak tanggung jawab. Kita bisa terus membedah data untuk menambah wawasan dengan melihat debt vs number of children dengan pertimbangan family_status."
   ]
  },
  {
   "cell_type": "code",
   "execution_count": 513,
   "metadata": {
    "scrolled": false
   },
   "outputs": [
    {
     "data": {
      "text/plain": [
       "Text(0.5, 1.0, 'debt vs number of children with family status consideration')"
      ]
     },
     "execution_count": 513,
     "metadata": {},
     "output_type": "execute_result"
    },
    {
     "data": {
      "image/png": "[encoded data removed]",
      "text/plain": [
       "<Figure size 576x432 with 1 Axes>"
      ]
     },
     "metadata": {},
     "output_type": "display_data"
    }
   ],
   "source": [
    "# Memplot debt vs number of children with family status consideration\n",
    "sns.set()\n",
    "pd.pivot_table(cs_data, index = 'children', columns= 'family_status', values = 'debt').plot(kind= 'bar')\n",
    "plt.ylabel('debt')\n",
    "plt.title('debt vs number of children with family status consideration')"
   ]
  },
  {
   "cell_type": "code",
   "execution_count": 514,
   "metadata": {},
   "outputs": [
    {
     "data": {
      "text/html": [
       "<div>\n",
       "<style scoped>\n",
       "    .dataframe tbody tr th:only-of-type {\n",
       "        vertical-align: middle;\n",
       "    }\n",
       "\n",
       "    .dataframe tbody tr th {\n",
       "        vertical-align: top;\n",
       "    }\n",
       "\n",
       "    .dataframe thead th {\n",
       "        text-align: right;\n",
       "    }\n",
       "</style>\n",
       "<table border=\"1\" class=\"dataframe\">\n",
       "  <thead>\n",
       "    <tr style=\"text-align: right;\">\n",
       "      <th>is_debt</th>\n",
       "      <th>no debt</th>\n",
       "      <th>there is a debt</th>\n",
       "      <th>ratio</th>\n",
       "    </tr>\n",
       "    <tr>\n",
       "      <th>is_children</th>\n",
       "      <th></th>\n",
       "      <th></th>\n",
       "      <th></th>\n",
       "    </tr>\n",
       "  </thead>\n",
       "  <tbody>\n",
       "    <tr>\n",
       "      <th>Have children</th>\n",
       "      <td>6543</td>\n",
       "      <td>665</td>\n",
       "      <td>0.092259</td>\n",
       "    </tr>\n",
       "    <tr>\n",
       "      <th>No children</th>\n",
       "      <td>12961</td>\n",
       "      <td>1058</td>\n",
       "      <td>0.075469</td>\n",
       "    </tr>\n",
       "  </tbody>\n",
       "</table>\n",
       "</div>"
      ],
      "text/plain": [
       "is_debt        no debt  there is a debt     ratio\n",
       "is_children                                      \n",
       "Have children     6543              665  0.092259\n",
       "No children      12961             1058  0.075469"
      ]
     },
     "execution_count": 514,
     "metadata": {},
     "output_type": "execute_result"
    }
   ],
   "source": [
    "# Periksa data anak dan data gagal bayar pinjaman\n",
    "children_debt = cs_data[['children','debt','purpose']]\n",
    "children_debt = children_dict.merge(children_debt, on='children', how='right')\n",
    "children_debt = debt_dict.merge(children_debt, on='debt', how='right')\n",
    "\n",
    "\n",
    "# Hitung persentase gagal bayar berdasarkan jumlah anak\n",
    "# Membuat pivot table\n",
    "cd_pivot = children_debt.pivot_table(index='is_children', columns='is_debt', values='purpose', aggfunc='count')\n",
    "cd_pivot['ratio'] = cd_pivot.loc[:,'there is a debt']/( cd_pivot.loc[:,'no debt'] + cd_pivot.loc[:,'there is a debt'])\n",
    "cd_pivot"
   ]
  },
  {
   "cell_type": "markdown",
   "metadata": {},
   "source": [
    "**Kesimpulan**\n",
    "\n",
    "* Jika seseorang memiliki anak, kemungkinan besar pinjaman tidak akan dilunasi tepat waktu.\n",
    "* Orang-orang tanpa anak memiliki lebih sedikit masalah dalam membayar kembali pinjaman tepat waktu.\n",
    "* Dari plot di atas, kita dapat mengamati bahwa orang yang dengan lebih dari 4 anak pada umumnya cenderung lebih banyak berhutang daripada orang dengan anak lebih sedikit."
   ]
  },
  {
   "cell_type": "markdown",
   "metadata": {},
   "source": [
    "**Apakah terdapat korelasi antara status keluarga dengan probabilitas melakukan gagal bayar pinjaman?** <a id='family_status'></a>"
   ]
  },
  {
   "cell_type": "markdown",
   "metadata": {},
   "source": [
    "Kita mulai dengan melihat matriks korelasi. Saya melihat korelasi yang lemah antara family_status dan membayar kembali pinjaman tepat waktu di seluruh data. Kita dapat mengiris data dengan menggunakan tabel pivot untuk menghasilkan lebih banyak informasi."
   ]
  },
  {
   "cell_type": "code",
   "execution_count": 515,
   "metadata": {},
   "outputs": [],
   "source": [
    "# Membuat copy dataframe untuk keperluan encoding\n",
    "cs_data_encode = cs_data.copy()"
   ]
  },
  {
   "cell_type": "code",
   "execution_count": 516,
   "metadata": {},
   "outputs": [
    {
     "name": "stdout",
     "output_type": "stream",
     "text": [
      "{'family_status': {'civil partnership': 1, 'divorced': 2, 'married': 3, 'unmarried': 4, 'widow / widower': 5}}\n"
     ]
    }
   ],
   "source": [
    "# Encoding kolom 'family_status' \n",
    "labels = cs_data_encode['family_status'].astype('category').cat.categories.tolist()\n",
    "family_status_encode = {'family_status' : {k: v for k,v in zip(labels, list(range(1, len(labels)+1)))}}\n",
    "\n",
    "print(family_status_encode)\n",
    "cs_data_encode.replace(family_status_encode, inplace =True)"
   ]
  },
  {
   "cell_type": "code",
   "execution_count": 517,
   "metadata": {},
   "outputs": [
    {
     "data": {
      "text/plain": [
       "Text(0.5, 1.0, 'Korelasi antara family_status dan tepat waktu pembayaran pinjaman')"
      ]
     },
     "execution_count": 517,
     "metadata": {},
     "output_type": "execute_result"
    },
    {
     "data": {
      "image/png": "[encoded data removed]",
      "text/plain": [
       "<Figure size 576x432 with 1 Axes>"
      ]
     },
     "metadata": {},
     "output_type": "display_data"
    }
   ],
   "source": [
    "# family_status sebagai prediktor potensial untuk membayar kembali pinjaman tepat waktu\n",
    "figsize(8, 6)\n",
    "sns.regplot(x='family_status', y='debt', data=cs_data_encode)\n",
    "plt.ylim(0,)\n",
    "plt.title('Korelasi antara family_status dan tepat waktu pembayaran pinjaman')"
   ]
  },
  {
   "cell_type": "code",
   "execution_count": 518,
   "metadata": {
    "scrolled": false
   },
   "outputs": [
    {
     "data": {
      "text/html": [
       "<div>\n",
       "<style scoped>\n",
       "    .dataframe tbody tr th:only-of-type {\n",
       "        vertical-align: middle;\n",
       "    }\n",
       "\n",
       "    .dataframe tbody tr th {\n",
       "        vertical-align: top;\n",
       "    }\n",
       "\n",
       "    .dataframe thead tr th {\n",
       "        text-align: left;\n",
       "    }\n",
       "\n",
       "    .dataframe thead tr:last-of-type th {\n",
       "        text-align: right;\n",
       "    }\n",
       "</style>\n",
       "<table border=\"1\" class=\"dataframe\">\n",
       "  <thead>\n",
       "    <tr>\n",
       "      <th></th>\n",
       "      <th>sum</th>\n",
       "      <th>len</th>\n",
       "      <th>mean</th>\n",
       "    </tr>\n",
       "    <tr>\n",
       "      <th></th>\n",
       "      <th>debt</th>\n",
       "      <th>debt</th>\n",
       "      <th>debt</th>\n",
       "    </tr>\n",
       "    <tr>\n",
       "      <th>family_status</th>\n",
       "      <th></th>\n",
       "      <th></th>\n",
       "      <th></th>\n",
       "    </tr>\n",
       "  </thead>\n",
       "  <tbody>\n",
       "    <tr>\n",
       "      <th>civil partnership</th>\n",
       "      <td>383</td>\n",
       "      <td>4111</td>\n",
       "      <td>0.093165</td>\n",
       "    </tr>\n",
       "    <tr>\n",
       "      <th>divorced</th>\n",
       "      <td>84</td>\n",
       "      <td>1179</td>\n",
       "      <td>0.071247</td>\n",
       "    </tr>\n",
       "    <tr>\n",
       "      <th>married</th>\n",
       "      <td>922</td>\n",
       "      <td>12212</td>\n",
       "      <td>0.075500</td>\n",
       "    </tr>\n",
       "    <tr>\n",
       "      <th>unmarried</th>\n",
       "      <td>272</td>\n",
       "      <td>2779</td>\n",
       "      <td>0.097877</td>\n",
       "    </tr>\n",
       "    <tr>\n",
       "      <th>widow / widower</th>\n",
       "      <td>62</td>\n",
       "      <td>946</td>\n",
       "      <td>0.065539</td>\n",
       "    </tr>\n",
       "  </tbody>\n",
       "</table>\n",
       "</div>"
      ],
      "text/plain": [
       "                   sum    len      mean\n",
       "                  debt   debt      debt\n",
       "family_status                          \n",
       "civil partnership  383   4111  0.093165\n",
       "divorced            84   1179  0.071247\n",
       "married            922  12212  0.075500\n",
       "unmarried          272   2779  0.097877\n",
       "widow / widower     62    946  0.065539"
      ]
     },
     "execution_count": 518,
     "metadata": {},
     "output_type": "execute_result"
    }
   ],
   "source": [
    "# Menjalankan pivot table\n",
    "pd.pivot_table(cs_data, index = ['family_status'],\n",
    "                            values = 'debt',\n",
    "                            aggfunc = ['sum', len, 'mean']\n",
    "                           )"
   ]
  },
  {
   "cell_type": "code",
   "execution_count": 519,
   "metadata": {
    "scrolled": false
   },
   "outputs": [
    {
     "data": {
      "text/plain": [
       "Text(0.5, 1.0, 'debt vs family status')"
      ]
     },
     "execution_count": 519,
     "metadata": {},
     "output_type": "execute_result"
    },
    {
     "data": {
      "image/png": "[encoded data removed]",
      "text/plain": [
       "<Figure size 576x432 with 1 Axes>"
      ]
     },
     "metadata": {},
     "output_type": "display_data"
    }
   ],
   "source": [
    "# Memplot family_status vs debt\n",
    "sns.set()\n",
    "pd.pivot_table(cs_data, index = 'family_status', values = 'debt').plot(kind= 'bar')\n",
    "plt.ylabel('debt')\n",
    "plt.title('debt vs family status')"
   ]
  },
  {
   "cell_type": "markdown",
   "metadata": {},
   "source": [
    "* Dari plot di atas, orang yang belum menikah memiliki kemungkinan lebih untuk berhutang daripada orang yang sudah menikah. \n",
    "* Janda / duda paling kecil kemungkinannya untuk berhutang dibandingkan kelompok lain mana pun."
   ]
  },
  {
   "cell_type": "code",
   "execution_count": 520,
   "metadata": {
    "scrolled": false
   },
   "outputs": [
    {
     "data": {
      "text/html": [
       "<div>\n",
       "<style scoped>\n",
       "    .dataframe tbody tr th:only-of-type {\n",
       "        vertical-align: middle;\n",
       "    }\n",
       "\n",
       "    .dataframe tbody tr th {\n",
       "        vertical-align: top;\n",
       "    }\n",
       "\n",
       "    .dataframe thead tr th {\n",
       "        text-align: left;\n",
       "    }\n",
       "\n",
       "    .dataframe thead tr:last-of-type th {\n",
       "        text-align: right;\n",
       "    }\n",
       "</style>\n",
       "<table border=\"1\" class=\"dataframe\">\n",
       "  <thead>\n",
       "    <tr>\n",
       "      <th></th>\n",
       "      <th></th>\n",
       "      <th>len</th>\n",
       "      <th>mean</th>\n",
       "    </tr>\n",
       "    <tr>\n",
       "      <th></th>\n",
       "      <th></th>\n",
       "      <th>debt</th>\n",
       "      <th>debt</th>\n",
       "    </tr>\n",
       "    <tr>\n",
       "      <th>family_status</th>\n",
       "      <th>education</th>\n",
       "      <th></th>\n",
       "      <th></th>\n",
       "    </tr>\n",
       "  </thead>\n",
       "  <tbody>\n",
       "    <tr>\n",
       "      <th rowspan=\"4\" valign=\"top\">civil partnership</th>\n",
       "      <th>bachelor's degree</th>\n",
       "      <td>944</td>\n",
       "      <td>0.058263</td>\n",
       "    </tr>\n",
       "    <tr>\n",
       "      <th>primary education</th>\n",
       "      <td>56</td>\n",
       "      <td>0.196429</td>\n",
       "    </tr>\n",
       "    <tr>\n",
       "      <th>secondary education</th>\n",
       "      <td>2949</td>\n",
       "      <td>0.102747</td>\n",
       "    </tr>\n",
       "    <tr>\n",
       "      <th>some college</th>\n",
       "      <td>162</td>\n",
       "      <td>0.086420</td>\n",
       "    </tr>\n",
       "    <tr>\n",
       "      <th rowspan=\"5\" valign=\"top\">divorced</th>\n",
       "      <th>bachelor's degree</th>\n",
       "      <td>310</td>\n",
       "      <td>0.048387</td>\n",
       "    </tr>\n",
       "    <tr>\n",
       "      <th>graduate degree</th>\n",
       "      <td>1</td>\n",
       "      <td>0.000000</td>\n",
       "    </tr>\n",
       "    <tr>\n",
       "      <th>primary education</th>\n",
       "      <td>20</td>\n",
       "      <td>0.100000</td>\n",
       "    </tr>\n",
       "    <tr>\n",
       "      <th>secondary education</th>\n",
       "      <td>817</td>\n",
       "      <td>0.077111</td>\n",
       "    </tr>\n",
       "    <tr>\n",
       "      <th>some college</th>\n",
       "      <td>31</td>\n",
       "      <td>0.129032</td>\n",
       "    </tr>\n",
       "    <tr>\n",
       "      <th rowspan=\"5\" valign=\"top\">married</th>\n",
       "      <th>bachelor's degree</th>\n",
       "      <td>3011</td>\n",
       "      <td>0.051478</td>\n",
       "    </tr>\n",
       "    <tr>\n",
       "      <th>graduate degree</th>\n",
       "      <td>4</td>\n",
       "      <td>0.000000</td>\n",
       "    </tr>\n",
       "    <tr>\n",
       "      <th>primary education</th>\n",
       "      <td>141</td>\n",
       "      <td>0.106383</td>\n",
       "    </tr>\n",
       "    <tr>\n",
       "      <th>secondary education</th>\n",
       "      <td>8716</td>\n",
       "      <td>0.082836</td>\n",
       "    </tr>\n",
       "    <tr>\n",
       "      <th>some college</th>\n",
       "      <td>340</td>\n",
       "      <td>0.088235</td>\n",
       "    </tr>\n",
       "    <tr>\n",
       "      <th rowspan=\"5\" valign=\"top\">unmarried</th>\n",
       "      <th>bachelor's degree</th>\n",
       "      <td>792</td>\n",
       "      <td>0.058081</td>\n",
       "    </tr>\n",
       "    <tr>\n",
       "      <th>graduate degree</th>\n",
       "      <td>1</td>\n",
       "      <td>0.000000</td>\n",
       "    </tr>\n",
       "    <tr>\n",
       "      <th>primary education</th>\n",
       "      <td>34</td>\n",
       "      <td>0.088235</td>\n",
       "    </tr>\n",
       "    <tr>\n",
       "      <th>secondary education</th>\n",
       "      <td>1760</td>\n",
       "      <td>0.116477</td>\n",
       "    </tr>\n",
       "    <tr>\n",
       "      <th>some college</th>\n",
       "      <td>192</td>\n",
       "      <td>0.093750</td>\n",
       "    </tr>\n",
       "    <tr>\n",
       "      <th rowspan=\"4\" valign=\"top\">widow / widower</th>\n",
       "      <th>bachelor's degree</th>\n",
       "      <td>133</td>\n",
       "      <td>0.045113</td>\n",
       "    </tr>\n",
       "    <tr>\n",
       "      <th>primary education</th>\n",
       "      <td>31</td>\n",
       "      <td>0.000000</td>\n",
       "    </tr>\n",
       "    <tr>\n",
       "      <th>secondary education</th>\n",
       "      <td>769</td>\n",
       "      <td>0.070221</td>\n",
       "    </tr>\n",
       "    <tr>\n",
       "      <th>some college</th>\n",
       "      <td>13</td>\n",
       "      <td>0.153846</td>\n",
       "    </tr>\n",
       "  </tbody>\n",
       "</table>\n",
       "</div>"
      ],
      "text/plain": [
       "                                        len      mean\n",
       "                                       debt      debt\n",
       "family_status     education                          \n",
       "civil partnership bachelor's degree     944  0.058263\n",
       "                  primary education      56  0.196429\n",
       "                  secondary education  2949  0.102747\n",
       "                  some college          162  0.086420\n",
       "divorced          bachelor's degree     310  0.048387\n",
       "                  graduate degree         1  0.000000\n",
       "                  primary education      20  0.100000\n",
       "                  secondary education   817  0.077111\n",
       "                  some college           31  0.129032\n",
       "married           bachelor's degree    3011  0.051478\n",
       "                  graduate degree         4  0.000000\n",
       "                  primary education     141  0.106383\n",
       "                  secondary education  8716  0.082836\n",
       "                  some college          340  0.088235\n",
       "unmarried         bachelor's degree     792  0.058081\n",
       "                  graduate degree         1  0.000000\n",
       "                  primary education      34  0.088235\n",
       "                  secondary education  1760  0.116477\n",
       "                  some college          192  0.093750\n",
       "widow / widower   bachelor's degree     133  0.045113\n",
       "                  primary education      31  0.000000\n",
       "                  secondary education   769  0.070221\n",
       "                  some college           13  0.153846"
      ]
     },
     "execution_count": 520,
     "metadata": {},
     "output_type": "execute_result"
    }
   ],
   "source": [
    "# Pivot table untuk family_status, debt and education\n",
    "loan_table1 = pd.pivot_table(cs_data, \n",
    "                             index = ['family_status', 'education'], \n",
    "                             values= 'debt', \n",
    "                             aggfunc = [len, 'mean']\n",
    "                            )\n",
    "loan_table1"
   ]
  },
  {
   "cell_type": "code",
   "execution_count": 521,
   "metadata": {},
   "outputs": [
    {
     "data": {
      "text/plain": [
       "Text(0.5, 1.0, 'debt vs family status with education level consideration')"
      ]
     },
     "execution_count": 521,
     "metadata": {},
     "output_type": "execute_result"
    },
    {
     "data": {
      "image/png": "[encoded data removed]",
      "text/plain": [
       "<Figure size 576x432 with 1 Axes>"
      ]
     },
     "metadata": {},
     "output_type": "display_data"
    }
   ],
   "source": [
    "# Memplot debt vs family_status with education level consideration\n",
    "sns.set()\n",
    "pd.pivot_table(cs_data, index = 'family_status', columns= 'education', values = 'debt').plot(kind= 'bar')\n",
    "\n",
    "plt.ylabel('debt')\n",
    "plt.title('debt vs family status with education level consideration')"
   ]
  },
  {
   "cell_type": "markdown",
   "metadata": {},
   "source": [
    "* Kita dapat melihat bahwa ketika kita mempertimbangkan status keluarga di seluruh tingkat pendidikan, data memberi tahu kita bahwa orang dengan gelar sarjana lebih kecil kemungkinannya untuk berhutang dibandingkan kelompok lain mana pun. \n",
    "* Janda/duda dengan beberapa gelar sarjana lebih cenderung berhutang daripada tingkat status keluarga lainnya dengan tingkat gelar yang sama. \n",
    "* civil partnership dengan primary education lebih cenderung berhutang daripada tingkat status keluarga lainnya dengan tingkat gelar yang sama."
   ]
  },
  {
   "cell_type": "code",
   "execution_count": 522,
   "metadata": {
    "scrolled": true
   },
   "outputs": [
    {
     "data": {
      "text/html": [
       "<div>\n",
       "<style scoped>\n",
       "    .dataframe tbody tr th:only-of-type {\n",
       "        vertical-align: middle;\n",
       "    }\n",
       "\n",
       "    .dataframe tbody tr th {\n",
       "        vertical-align: top;\n",
       "    }\n",
       "\n",
       "    .dataframe thead th {\n",
       "        text-align: right;\n",
       "    }\n",
       "</style>\n",
       "<table border=\"1\" class=\"dataframe\">\n",
       "  <thead>\n",
       "    <tr style=\"text-align: right;\">\n",
       "      <th>is_debt</th>\n",
       "      <th>no debt</th>\n",
       "      <th>there is a debt</th>\n",
       "      <th>ratio</th>\n",
       "    </tr>\n",
       "    <tr>\n",
       "      <th>family_status</th>\n",
       "      <th></th>\n",
       "      <th></th>\n",
       "      <th></th>\n",
       "    </tr>\n",
       "  </thead>\n",
       "  <tbody>\n",
       "    <tr>\n",
       "      <th>widow / widower</th>\n",
       "      <td>884</td>\n",
       "      <td>62</td>\n",
       "      <td>0.065539</td>\n",
       "    </tr>\n",
       "    <tr>\n",
       "      <th>divorced</th>\n",
       "      <td>1095</td>\n",
       "      <td>84</td>\n",
       "      <td>0.071247</td>\n",
       "    </tr>\n",
       "    <tr>\n",
       "      <th>married</th>\n",
       "      <td>11290</td>\n",
       "      <td>922</td>\n",
       "      <td>0.075500</td>\n",
       "    </tr>\n",
       "    <tr>\n",
       "      <th>civil partnership</th>\n",
       "      <td>3728</td>\n",
       "      <td>383</td>\n",
       "      <td>0.093165</td>\n",
       "    </tr>\n",
       "    <tr>\n",
       "      <th>unmarried</th>\n",
       "      <td>2507</td>\n",
       "      <td>272</td>\n",
       "      <td>0.097877</td>\n",
       "    </tr>\n",
       "  </tbody>\n",
       "</table>\n",
       "</div>"
      ],
      "text/plain": [
       "is_debt            no debt  there is a debt     ratio\n",
       "family_status                                        \n",
       "widow / widower        884               62  0.065539\n",
       "divorced              1095               84  0.071247\n",
       "married              11290              922  0.075500\n",
       "civil partnership     3728              383  0.093165\n",
       "unmarried             2507              272  0.097877"
      ]
     },
     "execution_count": 522,
     "metadata": {},
     "output_type": "execute_result"
    }
   ],
   "source": [
    "# Periksa data status keluarga dan data gagal bayar pinjaman\n",
    "marital_debt = cs_data[['family_status','debt','purpose']]\n",
    "marital_debt = debt_dict.merge(marital_debt, on='debt', how='right')\n",
    "\n",
    "\n",
    "# Hitung persentase gagal bayar berdasarkan status keluarga\n",
    "md_pivot = marital_debt.pivot_table(index='family_status', columns='is_debt', values='purpose', aggfunc='count')\n",
    "md_pivot['ratio'] = md_pivot.loc[:,'there is a debt']/( md_pivot.loc[:,'no debt'] + md_pivot.loc[:,'there is a debt'])\n",
    "md_pivot.sort_values(by='ratio', ascending = True)\n"
   ]
  },
  {
   "cell_type": "markdown",
   "metadata": {},
   "source": [
    "**Kesimpulan**\n",
    "\n",
    "* Setelah menganalisis data yang diperoleh, kita dapat mengatakan bahwa 'janda / duda' dan 'bercerai' memiliki lebih sedikit tunggakan pinjaman, dan kelompok 'belum menikah' memiliki indikator terburuk dalam pengembalian pinjaman tepat waktu. \n",
    "* Orang yang belum menikah memiliki kemungkinan lebih sedikit untuk berhutang daripada orang yang sudah menikah. \n",
    "* Janda / duda paling kecil kemungkinannya untuk berhutang dibandingkan kelompok lain mana pun."
   ]
  },
  {
   "cell_type": "markdown",
   "metadata": {},
   "source": [
    "**Apakah terdapat korelasi antara tingkat pendapatan dengan probabilitas melakukan gagal bayar pinjaman?** <a id='total_income'></a>"
   ]
  },
  {
   "cell_type": "code",
   "execution_count": 523,
   "metadata": {},
   "outputs": [
    {
     "data": {
      "text/plain": [
       "Text(0.5, 1.0, 'Korelasi antara total_income dan pembayaran pinjaman tepat waktu')"
      ]
     },
     "execution_count": 523,
     "metadata": {},
     "output_type": "execute_result"
    },
    {
     "data": {
      "image/png": "[encoded data removed]",
      "text/plain": [
       "<Figure size 576x432 with 1 Axes>"
      ]
     },
     "metadata": {},
     "output_type": "display_data"
    }
   ],
   "source": [
    "# total_income sebagai prediktor potensial untuk membayar kembali pinjaman tepat waktu\n",
    "figsize(8, 6)\n",
    "sns.regplot(x='total_income', y='debt', data=cs_data_encode)\n",
    "plt.ylim(0,)\n",
    "plt.title('Korelasi antara total_income dan pembayaran pinjaman tepat waktu')"
   ]
  },
  {
   "cell_type": "code",
   "execution_count": 524,
   "metadata": {},
   "outputs": [
    {
     "data": {
      "text/html": [
       "<div>\n",
       "<style scoped>\n",
       "    .dataframe tbody tr th:only-of-type {\n",
       "        vertical-align: middle;\n",
       "    }\n",
       "\n",
       "    .dataframe tbody tr th {\n",
       "        vertical-align: top;\n",
       "    }\n",
       "\n",
       "    .dataframe thead th {\n",
       "        text-align: right;\n",
       "    }\n",
       "</style>\n",
       "<table border=\"1\" class=\"dataframe\">\n",
       "  <thead>\n",
       "    <tr style=\"text-align: right;\">\n",
       "      <th></th>\n",
       "      <th>children</th>\n",
       "      <th>days_employed</th>\n",
       "      <th>debt</th>\n",
       "      <th>dob_years</th>\n",
       "      <th>education_id</th>\n",
       "      <th>family_status_id</th>\n",
       "    </tr>\n",
       "    <tr>\n",
       "      <th>total_income</th>\n",
       "      <th></th>\n",
       "      <th></th>\n",
       "      <th></th>\n",
       "      <th></th>\n",
       "      <th></th>\n",
       "      <th></th>\n",
       "    </tr>\n",
       "  </thead>\n",
       "  <tbody>\n",
       "    <tr>\n",
       "      <th>3306</th>\n",
       "      <td>0.0</td>\n",
       "      <td>359220.0</td>\n",
       "      <td>1.0</td>\n",
       "      <td>57.0</td>\n",
       "      <td>1.0</td>\n",
       "      <td>0.0</td>\n",
       "    </tr>\n",
       "    <tr>\n",
       "      <th>3392</th>\n",
       "      <td>0.0</td>\n",
       "      <td>369709.0</td>\n",
       "      <td>0.0</td>\n",
       "      <td>37.0</td>\n",
       "      <td>1.0</td>\n",
       "      <td>1.0</td>\n",
       "    </tr>\n",
       "    <tr>\n",
       "      <th>3418</th>\n",
       "      <td>1.0</td>\n",
       "      <td>3643.0</td>\n",
       "      <td>0.0</td>\n",
       "      <td>52.0</td>\n",
       "      <td>1.0</td>\n",
       "      <td>0.0</td>\n",
       "    </tr>\n",
       "    <tr>\n",
       "      <th>3471</th>\n",
       "      <td>0.0</td>\n",
       "      <td>359727.0</td>\n",
       "      <td>0.0</td>\n",
       "      <td>68.0</td>\n",
       "      <td>1.0</td>\n",
       "      <td>1.0</td>\n",
       "    </tr>\n",
       "    <tr>\n",
       "      <th>3503</th>\n",
       "      <td>0.0</td>\n",
       "      <td>346603.0</td>\n",
       "      <td>0.0</td>\n",
       "      <td>61.0</td>\n",
       "      <td>1.0</td>\n",
       "      <td>0.0</td>\n",
       "    </tr>\n",
       "    <tr>\n",
       "      <th>...</th>\n",
       "      <td>...</td>\n",
       "      <td>...</td>\n",
       "      <td>...</td>\n",
       "      <td>...</td>\n",
       "      <td>...</td>\n",
       "      <td>...</td>\n",
       "    </tr>\n",
       "    <tr>\n",
       "      <th>273809</th>\n",
       "      <td>0.0</td>\n",
       "      <td>5735.0</td>\n",
       "      <td>0.0</td>\n",
       "      <td>42.0</td>\n",
       "      <td>0.0</td>\n",
       "      <td>1.0</td>\n",
       "    </tr>\n",
       "    <tr>\n",
       "      <th>274402</th>\n",
       "      <td>0.0</td>\n",
       "      <td>4720.0</td>\n",
       "      <td>0.0</td>\n",
       "      <td>61.0</td>\n",
       "      <td>1.0</td>\n",
       "      <td>4.0</td>\n",
       "    </tr>\n",
       "    <tr>\n",
       "      <th>276204</th>\n",
       "      <td>1.0</td>\n",
       "      <td>5249.0</td>\n",
       "      <td>0.0</td>\n",
       "      <td>35.0</td>\n",
       "      <td>1.0</td>\n",
       "      <td>1.0</td>\n",
       "    </tr>\n",
       "    <tr>\n",
       "      <th>352136</th>\n",
       "      <td>1.0</td>\n",
       "      <td>2578.0</td>\n",
       "      <td>1.0</td>\n",
       "      <td>39.0</td>\n",
       "      <td>0.0</td>\n",
       "      <td>0.0</td>\n",
       "    </tr>\n",
       "    <tr>\n",
       "      <th>362496</th>\n",
       "      <td>0.0</td>\n",
       "      <td>1478.0</td>\n",
       "      <td>0.0</td>\n",
       "      <td>44.0</td>\n",
       "      <td>0.0</td>\n",
       "      <td>0.0</td>\n",
       "    </tr>\n",
       "  </tbody>\n",
       "</table>\n",
       "<p>15262 rows × 6 columns</p>\n",
       "</div>"
      ],
      "text/plain": [
       "              children  days_employed  debt  dob_years  education_id  \\\n",
       "total_income                                                           \n",
       "3306               0.0       359220.0   1.0       57.0           1.0   \n",
       "3392               0.0       369709.0   0.0       37.0           1.0   \n",
       "3418               1.0         3643.0   0.0       52.0           1.0   \n",
       "3471               0.0       359727.0   0.0       68.0           1.0   \n",
       "3503               0.0       346603.0   0.0       61.0           1.0   \n",
       "...                ...            ...   ...        ...           ...   \n",
       "273809             0.0         5735.0   0.0       42.0           0.0   \n",
       "274402             0.0         4720.0   0.0       61.0           1.0   \n",
       "276204             1.0         5249.0   0.0       35.0           1.0   \n",
       "352136             1.0         2578.0   1.0       39.0           0.0   \n",
       "362496             0.0         1478.0   0.0       44.0           0.0   \n",
       "\n",
       "              family_status_id  \n",
       "total_income                    \n",
       "3306                       0.0  \n",
       "3392                       1.0  \n",
       "3418                       0.0  \n",
       "3471                       1.0  \n",
       "3503                       0.0  \n",
       "...                        ...  \n",
       "273809                     1.0  \n",
       "274402                     4.0  \n",
       "276204                     1.0  \n",
       "352136                     0.0  \n",
       "362496                     0.0  \n",
       "\n",
       "[15262 rows x 6 columns]"
      ]
     },
     "execution_count": 524,
     "metadata": {},
     "output_type": "execute_result"
    }
   ],
   "source": [
    "# Menjalankan pivot table\n",
    "pd.pivot_table(cs_data, index = ['total_income'])"
   ]
  },
  {
   "cell_type": "code",
   "execution_count": 525,
   "metadata": {},
   "outputs": [
    {
     "data": {
      "text/plain": [
       "Text(0.5, 1.0, 'total income vs debt')"
      ]
     },
     "execution_count": 525,
     "metadata": {},
     "output_type": "execute_result"
    },
    {
     "data": {
      "image/png": "[encoded data removed]",
      "text/plain": [
       "<Figure size 576x432 with 1 Axes>"
      ]
     },
     "metadata": {},
     "output_type": "display_data"
    }
   ],
   "source": [
    "# Memplot total_income vs debt\n",
    "sns.set()\n",
    "pd.pivot_table(cs_data, index = 'debt', values = 'total_income').plot(kind= 'bar')\n",
    "plt.ylabel('total_income')\n",
    "plt.title('total income vs debt')"
   ]
  },
  {
   "cell_type": "code",
   "execution_count": 526,
   "metadata": {},
   "outputs": [
    {
     "data": {
      "text/html": [
       "<div>\n",
       "<style scoped>\n",
       "    .dataframe tbody tr th:only-of-type {\n",
       "        vertical-align: middle;\n",
       "    }\n",
       "\n",
       "    .dataframe tbody tr th {\n",
       "        vertical-align: top;\n",
       "    }\n",
       "\n",
       "    .dataframe thead tr th {\n",
       "        text-align: left;\n",
       "    }\n",
       "\n",
       "    .dataframe thead tr:last-of-type th {\n",
       "        text-align: right;\n",
       "    }\n",
       "</style>\n",
       "<table border=\"1\" class=\"dataframe\">\n",
       "  <thead>\n",
       "    <tr>\n",
       "      <th></th>\n",
       "      <th>mean</th>\n",
       "      <th>min</th>\n",
       "      <th>max</th>\n",
       "    </tr>\n",
       "    <tr>\n",
       "      <th></th>\n",
       "      <th>debt</th>\n",
       "      <th>debt</th>\n",
       "      <th>debt</th>\n",
       "    </tr>\n",
       "    <tr>\n",
       "      <th>total_income</th>\n",
       "      <th></th>\n",
       "      <th></th>\n",
       "      <th></th>\n",
       "    </tr>\n",
       "  </thead>\n",
       "  <tbody>\n",
       "    <tr>\n",
       "      <th>3306</th>\n",
       "      <td>1.0</td>\n",
       "      <td>1</td>\n",
       "      <td>1</td>\n",
       "    </tr>\n",
       "    <tr>\n",
       "      <th>3392</th>\n",
       "      <td>0.0</td>\n",
       "      <td>0</td>\n",
       "      <td>0</td>\n",
       "    </tr>\n",
       "    <tr>\n",
       "      <th>3418</th>\n",
       "      <td>0.0</td>\n",
       "      <td>0</td>\n",
       "      <td>0</td>\n",
       "    </tr>\n",
       "    <tr>\n",
       "      <th>3471</th>\n",
       "      <td>0.0</td>\n",
       "      <td>0</td>\n",
       "      <td>0</td>\n",
       "    </tr>\n",
       "    <tr>\n",
       "      <th>3503</th>\n",
       "      <td>0.0</td>\n",
       "      <td>0</td>\n",
       "      <td>0</td>\n",
       "    </tr>\n",
       "    <tr>\n",
       "      <th>...</th>\n",
       "      <td>...</td>\n",
       "      <td>...</td>\n",
       "      <td>...</td>\n",
       "    </tr>\n",
       "    <tr>\n",
       "      <th>273809</th>\n",
       "      <td>0.0</td>\n",
       "      <td>0</td>\n",
       "      <td>0</td>\n",
       "    </tr>\n",
       "    <tr>\n",
       "      <th>274402</th>\n",
       "      <td>0.0</td>\n",
       "      <td>0</td>\n",
       "      <td>0</td>\n",
       "    </tr>\n",
       "    <tr>\n",
       "      <th>276204</th>\n",
       "      <td>0.0</td>\n",
       "      <td>0</td>\n",
       "      <td>0</td>\n",
       "    </tr>\n",
       "    <tr>\n",
       "      <th>352136</th>\n",
       "      <td>1.0</td>\n",
       "      <td>1</td>\n",
       "      <td>1</td>\n",
       "    </tr>\n",
       "    <tr>\n",
       "      <th>362496</th>\n",
       "      <td>0.0</td>\n",
       "      <td>0</td>\n",
       "      <td>0</td>\n",
       "    </tr>\n",
       "  </tbody>\n",
       "</table>\n",
       "<p>15262 rows × 3 columns</p>\n",
       "</div>"
      ],
      "text/plain": [
       "             mean  min  max\n",
       "             debt debt debt\n",
       "total_income               \n",
       "3306          1.0    1    1\n",
       "3392          0.0    0    0\n",
       "3418          0.0    0    0\n",
       "3471          0.0    0    0\n",
       "3503          0.0    0    0\n",
       "...           ...  ...  ...\n",
       "273809        0.0    0    0\n",
       "274402        0.0    0    0\n",
       "276204        0.0    0    0\n",
       "352136        1.0    1    1\n",
       "362496        0.0    0    0\n",
       "\n",
       "[15262 rows x 3 columns]"
      ]
     },
     "execution_count": 526,
     "metadata": {},
     "output_type": "execute_result"
    }
   ],
   "source": [
    "# Pivot table total_income vs debt\n",
    "loan_table2 = pd.pivot_table(cs_data, \n",
    "                             index = 'total_income', \n",
    "                             values= 'debt', \n",
    "                             aggfunc = ['mean', min, max]\n",
    "                            )\n",
    "loan_table2"
   ]
  },
  {
   "cell_type": "code",
   "execution_count": 527,
   "metadata": {},
   "outputs": [
    {
     "data": {
      "image/png": "[encoded data removed]",
      "text/plain": [
       "<Figure size 576x432 with 1 Axes>"
      ]
     },
     "metadata": {},
     "output_type": "display_data"
    }
   ],
   "source": [
    "# Menjalankan scatter plot \n",
    "ax = sns.scatterplot(x='total_income', y='debt', data=cs_data )"
   ]
  },
  {
   "cell_type": "code",
   "execution_count": 528,
   "metadata": {},
   "outputs": [
    {
     "data": {
      "text/html": [
       "<div>\n",
       "<style scoped>\n",
       "    .dataframe tbody tr th:only-of-type {\n",
       "        vertical-align: middle;\n",
       "    }\n",
       "\n",
       "    .dataframe tbody tr th {\n",
       "        vertical-align: top;\n",
       "    }\n",
       "\n",
       "    .dataframe thead th {\n",
       "        text-align: right;\n",
       "    }\n",
       "</style>\n",
       "<table border=\"1\" class=\"dataframe\">\n",
       "  <thead>\n",
       "    <tr style=\"text-align: right;\">\n",
       "      <th>is_debt</th>\n",
       "      <th>no debt</th>\n",
       "      <th>there is a debt</th>\n",
       "      <th>ratio</th>\n",
       "    </tr>\n",
       "    <tr>\n",
       "      <th>name_group_income</th>\n",
       "      <th></th>\n",
       "      <th></th>\n",
       "      <th></th>\n",
       "    </tr>\n",
       "  </thead>\n",
       "  <tbody>\n",
       "    <tr>\n",
       "      <th>30000 - 40000</th>\n",
       "      <td>2591</td>\n",
       "      <td>193</td>\n",
       "      <td>0.069325</td>\n",
       "    </tr>\n",
       "    <tr>\n",
       "      <th>&gt; 40000</th>\n",
       "      <td>2835</td>\n",
       "      <td>240</td>\n",
       "      <td>0.078049</td>\n",
       "    </tr>\n",
       "    <tr>\n",
       "      <th>&lt; 15000</th>\n",
       "      <td>3409</td>\n",
       "      <td>296</td>\n",
       "      <td>0.079892</td>\n",
       "    </tr>\n",
       "    <tr>\n",
       "      <th>25000 - 30000</th>\n",
       "      <td>2886</td>\n",
       "      <td>265</td>\n",
       "      <td>0.084100</td>\n",
       "    </tr>\n",
       "    <tr>\n",
       "      <th>20000 - 25000</th>\n",
       "      <td>4156</td>\n",
       "      <td>387</td>\n",
       "      <td>0.085186</td>\n",
       "    </tr>\n",
       "    <tr>\n",
       "      <th>15000 - 20000</th>\n",
       "      <td>3627</td>\n",
       "      <td>342</td>\n",
       "      <td>0.086168</td>\n",
       "    </tr>\n",
       "  </tbody>\n",
       "</table>\n",
       "</div>"
      ],
      "text/plain": [
       "is_debt            no debt  there is a debt     ratio\n",
       "name_group_income                                    \n",
       "30000 - 40000         2591              193  0.069325\n",
       "> 40000               2835              240  0.078049\n",
       "< 15000               3409              296  0.079892\n",
       "25000 - 30000         2886              265  0.084100\n",
       "20000 - 25000         4156              387  0.085186\n",
       "15000 - 20000         3627              342  0.086168"
      ]
     },
     "execution_count": 528,
     "metadata": {},
     "output_type": "execute_result"
    }
   ],
   "source": [
    "# Periksa data tingkat pendapatan dan data gagal bayar pinjaman\n",
    "total_income_debt = cs_data[['group_income','debt','purpose']]\n",
    "total_income_debt = total_income_dict.merge(total_income_debt, on='group_income', how='right')\n",
    "total_income_debt = debt_dict.merge(total_income_debt, on='debt', how='right')\n",
    "total_income_debt\n",
    "\n",
    "\n",
    "\n",
    "# Hitung persentase gagal bayar berdasarkan tingkat pendapatan\n",
    "tid_pivot = total_income_debt.pivot_table(index='name_group_income', columns='is_debt', values='purpose', aggfunc='count')\n",
    "tid_pivot['ratio'] = tid_pivot.loc[:,'there is a debt']/( tid_pivot.loc[:,'no debt'] + tid_pivot.loc[:,'there is a debt'])\n",
    "tid_pivot.sort_values(by='ratio', ascending = True)"
   ]
  },
  {
   "cell_type": "markdown",
   "metadata": {},
   "source": [
    "**Kesimpulan**\n",
    "\n",
    "* Dari matriks korelasi, kita memiliki korelasi negatif yang lemah antara total_income dan debt. Melihat lebih jauh pada tabel pivot, kita tidak dapat memperoleh hubungan apa pun antara total_income dan debt.\n",
    "* Dengan menganalisis hasil pivot table terakhir, kita melihat bahwa peminjam terbaik adalah klien dengan pendapatan 30.000 - 40.000, dan peminjam yang paling tidak dapat diandalkan adalah klien dengan pendapatan 15.000 - 20.000 atau 20.000 - 25.000."
   ]
  },
  {
   "cell_type": "markdown",
   "metadata": {},
   "source": [
    "**Bagaimana tujuan kredit memengaruhi persentase gagal bayar?** <a id='purpose'></a>"
   ]
  },
  {
   "cell_type": "code",
   "execution_count": 529,
   "metadata": {},
   "outputs": [
    {
     "name": "stdout",
     "output_type": "stream",
     "text": [
      "{'purpose': {'buying a car': 1, 'going to university': 2, 'real estate transactions': 3, 'wedding ceremony': 4}}\n"
     ]
    }
   ],
   "source": [
    "# Encoding kolom 'purpose' \n",
    "labels = cs_data_encode['purpose'].astype('category').cat.categories.tolist()\n",
    "purpose_encode = {'purpose' : {k: v for k,v in zip(labels, list(range(1, len(labels)+1)))}}\n",
    "\n",
    "print(purpose_encode)\n",
    "cs_data_encode.replace(purpose_encode, inplace =True)"
   ]
  },
  {
   "cell_type": "code",
   "execution_count": 530,
   "metadata": {
    "scrolled": false
   },
   "outputs": [
    {
     "data": {
      "text/plain": [
       "Text(0.5, 1.0, 'Hubungan antara tujuan pinjaman dan ketepatan waktu pengembalian pinjaman')"
      ]
     },
     "execution_count": 530,
     "metadata": {},
     "output_type": "execute_result"
    },
    {
     "data": {
      "image/png": "[encoded data removed]",
      "text/plain": [
       "<Figure size 648x432 with 1 Axes>"
      ]
     },
     "metadata": {},
     "output_type": "display_data"
    }
   ],
   "source": [
    "# Tujuan pinjaman yang berbeda sebagai prediktor potensial untuk membayar kembali pinjaman tepat waktu\n",
    "sns.catplot(x='purpose', y='debt', kind='box', data=cs_data_encode, height=6, aspect=1.5)\n",
    "plt.ylim(0,)\n",
    "plt.title('Hubungan antara tujuan pinjaman dan ketepatan waktu pengembalian pinjaman')"
   ]
  },
  {
   "cell_type": "code",
   "execution_count": 531,
   "metadata": {},
   "outputs": [
    {
     "data": {
      "text/html": [
       "<div>\n",
       "<style scoped>\n",
       "    .dataframe tbody tr th:only-of-type {\n",
       "        vertical-align: middle;\n",
       "    }\n",
       "\n",
       "    .dataframe tbody tr th {\n",
       "        vertical-align: top;\n",
       "    }\n",
       "\n",
       "    .dataframe thead th {\n",
       "        text-align: right;\n",
       "    }\n",
       "</style>\n",
       "<table border=\"1\" class=\"dataframe\">\n",
       "  <thead>\n",
       "    <tr style=\"text-align: right;\">\n",
       "      <th></th>\n",
       "      <th>children</th>\n",
       "      <th>days_employed</th>\n",
       "      <th>debt</th>\n",
       "      <th>dob_years</th>\n",
       "      <th>education_id</th>\n",
       "      <th>family_status_id</th>\n",
       "      <th>total_income</th>\n",
       "    </tr>\n",
       "    <tr>\n",
       "      <th>purpose</th>\n",
       "      <th></th>\n",
       "      <th></th>\n",
       "      <th></th>\n",
       "      <th></th>\n",
       "      <th></th>\n",
       "      <th></th>\n",
       "      <th></th>\n",
       "    </tr>\n",
       "  </thead>\n",
       "  <tbody>\n",
       "    <tr>\n",
       "      <th>buying a car</th>\n",
       "      <td>0.465477</td>\n",
       "      <td>67104.723344</td>\n",
       "      <td>0.093236</td>\n",
       "      <td>43.718178</td>\n",
       "      <td>0.820808</td>\n",
       "      <td>0.990136</td>\n",
       "      <td>26438.994364</td>\n",
       "    </tr>\n",
       "    <tr>\n",
       "      <th>going to university</th>\n",
       "      <td>0.480353</td>\n",
       "      <td>65382.584131</td>\n",
       "      <td>0.092947</td>\n",
       "      <td>43.612343</td>\n",
       "      <td>0.829723</td>\n",
       "      <td>0.954408</td>\n",
       "      <td>26022.466499</td>\n",
       "    </tr>\n",
       "    <tr>\n",
       "      <th>real estate transactions</th>\n",
       "      <td>0.476729</td>\n",
       "      <td>63234.266355</td>\n",
       "      <td>0.072523</td>\n",
       "      <td>43.363271</td>\n",
       "      <td>0.815888</td>\n",
       "      <td>0.967477</td>\n",
       "      <td>26684.121963</td>\n",
       "    </tr>\n",
       "    <tr>\n",
       "      <th>wedding ceremony</th>\n",
       "      <td>0.466290</td>\n",
       "      <td>66061.613310</td>\n",
       "      <td>0.078730</td>\n",
       "      <td>43.392779</td>\n",
       "      <td>0.799478</td>\n",
       "      <td>1.000000</td>\n",
       "      <td>26233.782514</td>\n",
       "    </tr>\n",
       "  </tbody>\n",
       "</table>\n",
       "</div>"
      ],
      "text/plain": [
       "                          children  days_employed      debt  dob_years  \\\n",
       "purpose                                                                  \n",
       "buying a car              0.465477   67104.723344  0.093236  43.718178   \n",
       "going to university       0.480353   65382.584131  0.092947  43.612343   \n",
       "real estate transactions  0.476729   63234.266355  0.072523  43.363271   \n",
       "wedding ceremony          0.466290   66061.613310  0.078730  43.392779   \n",
       "\n",
       "                          education_id  family_status_id  total_income  \n",
       "purpose                                                                 \n",
       "buying a car                  0.820808          0.990136  26438.994364  \n",
       "going to university           0.829723          0.954408  26022.466499  \n",
       "real estate transactions      0.815888          0.967477  26684.121963  \n",
       "wedding ceremony              0.799478          1.000000  26233.782514  "
      ]
     },
     "execution_count": 531,
     "metadata": {},
     "output_type": "execute_result"
    }
   ],
   "source": [
    "# Menjalankan pivot table\n",
    "pd.pivot_table(cs_data, index = ['purpose'])"
   ]
  },
  {
   "cell_type": "code",
   "execution_count": 532,
   "metadata": {},
   "outputs": [
    {
     "data": {
      "text/html": [
       "<div>\n",
       "<style scoped>\n",
       "    .dataframe tbody tr th:only-of-type {\n",
       "        vertical-align: middle;\n",
       "    }\n",
       "\n",
       "    .dataframe tbody tr th {\n",
       "        vertical-align: top;\n",
       "    }\n",
       "\n",
       "    .dataframe thead tr th {\n",
       "        text-align: left;\n",
       "    }\n",
       "\n",
       "    .dataframe thead tr:last-of-type th {\n",
       "        text-align: right;\n",
       "    }\n",
       "</style>\n",
       "<table border=\"1\" class=\"dataframe\">\n",
       "  <thead>\n",
       "    <tr>\n",
       "      <th></th>\n",
       "      <th>sum</th>\n",
       "      <th>len</th>\n",
       "      <th>mean</th>\n",
       "    </tr>\n",
       "    <tr>\n",
       "      <th></th>\n",
       "      <th>debt</th>\n",
       "      <th>debt</th>\n",
       "      <th>debt</th>\n",
       "    </tr>\n",
       "    <tr>\n",
       "      <th>purpose</th>\n",
       "      <th></th>\n",
       "      <th></th>\n",
       "      <th></th>\n",
       "    </tr>\n",
       "  </thead>\n",
       "  <tbody>\n",
       "    <tr>\n",
       "      <th>buying a car</th>\n",
       "      <td>397</td>\n",
       "      <td>4258</td>\n",
       "      <td>0.093236</td>\n",
       "    </tr>\n",
       "    <tr>\n",
       "      <th>going to university</th>\n",
       "      <td>369</td>\n",
       "      <td>3970</td>\n",
       "      <td>0.092947</td>\n",
       "    </tr>\n",
       "    <tr>\n",
       "      <th>real estate transactions</th>\n",
       "      <td>776</td>\n",
       "      <td>10700</td>\n",
       "      <td>0.072523</td>\n",
       "    </tr>\n",
       "    <tr>\n",
       "      <th>wedding ceremony</th>\n",
       "      <td>181</td>\n",
       "      <td>2299</td>\n",
       "      <td>0.078730</td>\n",
       "    </tr>\n",
       "  </tbody>\n",
       "</table>\n",
       "</div>"
      ],
      "text/plain": [
       "                          sum    len      mean\n",
       "                         debt   debt      debt\n",
       "purpose                                       \n",
       "buying a car              397   4258  0.093236\n",
       "going to university       369   3970  0.092947\n",
       "real estate transactions  776  10700  0.072523\n",
       "wedding ceremony          181   2299  0.078730"
      ]
     },
     "execution_count": 532,
     "metadata": {},
     "output_type": "execute_result"
    }
   ],
   "source": [
    "# Pivot table with purpose vs debt\n",
    "loan_table3 = pd.pivot_table(cs_data, \n",
    "                             index = ['purpose'], \n",
    "                             values= 'debt', \n",
    "                             aggfunc = ['sum', len, 'mean']\n",
    "                            )\n",
    "loan_table3"
   ]
  },
  {
   "cell_type": "code",
   "execution_count": 533,
   "metadata": {},
   "outputs": [
    {
     "data": {
      "text/plain": [
       "Text(0.5, 1.0, 'debt vs purpose')"
      ]
     },
     "execution_count": 533,
     "metadata": {},
     "output_type": "execute_result"
    },
    {
     "data": {
      "image/png": "[encoded data removed]",
      "text/plain": [
       "<Figure size 576x432 with 1 Axes>"
      ]
     },
     "metadata": {},
     "output_type": "display_data"
    }
   ],
   "source": [
    "# Memplot purpose vs debt\n",
    "sns.set()\n",
    "pd.pivot_table(cs_data, index = 'purpose', values = 'debt').plot(kind= 'bar')\n",
    "plt.ylabel('debt')\n",
    "plt.title('debt vs purpose')"
   ]
  },
  {
   "cell_type": "code",
   "execution_count": 534,
   "metadata": {},
   "outputs": [
    {
     "data": {
      "text/html": [
       "<div>\n",
       "<style scoped>\n",
       "    .dataframe tbody tr th:only-of-type {\n",
       "        vertical-align: middle;\n",
       "    }\n",
       "\n",
       "    .dataframe tbody tr th {\n",
       "        vertical-align: top;\n",
       "    }\n",
       "\n",
       "    .dataframe thead th {\n",
       "        text-align: right;\n",
       "    }\n",
       "</style>\n",
       "<table border=\"1\" class=\"dataframe\">\n",
       "  <thead>\n",
       "    <tr style=\"text-align: right;\">\n",
       "      <th>is_debt</th>\n",
       "      <th>no debt</th>\n",
       "      <th>there is a debt</th>\n",
       "      <th>ratio</th>\n",
       "    </tr>\n",
       "    <tr>\n",
       "      <th>purpose</th>\n",
       "      <th></th>\n",
       "      <th></th>\n",
       "      <th></th>\n",
       "    </tr>\n",
       "  </thead>\n",
       "  <tbody>\n",
       "    <tr>\n",
       "      <th>real estate transactions</th>\n",
       "      <td>9924</td>\n",
       "      <td>776</td>\n",
       "      <td>0.072523</td>\n",
       "    </tr>\n",
       "    <tr>\n",
       "      <th>wedding ceremony</th>\n",
       "      <td>2118</td>\n",
       "      <td>181</td>\n",
       "      <td>0.078730</td>\n",
       "    </tr>\n",
       "    <tr>\n",
       "      <th>going to university</th>\n",
       "      <td>3601</td>\n",
       "      <td>369</td>\n",
       "      <td>0.092947</td>\n",
       "    </tr>\n",
       "    <tr>\n",
       "      <th>buying a car</th>\n",
       "      <td>3861</td>\n",
       "      <td>397</td>\n",
       "      <td>0.093236</td>\n",
       "    </tr>\n",
       "  </tbody>\n",
       "</table>\n",
       "</div>"
      ],
      "text/plain": [
       "is_debt                   no debt  there is a debt     ratio\n",
       "purpose                                                     \n",
       "real estate transactions     9924              776  0.072523\n",
       "wedding ceremony             2118              181  0.078730\n",
       "going to university          3601              369  0.092947\n",
       "buying a car                 3861              397  0.093236"
      ]
     },
     "execution_count": 534,
     "metadata": {},
     "output_type": "execute_result"
    }
   ],
   "source": [
    "# Periksa persentase tingkat gagal bayar untuk setiap tujuan kredit dan lakukan penganalisisan\n",
    "purposes_debt = cs_data[['purpose','debt','dob_years']]\n",
    "purposes_debt = debt_dict.merge(purposes_debt, on='debt', how='right')\n",
    "purposes_debt\n",
    "\n",
    "# Membuat pivot table\n",
    "pd_pivot = purposes_debt.pivot_table(index='purpose', columns='is_debt', values='dob_years', aggfunc='count')\n",
    "pd_pivot['ratio'] = pd_pivot.loc[:,'there is a debt']/( pd_pivot.loc[:,'no debt'] + pd_pivot.loc[:,'there is a debt'])\n",
    "pd_pivot.sort_values(by='ratio', ascending = True)\n"
   ]
  },
  {
   "cell_type": "markdown",
   "metadata": {},
   "source": [
    "**Kesimpulan**\n",
    "\n",
    "* Setelah menganalisis data yang diperoleh, kita dapat mengatakan bahwa peminjam terbaik adalah mereka yang mengambil pinjaman untuk real estate transactions.\n",
    "* Orang yang melakukan peminjaman untuk pembelian mobil kemungkinan lebih besar tidak akan membayar tepat waktu."
   ]
  },
  {
   "cell_type": "markdown",
   "metadata": {},
   "source": [
    "# Kesimpulan Umum <a id='general_conclusion'></a>\n",
    "\n",
    "**Jumlah anak, status keluarga, pendapatan, dan tujuan pinjaman dapat digunakan untuk meningkatkan validitas sistem penilaian kredit.**\n",
    "\n",
    "**Risiko pinjaman yang lebih baik (persentase gagal bayar pinjaman yang lebih rendah):**\n",
    "* Tidak punya anak\n",
    "* Janda/duda\n",
    "* Bercerai\n",
    "* Pendapatan > 30k\n",
    "* Tujuan pinjaman: real estate transactions dan wedding ceremony\n",
    "\n",
    "**Risiko pinjaman yang lebih tinggi (persentase gagal bayar pinjaman yang lebih tinggi):**\n",
    "* Mempunyai anak\n",
    "* Belum menikah\n",
    "* Dalam Serikat sipil\n",
    "* Pendapatan < 30K\n",
    "* Tujuan pinjaman: going to university dan buying a car"
   ]
  }
 ],
 "metadata": {
  "ExecuteTimeLog": [
   {
    "duration": 2741,
    "start_time": "2021-10-21T01:08:49.480Z"
   },
   {
    "duration": 52,
    "start_time": "2021-10-21T01:08:53.315Z"
   },
   {
    "duration": 49,
    "start_time": "2021-10-21T01:08:57.432Z"
   },
   {
    "duration": 70,
    "start_time": "2021-10-21T01:09:07.706Z"
   }
  ],
  "kernelspec": {
   "display_name": "Python 3 (ipykernel)",
   "language": "python",
   "name": "python3"
  },
  "language_info": {
   "codemirror_mode": {
    "name": "ipython",
    "version": 3
   },
   "file_extension": ".py",
   "mimetype": "text/x-python",
   "name": "python",
   "nbconvert_exporter": "python",
   "pygments_lexer": "ipython3",
   "version": "3.9.4"
  },
  "toc": {
   "base_numbering": 1,
   "nav_menu": {},
   "number_sections": true,
   "sideBar": true,
   "skip_h1_title": true,
   "title_cell": "Table of Contents",
   "title_sidebar": "Contents",
   "toc_cell": false,
   "toc_position": {},
   "toc_section_display": true,
   "toc_window_display": false
  },
  "vscode": {
   "interpreter": {
    "hash": "ef1728426330606e01c1da091626d7dbd7604032247e9790b44969d857c4f729"
   }
  }
 },
 "nbformat": 4,
 "nbformat_minor": 2
}
